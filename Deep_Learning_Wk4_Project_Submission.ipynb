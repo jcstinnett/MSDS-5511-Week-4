{
  "cells": [
    {
      "cell_type": "markdown",
      "id": "00d28898-107f-4b36-9633-5b620aa96671",
      "metadata": {
        "id": "00d28898-107f-4b36-9633-5b620aa96671"
      },
      "source": [
        "# Imports"
      ]
    },
    {
      "cell_type": "code",
      "source": [
        "!pip install keras-tuner"
      ],
      "metadata": {
        "colab": {
          "base_uri": "https://localhost:8080/"
        },
        "id": "A_hYM_GcKO6t",
        "outputId": "f165217d-00c0-422b-e71a-da3d67ec5e83"
      },
      "id": "A_hYM_GcKO6t",
      "execution_count": 322,
      "outputs": [
        {
          "output_type": "stream",
          "name": "stdout",
          "text": [
            "Requirement already satisfied: keras-tuner in /usr/local/lib/python3.11/dist-packages (1.4.7)\n",
            "Requirement already satisfied: keras in /usr/local/lib/python3.11/dist-packages (from keras-tuner) (3.8.0)\n",
            "Requirement already satisfied: packaging in /usr/local/lib/python3.11/dist-packages (from keras-tuner) (24.2)\n",
            "Requirement already satisfied: requests in /usr/local/lib/python3.11/dist-packages (from keras-tuner) (2.32.3)\n",
            "Requirement already satisfied: kt-legacy in /usr/local/lib/python3.11/dist-packages (from keras-tuner) (1.0.5)\n",
            "Requirement already satisfied: absl-py in /usr/local/lib/python3.11/dist-packages (from keras->keras-tuner) (1.4.0)\n",
            "Requirement already satisfied: numpy in /usr/local/lib/python3.11/dist-packages (from keras->keras-tuner) (2.0.2)\n",
            "Requirement already satisfied: rich in /usr/local/lib/python3.11/dist-packages (from keras->keras-tuner) (13.9.4)\n",
            "Requirement already satisfied: namex in /usr/local/lib/python3.11/dist-packages (from keras->keras-tuner) (0.0.9)\n",
            "Requirement already satisfied: h5py in /usr/local/lib/python3.11/dist-packages (from keras->keras-tuner) (3.13.0)\n",
            "Requirement already satisfied: optree in /usr/local/lib/python3.11/dist-packages (from keras->keras-tuner) (0.15.0)\n",
            "Requirement already satisfied: ml-dtypes in /usr/local/lib/python3.11/dist-packages (from keras->keras-tuner) (0.4.1)\n",
            "Requirement already satisfied: charset-normalizer<4,>=2 in /usr/local/lib/python3.11/dist-packages (from requests->keras-tuner) (3.4.2)\n",
            "Requirement already satisfied: idna<4,>=2.5 in /usr/local/lib/python3.11/dist-packages (from requests->keras-tuner) (3.10)\n",
            "Requirement already satisfied: urllib3<3,>=1.21.1 in /usr/local/lib/python3.11/dist-packages (from requests->keras-tuner) (2.4.0)\n",
            "Requirement already satisfied: certifi>=2017.4.17 in /usr/local/lib/python3.11/dist-packages (from requests->keras-tuner) (2025.4.26)\n",
            "Requirement already satisfied: typing-extensions>=4.5.0 in /usr/local/lib/python3.11/dist-packages (from optree->keras->keras-tuner) (4.13.2)\n",
            "Requirement already satisfied: markdown-it-py>=2.2.0 in /usr/local/lib/python3.11/dist-packages (from rich->keras->keras-tuner) (3.0.0)\n",
            "Requirement already satisfied: pygments<3.0.0,>=2.13.0 in /usr/local/lib/python3.11/dist-packages (from rich->keras->keras-tuner) (2.19.1)\n",
            "Requirement already satisfied: mdurl~=0.1 in /usr/local/lib/python3.11/dist-packages (from markdown-it-py>=2.2.0->rich->keras->keras-tuner) (0.1.2)\n"
          ]
        }
      ]
    },
    {
      "cell_type": "code",
      "execution_count": 323,
      "id": "0cf1375c-aaae-42f7-a437-2d8f1f8edf33",
      "metadata": {
        "id": "0cf1375c-aaae-42f7-a437-2d8f1f8edf33"
      },
      "outputs": [],
      "source": [
        "from google.colab import drive\n",
        "import os\n",
        "import pandas as pd\n",
        "import seaborn as sns\n",
        "import matplotlib.pyplot as plt\n",
        "from IPython.display import display #check to see if this is used\n",
        "from collections import Counter, defaultdict\n",
        "from sklearn.feature_extraction.text import ENGLISH_STOP_WORDS, CountVectorizer, TfidfVectorizer\n",
        "import re\n",
        "import nltk\n",
        "from nltk.corpus import stopwords\n",
        "from nltk.stem import WordNetLemmatizer\n",
        "from sklearn.model_selection import train_test_split\n",
        "from tensorflow.keras.preprocessing.text import Tokenizer\n",
        "from tensorflow.keras.preprocessing.sequence import pad_sequences\n",
        "from keras.layers import Embedding\n",
        "import tensorflow as tf\n",
        "import numpy as np\n",
        "import html\n",
        "from sklearn.metrics import f1_score, confusion_matrix, ConfusionMatrixDisplay\n",
        "import pickle\n",
        "from tensorflow import keras\n",
        "import keras_tuner as kt"
      ]
    },
    {
      "cell_type": "markdown",
      "source": [
        "#### Configure for reproducibility"
      ],
      "metadata": {
        "id": "YcE5mWPxFTFE"
      },
      "id": "YcE5mWPxFTFE"
    },
    {
      "cell_type": "code",
      "source": [
        "SEED = 42\n",
        "tf.keras.utils.set_random_seed(SEED)\n",
        "tf.config.experimental.enable_op_determinism()\n"
      ],
      "metadata": {
        "id": "mvYx-XngFQVG"
      },
      "id": "mvYx-XngFQVG",
      "execution_count": 324,
      "outputs": []
    },
    {
      "cell_type": "markdown",
      "id": "dd4c3c79-8b5c-457a-ac18-e5bfb93ca7a6",
      "metadata": {
        "id": "dd4c3c79-8b5c-457a-ac18-e5bfb93ca7a6"
      },
      "source": [
        "# Loading Data"
      ]
    },
    {
      "cell_type": "code",
      "source": [
        "#drive.mount('/content/drive')\n"
      ],
      "metadata": {
        "colab": {
          "base_uri": "https://localhost:8080/"
        },
        "id": "Xm-UtBrYQSwu",
        "outputId": "5adbf1f6-522d-45fa-b76f-63fe5385e3d5"
      },
      "id": "Xm-UtBrYQSwu",
      "execution_count": 325,
      "outputs": [
        {
          "output_type": "stream",
          "name": "stdout",
          "text": [
            "Drive already mounted at /content/drive; to attempt to forcibly remount, call drive.mount(\"/content/drive\", force_remount=True).\n"
          ]
        }
      ]
    },
    {
      "cell_type": "code",
      "execution_count": 326,
      "id": "0ecfbf4a-b002-4e0c-9edc-b023fac65017",
      "metadata": {
        "id": "0ecfbf4a-b002-4e0c-9edc-b023fac65017"
      },
      "outputs": [],
      "source": [
        "df_train_data = pd.read_csv('data/train.csv')\n"
      ]
    },
    {
      "cell_type": "code",
      "execution_count": 327,
      "id": "34da7878-7e8c-4d95-a383-eede3ebf06fb",
      "metadata": {
        "id": "34da7878-7e8c-4d95-a383-eede3ebf06fb",
        "outputId": "f5c1a432-ec77-4ecb-b5e6-51b5d3b87811",
        "colab": {
          "base_uri": "https://localhost:8080/",
          "height": 206
        }
      },
      "outputs": [
        {
          "output_type": "execute_result",
          "data": {
            "text/plain": [
              "   id keyword location                                               text  \\\n",
              "0   1     NaN      NaN  Our Deeds are the Reason of this #earthquake M...   \n",
              "1   4     NaN      NaN             Forest fire near La Ronge Sask. Canada   \n",
              "2   5     NaN      NaN  All residents asked to 'shelter in place' are ...   \n",
              "3   6     NaN      NaN  13,000 people receive #wildfires evacuation or...   \n",
              "4   7     NaN      NaN  Just got sent this photo from Ruby #Alaska as ...   \n",
              "\n",
              "   target  \n",
              "0       1  \n",
              "1       1  \n",
              "2       1  \n",
              "3       1  \n",
              "4       1  "
            ],
            "text/html": [
              "\n",
              "  <div id=\"df-28fe312c-b37c-45d0-942e-fd4b6ea57f47\" class=\"colab-df-container\">\n",
              "    <div>\n",
              "<style scoped>\n",
              "    .dataframe tbody tr th:only-of-type {\n",
              "        vertical-align: middle;\n",
              "    }\n",
              "\n",
              "    .dataframe tbody tr th {\n",
              "        vertical-align: top;\n",
              "    }\n",
              "\n",
              "    .dataframe thead th {\n",
              "        text-align: right;\n",
              "    }\n",
              "</style>\n",
              "<table border=\"1\" class=\"dataframe\">\n",
              "  <thead>\n",
              "    <tr style=\"text-align: right;\">\n",
              "      <th></th>\n",
              "      <th>id</th>\n",
              "      <th>keyword</th>\n",
              "      <th>location</th>\n",
              "      <th>text</th>\n",
              "      <th>target</th>\n",
              "    </tr>\n",
              "  </thead>\n",
              "  <tbody>\n",
              "    <tr>\n",
              "      <th>0</th>\n",
              "      <td>1</td>\n",
              "      <td>NaN</td>\n",
              "      <td>NaN</td>\n",
              "      <td>Our Deeds are the Reason of this #earthquake M...</td>\n",
              "      <td>1</td>\n",
              "    </tr>\n",
              "    <tr>\n",
              "      <th>1</th>\n",
              "      <td>4</td>\n",
              "      <td>NaN</td>\n",
              "      <td>NaN</td>\n",
              "      <td>Forest fire near La Ronge Sask. Canada</td>\n",
              "      <td>1</td>\n",
              "    </tr>\n",
              "    <tr>\n",
              "      <th>2</th>\n",
              "      <td>5</td>\n",
              "      <td>NaN</td>\n",
              "      <td>NaN</td>\n",
              "      <td>All residents asked to 'shelter in place' are ...</td>\n",
              "      <td>1</td>\n",
              "    </tr>\n",
              "    <tr>\n",
              "      <th>3</th>\n",
              "      <td>6</td>\n",
              "      <td>NaN</td>\n",
              "      <td>NaN</td>\n",
              "      <td>13,000 people receive #wildfires evacuation or...</td>\n",
              "      <td>1</td>\n",
              "    </tr>\n",
              "    <tr>\n",
              "      <th>4</th>\n",
              "      <td>7</td>\n",
              "      <td>NaN</td>\n",
              "      <td>NaN</td>\n",
              "      <td>Just got sent this photo from Ruby #Alaska as ...</td>\n",
              "      <td>1</td>\n",
              "    </tr>\n",
              "  </tbody>\n",
              "</table>\n",
              "</div>\n",
              "    <div class=\"colab-df-buttons\">\n",
              "\n",
              "  <div class=\"colab-df-container\">\n",
              "    <button class=\"colab-df-convert\" onclick=\"convertToInteractive('df-28fe312c-b37c-45d0-942e-fd4b6ea57f47')\"\n",
              "            title=\"Convert this dataframe to an interactive table.\"\n",
              "            style=\"display:none;\">\n",
              "\n",
              "  <svg xmlns=\"http://www.w3.org/2000/svg\" height=\"24px\" viewBox=\"0 -960 960 960\">\n",
              "    <path d=\"M120-120v-720h720v720H120Zm60-500h600v-160H180v160Zm220 220h160v-160H400v160Zm0 220h160v-160H400v160ZM180-400h160v-160H180v160Zm440 0h160v-160H620v160ZM180-180h160v-160H180v160Zm440 0h160v-160H620v160Z\"/>\n",
              "  </svg>\n",
              "    </button>\n",
              "\n",
              "  <style>\n",
              "    .colab-df-container {\n",
              "      display:flex;\n",
              "      gap: 12px;\n",
              "    }\n",
              "\n",
              "    .colab-df-convert {\n",
              "      background-color: #E8F0FE;\n",
              "      border: none;\n",
              "      border-radius: 50%;\n",
              "      cursor: pointer;\n",
              "      display: none;\n",
              "      fill: #1967D2;\n",
              "      height: 32px;\n",
              "      padding: 0 0 0 0;\n",
              "      width: 32px;\n",
              "    }\n",
              "\n",
              "    .colab-df-convert:hover {\n",
              "      background-color: #E2EBFA;\n",
              "      box-shadow: 0px 1px 2px rgba(60, 64, 67, 0.3), 0px 1px 3px 1px rgba(60, 64, 67, 0.15);\n",
              "      fill: #174EA6;\n",
              "    }\n",
              "\n",
              "    .colab-df-buttons div {\n",
              "      margin-bottom: 4px;\n",
              "    }\n",
              "\n",
              "    [theme=dark] .colab-df-convert {\n",
              "      background-color: #3B4455;\n",
              "      fill: #D2E3FC;\n",
              "    }\n",
              "\n",
              "    [theme=dark] .colab-df-convert:hover {\n",
              "      background-color: #434B5C;\n",
              "      box-shadow: 0px 1px 3px 1px rgba(0, 0, 0, 0.15);\n",
              "      filter: drop-shadow(0px 1px 2px rgba(0, 0, 0, 0.3));\n",
              "      fill: #FFFFFF;\n",
              "    }\n",
              "  </style>\n",
              "\n",
              "    <script>\n",
              "      const buttonEl =\n",
              "        document.querySelector('#df-28fe312c-b37c-45d0-942e-fd4b6ea57f47 button.colab-df-convert');\n",
              "      buttonEl.style.display =\n",
              "        google.colab.kernel.accessAllowed ? 'block' : 'none';\n",
              "\n",
              "      async function convertToInteractive(key) {\n",
              "        const element = document.querySelector('#df-28fe312c-b37c-45d0-942e-fd4b6ea57f47');\n",
              "        const dataTable =\n",
              "          await google.colab.kernel.invokeFunction('convertToInteractive',\n",
              "                                                    [key], {});\n",
              "        if (!dataTable) return;\n",
              "\n",
              "        const docLinkHtml = 'Like what you see? Visit the ' +\n",
              "          '<a target=\"_blank\" href=https://colab.research.google.com/notebooks/data_table.ipynb>data table notebook</a>'\n",
              "          + ' to learn more about interactive tables.';\n",
              "        element.innerHTML = '';\n",
              "        dataTable['output_type'] = 'display_data';\n",
              "        await google.colab.output.renderOutput(dataTable, element);\n",
              "        const docLink = document.createElement('div');\n",
              "        docLink.innerHTML = docLinkHtml;\n",
              "        element.appendChild(docLink);\n",
              "      }\n",
              "    </script>\n",
              "  </div>\n",
              "\n",
              "\n",
              "    <div id=\"df-972fb68e-2b46-4073-b420-62f99a57f2bf\">\n",
              "      <button class=\"colab-df-quickchart\" onclick=\"quickchart('df-972fb68e-2b46-4073-b420-62f99a57f2bf')\"\n",
              "                title=\"Suggest charts\"\n",
              "                style=\"display:none;\">\n",
              "\n",
              "<svg xmlns=\"http://www.w3.org/2000/svg\" height=\"24px\"viewBox=\"0 0 24 24\"\n",
              "     width=\"24px\">\n",
              "    <g>\n",
              "        <path d=\"M19 3H5c-1.1 0-2 .9-2 2v14c0 1.1.9 2 2 2h14c1.1 0 2-.9 2-2V5c0-1.1-.9-2-2-2zM9 17H7v-7h2v7zm4 0h-2V7h2v10zm4 0h-2v-4h2v4z\"/>\n",
              "    </g>\n",
              "</svg>\n",
              "      </button>\n",
              "\n",
              "<style>\n",
              "  .colab-df-quickchart {\n",
              "      --bg-color: #E8F0FE;\n",
              "      --fill-color: #1967D2;\n",
              "      --hover-bg-color: #E2EBFA;\n",
              "      --hover-fill-color: #174EA6;\n",
              "      --disabled-fill-color: #AAA;\n",
              "      --disabled-bg-color: #DDD;\n",
              "  }\n",
              "\n",
              "  [theme=dark] .colab-df-quickchart {\n",
              "      --bg-color: #3B4455;\n",
              "      --fill-color: #D2E3FC;\n",
              "      --hover-bg-color: #434B5C;\n",
              "      --hover-fill-color: #FFFFFF;\n",
              "      --disabled-bg-color: #3B4455;\n",
              "      --disabled-fill-color: #666;\n",
              "  }\n",
              "\n",
              "  .colab-df-quickchart {\n",
              "    background-color: var(--bg-color);\n",
              "    border: none;\n",
              "    border-radius: 50%;\n",
              "    cursor: pointer;\n",
              "    display: none;\n",
              "    fill: var(--fill-color);\n",
              "    height: 32px;\n",
              "    padding: 0;\n",
              "    width: 32px;\n",
              "  }\n",
              "\n",
              "  .colab-df-quickchart:hover {\n",
              "    background-color: var(--hover-bg-color);\n",
              "    box-shadow: 0 1px 2px rgba(60, 64, 67, 0.3), 0 1px 3px 1px rgba(60, 64, 67, 0.15);\n",
              "    fill: var(--button-hover-fill-color);\n",
              "  }\n",
              "\n",
              "  .colab-df-quickchart-complete:disabled,\n",
              "  .colab-df-quickchart-complete:disabled:hover {\n",
              "    background-color: var(--disabled-bg-color);\n",
              "    fill: var(--disabled-fill-color);\n",
              "    box-shadow: none;\n",
              "  }\n",
              "\n",
              "  .colab-df-spinner {\n",
              "    border: 2px solid var(--fill-color);\n",
              "    border-color: transparent;\n",
              "    border-bottom-color: var(--fill-color);\n",
              "    animation:\n",
              "      spin 1s steps(1) infinite;\n",
              "  }\n",
              "\n",
              "  @keyframes spin {\n",
              "    0% {\n",
              "      border-color: transparent;\n",
              "      border-bottom-color: var(--fill-color);\n",
              "      border-left-color: var(--fill-color);\n",
              "    }\n",
              "    20% {\n",
              "      border-color: transparent;\n",
              "      border-left-color: var(--fill-color);\n",
              "      border-top-color: var(--fill-color);\n",
              "    }\n",
              "    30% {\n",
              "      border-color: transparent;\n",
              "      border-left-color: var(--fill-color);\n",
              "      border-top-color: var(--fill-color);\n",
              "      border-right-color: var(--fill-color);\n",
              "    }\n",
              "    40% {\n",
              "      border-color: transparent;\n",
              "      border-right-color: var(--fill-color);\n",
              "      border-top-color: var(--fill-color);\n",
              "    }\n",
              "    60% {\n",
              "      border-color: transparent;\n",
              "      border-right-color: var(--fill-color);\n",
              "    }\n",
              "    80% {\n",
              "      border-color: transparent;\n",
              "      border-right-color: var(--fill-color);\n",
              "      border-bottom-color: var(--fill-color);\n",
              "    }\n",
              "    90% {\n",
              "      border-color: transparent;\n",
              "      border-bottom-color: var(--fill-color);\n",
              "    }\n",
              "  }\n",
              "</style>\n",
              "\n",
              "      <script>\n",
              "        async function quickchart(key) {\n",
              "          const quickchartButtonEl =\n",
              "            document.querySelector('#' + key + ' button');\n",
              "          quickchartButtonEl.disabled = true;  // To prevent multiple clicks.\n",
              "          quickchartButtonEl.classList.add('colab-df-spinner');\n",
              "          try {\n",
              "            const charts = await google.colab.kernel.invokeFunction(\n",
              "                'suggestCharts', [key], {});\n",
              "          } catch (error) {\n",
              "            console.error('Error during call to suggestCharts:', error);\n",
              "          }\n",
              "          quickchartButtonEl.classList.remove('colab-df-spinner');\n",
              "          quickchartButtonEl.classList.add('colab-df-quickchart-complete');\n",
              "        }\n",
              "        (() => {\n",
              "          let quickchartButtonEl =\n",
              "            document.querySelector('#df-972fb68e-2b46-4073-b420-62f99a57f2bf button');\n",
              "          quickchartButtonEl.style.display =\n",
              "            google.colab.kernel.accessAllowed ? 'block' : 'none';\n",
              "        })();\n",
              "      </script>\n",
              "    </div>\n",
              "\n",
              "    </div>\n",
              "  </div>\n"
            ],
            "application/vnd.google.colaboratory.intrinsic+json": {
              "type": "dataframe",
              "variable_name": "df_train_data",
              "summary": "{\n  \"name\": \"df_train_data\",\n  \"rows\": 7613,\n  \"fields\": [\n    {\n      \"column\": \"id\",\n      \"properties\": {\n        \"dtype\": \"number\",\n        \"std\": 3137,\n        \"min\": 1,\n        \"max\": 10873,\n        \"num_unique_values\": 7613,\n        \"samples\": [\n          3796,\n          3185,\n          7769\n        ],\n        \"semantic_type\": \"\",\n        \"description\": \"\"\n      }\n    },\n    {\n      \"column\": \"keyword\",\n      \"properties\": {\n        \"dtype\": \"category\",\n        \"num_unique_values\": 221,\n        \"samples\": [\n          \"injury\",\n          \"nuclear%20reactor\",\n          \"engulfed\"\n        ],\n        \"semantic_type\": \"\",\n        \"description\": \"\"\n      }\n    },\n    {\n      \"column\": \"location\",\n      \"properties\": {\n        \"dtype\": \"category\",\n        \"num_unique_values\": 3341,\n        \"samples\": [\n          \"Oklahoma\",\n          \"Starling City\",\n          \"Trinidad and Tobago\"\n        ],\n        \"semantic_type\": \"\",\n        \"description\": \"\"\n      }\n    },\n    {\n      \"column\": \"text\",\n      \"properties\": {\n        \"dtype\": \"string\",\n        \"num_unique_values\": 7503,\n        \"samples\": [\n          \"Three Homes Demolished in Unrecognized Arab Village - International Middle East Media Center http://t.co/ik8m4Yi9T4\",\n          \"Reid Lake fire prompts campground evacuation order http://t.co/jBODKM6rBU\",\n          \"FAAN orders evacuation of abandoned aircraft at MMA http://t.co/dEvYbnVXGQ via @todayng\"\n        ],\n        \"semantic_type\": \"\",\n        \"description\": \"\"\n      }\n    },\n    {\n      \"column\": \"target\",\n      \"properties\": {\n        \"dtype\": \"number\",\n        \"std\": 0,\n        \"min\": 0,\n        \"max\": 1,\n        \"num_unique_values\": 2,\n        \"samples\": [\n          0,\n          1\n        ],\n        \"semantic_type\": \"\",\n        \"description\": \"\"\n      }\n    }\n  ]\n}"
            }
          },
          "metadata": {},
          "execution_count": 327
        }
      ],
      "source": [
        "df_train_data.head()"
      ]
    },
    {
      "cell_type": "code",
      "execution_count": 328,
      "id": "d04389a1-5b05-4a9b-8532-861589216202",
      "metadata": {
        "id": "d04389a1-5b05-4a9b-8532-861589216202",
        "outputId": "6e91d73a-5db4-4b19-a5d1-f023a0712d2d",
        "colab": {
          "base_uri": "https://localhost:8080/"
        }
      },
      "outputs": [
        {
          "output_type": "execute_result",
          "data": {
            "text/plain": [
              "(7613, 5)"
            ]
          },
          "metadata": {},
          "execution_count": 328
        }
      ],
      "source": [
        "df_train_data.shape"
      ]
    },
    {
      "cell_type": "code",
      "execution_count": 329,
      "id": "5c7110a8-0a23-4b91-b831-bc5dd34326e3",
      "metadata": {
        "id": "5c7110a8-0a23-4b91-b831-bc5dd34326e3",
        "outputId": "1b741f96-3124-4aa1-dde8-e184cfb12539",
        "colab": {
          "base_uri": "https://localhost:8080/"
        }
      },
      "outputs": [
        {
          "output_type": "stream",
          "name": "stdout",
          "text": [
            "<class 'pandas.core.frame.DataFrame'>\n",
            "RangeIndex: 7613 entries, 0 to 7612\n",
            "Data columns (total 5 columns):\n",
            " #   Column    Non-Null Count  Dtype \n",
            "---  ------    --------------  ----- \n",
            " 0   id        7613 non-null   int64 \n",
            " 1   keyword   7552 non-null   object\n",
            " 2   location  5080 non-null   object\n",
            " 3   text      7613 non-null   object\n",
            " 4   target    7613 non-null   int64 \n",
            "dtypes: int64(2), object(3)\n",
            "memory usage: 297.5+ KB\n"
          ]
        }
      ],
      "source": [
        "df_train_data.info()"
      ]
    },
    {
      "cell_type": "code",
      "execution_count": 330,
      "id": "0a2040cb-6fba-437c-893d-3a9243188320",
      "metadata": {
        "id": "0a2040cb-6fba-437c-893d-3a9243188320"
      },
      "outputs": [],
      "source": [
        "df_test_data = pd.read_csv('data/test.csv')"
      ]
    },
    {
      "cell_type": "code",
      "execution_count": 331,
      "id": "55d2eb20-19ae-456a-9559-343716e139fe",
      "metadata": {
        "id": "55d2eb20-19ae-456a-9559-343716e139fe",
        "outputId": "84dbcc69-b3df-4bb1-8406-2c723ae9266e",
        "colab": {
          "base_uri": "https://localhost:8080/",
          "height": 206
        }
      },
      "outputs": [
        {
          "output_type": "execute_result",
          "data": {
            "text/plain": [
              "   id keyword location                                               text\n",
              "0   0     NaN      NaN                 Just happened a terrible car crash\n",
              "1   2     NaN      NaN  Heard about #earthquake is different cities, s...\n",
              "2   3     NaN      NaN  there is a forest fire at spot pond, geese are...\n",
              "3   9     NaN      NaN           Apocalypse lighting. #Spokane #wildfires\n",
              "4  11     NaN      NaN      Typhoon Soudelor kills 28 in China and Taiwan"
            ],
            "text/html": [
              "\n",
              "  <div id=\"df-522cb982-8802-4c7c-87f8-fb97d31649ca\" class=\"colab-df-container\">\n",
              "    <div>\n",
              "<style scoped>\n",
              "    .dataframe tbody tr th:only-of-type {\n",
              "        vertical-align: middle;\n",
              "    }\n",
              "\n",
              "    .dataframe tbody tr th {\n",
              "        vertical-align: top;\n",
              "    }\n",
              "\n",
              "    .dataframe thead th {\n",
              "        text-align: right;\n",
              "    }\n",
              "</style>\n",
              "<table border=\"1\" class=\"dataframe\">\n",
              "  <thead>\n",
              "    <tr style=\"text-align: right;\">\n",
              "      <th></th>\n",
              "      <th>id</th>\n",
              "      <th>keyword</th>\n",
              "      <th>location</th>\n",
              "      <th>text</th>\n",
              "    </tr>\n",
              "  </thead>\n",
              "  <tbody>\n",
              "    <tr>\n",
              "      <th>0</th>\n",
              "      <td>0</td>\n",
              "      <td>NaN</td>\n",
              "      <td>NaN</td>\n",
              "      <td>Just happened a terrible car crash</td>\n",
              "    </tr>\n",
              "    <tr>\n",
              "      <th>1</th>\n",
              "      <td>2</td>\n",
              "      <td>NaN</td>\n",
              "      <td>NaN</td>\n",
              "      <td>Heard about #earthquake is different cities, s...</td>\n",
              "    </tr>\n",
              "    <tr>\n",
              "      <th>2</th>\n",
              "      <td>3</td>\n",
              "      <td>NaN</td>\n",
              "      <td>NaN</td>\n",
              "      <td>there is a forest fire at spot pond, geese are...</td>\n",
              "    </tr>\n",
              "    <tr>\n",
              "      <th>3</th>\n",
              "      <td>9</td>\n",
              "      <td>NaN</td>\n",
              "      <td>NaN</td>\n",
              "      <td>Apocalypse lighting. #Spokane #wildfires</td>\n",
              "    </tr>\n",
              "    <tr>\n",
              "      <th>4</th>\n",
              "      <td>11</td>\n",
              "      <td>NaN</td>\n",
              "      <td>NaN</td>\n",
              "      <td>Typhoon Soudelor kills 28 in China and Taiwan</td>\n",
              "    </tr>\n",
              "  </tbody>\n",
              "</table>\n",
              "</div>\n",
              "    <div class=\"colab-df-buttons\">\n",
              "\n",
              "  <div class=\"colab-df-container\">\n",
              "    <button class=\"colab-df-convert\" onclick=\"convertToInteractive('df-522cb982-8802-4c7c-87f8-fb97d31649ca')\"\n",
              "            title=\"Convert this dataframe to an interactive table.\"\n",
              "            style=\"display:none;\">\n",
              "\n",
              "  <svg xmlns=\"http://www.w3.org/2000/svg\" height=\"24px\" viewBox=\"0 -960 960 960\">\n",
              "    <path d=\"M120-120v-720h720v720H120Zm60-500h600v-160H180v160Zm220 220h160v-160H400v160Zm0 220h160v-160H400v160ZM180-400h160v-160H180v160Zm440 0h160v-160H620v160ZM180-180h160v-160H180v160Zm440 0h160v-160H620v160Z\"/>\n",
              "  </svg>\n",
              "    </button>\n",
              "\n",
              "  <style>\n",
              "    .colab-df-container {\n",
              "      display:flex;\n",
              "      gap: 12px;\n",
              "    }\n",
              "\n",
              "    .colab-df-convert {\n",
              "      background-color: #E8F0FE;\n",
              "      border: none;\n",
              "      border-radius: 50%;\n",
              "      cursor: pointer;\n",
              "      display: none;\n",
              "      fill: #1967D2;\n",
              "      height: 32px;\n",
              "      padding: 0 0 0 0;\n",
              "      width: 32px;\n",
              "    }\n",
              "\n",
              "    .colab-df-convert:hover {\n",
              "      background-color: #E2EBFA;\n",
              "      box-shadow: 0px 1px 2px rgba(60, 64, 67, 0.3), 0px 1px 3px 1px rgba(60, 64, 67, 0.15);\n",
              "      fill: #174EA6;\n",
              "    }\n",
              "\n",
              "    .colab-df-buttons div {\n",
              "      margin-bottom: 4px;\n",
              "    }\n",
              "\n",
              "    [theme=dark] .colab-df-convert {\n",
              "      background-color: #3B4455;\n",
              "      fill: #D2E3FC;\n",
              "    }\n",
              "\n",
              "    [theme=dark] .colab-df-convert:hover {\n",
              "      background-color: #434B5C;\n",
              "      box-shadow: 0px 1px 3px 1px rgba(0, 0, 0, 0.15);\n",
              "      filter: drop-shadow(0px 1px 2px rgba(0, 0, 0, 0.3));\n",
              "      fill: #FFFFFF;\n",
              "    }\n",
              "  </style>\n",
              "\n",
              "    <script>\n",
              "      const buttonEl =\n",
              "        document.querySelector('#df-522cb982-8802-4c7c-87f8-fb97d31649ca button.colab-df-convert');\n",
              "      buttonEl.style.display =\n",
              "        google.colab.kernel.accessAllowed ? 'block' : 'none';\n",
              "\n",
              "      async function convertToInteractive(key) {\n",
              "        const element = document.querySelector('#df-522cb982-8802-4c7c-87f8-fb97d31649ca');\n",
              "        const dataTable =\n",
              "          await google.colab.kernel.invokeFunction('convertToInteractive',\n",
              "                                                    [key], {});\n",
              "        if (!dataTable) return;\n",
              "\n",
              "        const docLinkHtml = 'Like what you see? Visit the ' +\n",
              "          '<a target=\"_blank\" href=https://colab.research.google.com/notebooks/data_table.ipynb>data table notebook</a>'\n",
              "          + ' to learn more about interactive tables.';\n",
              "        element.innerHTML = '';\n",
              "        dataTable['output_type'] = 'display_data';\n",
              "        await google.colab.output.renderOutput(dataTable, element);\n",
              "        const docLink = document.createElement('div');\n",
              "        docLink.innerHTML = docLinkHtml;\n",
              "        element.appendChild(docLink);\n",
              "      }\n",
              "    </script>\n",
              "  </div>\n",
              "\n",
              "\n",
              "    <div id=\"df-845f78c3-7eb5-4118-b88a-26d784e1b177\">\n",
              "      <button class=\"colab-df-quickchart\" onclick=\"quickchart('df-845f78c3-7eb5-4118-b88a-26d784e1b177')\"\n",
              "                title=\"Suggest charts\"\n",
              "                style=\"display:none;\">\n",
              "\n",
              "<svg xmlns=\"http://www.w3.org/2000/svg\" height=\"24px\"viewBox=\"0 0 24 24\"\n",
              "     width=\"24px\">\n",
              "    <g>\n",
              "        <path d=\"M19 3H5c-1.1 0-2 .9-2 2v14c0 1.1.9 2 2 2h14c1.1 0 2-.9 2-2V5c0-1.1-.9-2-2-2zM9 17H7v-7h2v7zm4 0h-2V7h2v10zm4 0h-2v-4h2v4z\"/>\n",
              "    </g>\n",
              "</svg>\n",
              "      </button>\n",
              "\n",
              "<style>\n",
              "  .colab-df-quickchart {\n",
              "      --bg-color: #E8F0FE;\n",
              "      --fill-color: #1967D2;\n",
              "      --hover-bg-color: #E2EBFA;\n",
              "      --hover-fill-color: #174EA6;\n",
              "      --disabled-fill-color: #AAA;\n",
              "      --disabled-bg-color: #DDD;\n",
              "  }\n",
              "\n",
              "  [theme=dark] .colab-df-quickchart {\n",
              "      --bg-color: #3B4455;\n",
              "      --fill-color: #D2E3FC;\n",
              "      --hover-bg-color: #434B5C;\n",
              "      --hover-fill-color: #FFFFFF;\n",
              "      --disabled-bg-color: #3B4455;\n",
              "      --disabled-fill-color: #666;\n",
              "  }\n",
              "\n",
              "  .colab-df-quickchart {\n",
              "    background-color: var(--bg-color);\n",
              "    border: none;\n",
              "    border-radius: 50%;\n",
              "    cursor: pointer;\n",
              "    display: none;\n",
              "    fill: var(--fill-color);\n",
              "    height: 32px;\n",
              "    padding: 0;\n",
              "    width: 32px;\n",
              "  }\n",
              "\n",
              "  .colab-df-quickchart:hover {\n",
              "    background-color: var(--hover-bg-color);\n",
              "    box-shadow: 0 1px 2px rgba(60, 64, 67, 0.3), 0 1px 3px 1px rgba(60, 64, 67, 0.15);\n",
              "    fill: var(--button-hover-fill-color);\n",
              "  }\n",
              "\n",
              "  .colab-df-quickchart-complete:disabled,\n",
              "  .colab-df-quickchart-complete:disabled:hover {\n",
              "    background-color: var(--disabled-bg-color);\n",
              "    fill: var(--disabled-fill-color);\n",
              "    box-shadow: none;\n",
              "  }\n",
              "\n",
              "  .colab-df-spinner {\n",
              "    border: 2px solid var(--fill-color);\n",
              "    border-color: transparent;\n",
              "    border-bottom-color: var(--fill-color);\n",
              "    animation:\n",
              "      spin 1s steps(1) infinite;\n",
              "  }\n",
              "\n",
              "  @keyframes spin {\n",
              "    0% {\n",
              "      border-color: transparent;\n",
              "      border-bottom-color: var(--fill-color);\n",
              "      border-left-color: var(--fill-color);\n",
              "    }\n",
              "    20% {\n",
              "      border-color: transparent;\n",
              "      border-left-color: var(--fill-color);\n",
              "      border-top-color: var(--fill-color);\n",
              "    }\n",
              "    30% {\n",
              "      border-color: transparent;\n",
              "      border-left-color: var(--fill-color);\n",
              "      border-top-color: var(--fill-color);\n",
              "      border-right-color: var(--fill-color);\n",
              "    }\n",
              "    40% {\n",
              "      border-color: transparent;\n",
              "      border-right-color: var(--fill-color);\n",
              "      border-top-color: var(--fill-color);\n",
              "    }\n",
              "    60% {\n",
              "      border-color: transparent;\n",
              "      border-right-color: var(--fill-color);\n",
              "    }\n",
              "    80% {\n",
              "      border-color: transparent;\n",
              "      border-right-color: var(--fill-color);\n",
              "      border-bottom-color: var(--fill-color);\n",
              "    }\n",
              "    90% {\n",
              "      border-color: transparent;\n",
              "      border-bottom-color: var(--fill-color);\n",
              "    }\n",
              "  }\n",
              "</style>\n",
              "\n",
              "      <script>\n",
              "        async function quickchart(key) {\n",
              "          const quickchartButtonEl =\n",
              "            document.querySelector('#' + key + ' button');\n",
              "          quickchartButtonEl.disabled = true;  // To prevent multiple clicks.\n",
              "          quickchartButtonEl.classList.add('colab-df-spinner');\n",
              "          try {\n",
              "            const charts = await google.colab.kernel.invokeFunction(\n",
              "                'suggestCharts', [key], {});\n",
              "          } catch (error) {\n",
              "            console.error('Error during call to suggestCharts:', error);\n",
              "          }\n",
              "          quickchartButtonEl.classList.remove('colab-df-spinner');\n",
              "          quickchartButtonEl.classList.add('colab-df-quickchart-complete');\n",
              "        }\n",
              "        (() => {\n",
              "          let quickchartButtonEl =\n",
              "            document.querySelector('#df-845f78c3-7eb5-4118-b88a-26d784e1b177 button');\n",
              "          quickchartButtonEl.style.display =\n",
              "            google.colab.kernel.accessAllowed ? 'block' : 'none';\n",
              "        })();\n",
              "      </script>\n",
              "    </div>\n",
              "\n",
              "    </div>\n",
              "  </div>\n"
            ],
            "application/vnd.google.colaboratory.intrinsic+json": {
              "type": "dataframe",
              "variable_name": "df_test_data",
              "summary": "{\n  \"name\": \"df_test_data\",\n  \"rows\": 3263,\n  \"fields\": [\n    {\n      \"column\": \"id\",\n      \"properties\": {\n        \"dtype\": \"number\",\n        \"std\": 3146,\n        \"min\": 0,\n        \"max\": 10875,\n        \"num_unique_values\": 3263,\n        \"samples\": [\n          8051,\n          425,\n          1330\n        ],\n        \"semantic_type\": \"\",\n        \"description\": \"\"\n      }\n    },\n    {\n      \"column\": \"keyword\",\n      \"properties\": {\n        \"dtype\": \"category\",\n        \"num_unique_values\": 221,\n        \"samples\": [\n          \"injury\",\n          \"nuclear%20reactor\",\n          \"engulfed\"\n        ],\n        \"semantic_type\": \"\",\n        \"description\": \"\"\n      }\n    },\n    {\n      \"column\": \"location\",\n      \"properties\": {\n        \"dtype\": \"category\",\n        \"num_unique_values\": 1602,\n        \"samples\": [\n          \"UAE\",\n          \"Tokio / Tokyo\",\n          \"Texas\"\n        ],\n        \"semantic_type\": \"\",\n        \"description\": \"\"\n      }\n    },\n    {\n      \"column\": \"text\",\n      \"properties\": {\n        \"dtype\": \"string\",\n        \"num_unique_values\": 3243,\n        \"samples\": [\n          \"Latest: USA: Huge sinkhole swallows up Brooklyn intersection http://t.co/vspKHg3nZy\",\n          \"I liked a @YouTube video http://t.co/a5YTAw9Vih S.O.S. Rona Guide - The Red Whirlwind\",\n          \"HitchBot travels Europe and greeted with open arms. Gets destroyed after two weeks in america. There's a lesson to be learned here.\"\n        ],\n        \"semantic_type\": \"\",\n        \"description\": \"\"\n      }\n    }\n  ]\n}"
            }
          },
          "metadata": {},
          "execution_count": 331
        }
      ],
      "source": [
        "df_test_data.head()"
      ]
    },
    {
      "cell_type": "code",
      "execution_count": 332,
      "id": "bd8cbdee-3153-4375-87ea-ff8539489f3e",
      "metadata": {
        "id": "bd8cbdee-3153-4375-87ea-ff8539489f3e",
        "outputId": "a48893b0-981d-4a35-8fd8-bb706fd8ecf6",
        "colab": {
          "base_uri": "https://localhost:8080/"
        }
      },
      "outputs": [
        {
          "output_type": "execute_result",
          "data": {
            "text/plain": [
              "(3263, 4)"
            ]
          },
          "metadata": {},
          "execution_count": 332
        }
      ],
      "source": [
        "df_test_data.shape"
      ]
    },
    {
      "cell_type": "code",
      "execution_count": 333,
      "id": "3673b982-21b2-4d4a-a18b-d05886f88012",
      "metadata": {
        "id": "3673b982-21b2-4d4a-a18b-d05886f88012",
        "outputId": "b0017e3a-2200-48d1-f49e-f4be55a70831",
        "colab": {
          "base_uri": "https://localhost:8080/"
        }
      },
      "outputs": [
        {
          "output_type": "stream",
          "name": "stdout",
          "text": [
            "<class 'pandas.core.frame.DataFrame'>\n",
            "RangeIndex: 3263 entries, 0 to 3262\n",
            "Data columns (total 4 columns):\n",
            " #   Column    Non-Null Count  Dtype \n",
            "---  ------    --------------  ----- \n",
            " 0   id        3263 non-null   int64 \n",
            " 1   keyword   3237 non-null   object\n",
            " 2   location  2158 non-null   object\n",
            " 3   text      3263 non-null   object\n",
            "dtypes: int64(1), object(3)\n",
            "memory usage: 102.1+ KB\n"
          ]
        }
      ],
      "source": [
        "df_test_data.info()"
      ]
    },
    {
      "cell_type": "code",
      "execution_count": 334,
      "id": "687ec5b9-204f-48d8-9bd2-5b5551a98467",
      "metadata": {
        "id": "687ec5b9-204f-48d8-9bd2-5b5551a98467"
      },
      "outputs": [],
      "source": [
        "df_sample_submission = pd.read_csv('data/sample_submission.csv')"
      ]
    },
    {
      "cell_type": "code",
      "execution_count": 335,
      "id": "43e5a005-0e24-4e27-b31c-1f650b7308dd",
      "metadata": {
        "id": "43e5a005-0e24-4e27-b31c-1f650b7308dd",
        "outputId": "20c59c01-aa78-4c25-8a9f-59fd7a2ae83b",
        "colab": {
          "base_uri": "https://localhost:8080/",
          "height": 206
        }
      },
      "outputs": [
        {
          "output_type": "execute_result",
          "data": {
            "text/plain": [
              "   id  target\n",
              "0   0       0\n",
              "1   2       0\n",
              "2   3       0\n",
              "3   9       0\n",
              "4  11       0"
            ],
            "text/html": [
              "\n",
              "  <div id=\"df-5346683c-89c1-4af8-a0a6-eef17c730fca\" class=\"colab-df-container\">\n",
              "    <div>\n",
              "<style scoped>\n",
              "    .dataframe tbody tr th:only-of-type {\n",
              "        vertical-align: middle;\n",
              "    }\n",
              "\n",
              "    .dataframe tbody tr th {\n",
              "        vertical-align: top;\n",
              "    }\n",
              "\n",
              "    .dataframe thead th {\n",
              "        text-align: right;\n",
              "    }\n",
              "</style>\n",
              "<table border=\"1\" class=\"dataframe\">\n",
              "  <thead>\n",
              "    <tr style=\"text-align: right;\">\n",
              "      <th></th>\n",
              "      <th>id</th>\n",
              "      <th>target</th>\n",
              "    </tr>\n",
              "  </thead>\n",
              "  <tbody>\n",
              "    <tr>\n",
              "      <th>0</th>\n",
              "      <td>0</td>\n",
              "      <td>0</td>\n",
              "    </tr>\n",
              "    <tr>\n",
              "      <th>1</th>\n",
              "      <td>2</td>\n",
              "      <td>0</td>\n",
              "    </tr>\n",
              "    <tr>\n",
              "      <th>2</th>\n",
              "      <td>3</td>\n",
              "      <td>0</td>\n",
              "    </tr>\n",
              "    <tr>\n",
              "      <th>3</th>\n",
              "      <td>9</td>\n",
              "      <td>0</td>\n",
              "    </tr>\n",
              "    <tr>\n",
              "      <th>4</th>\n",
              "      <td>11</td>\n",
              "      <td>0</td>\n",
              "    </tr>\n",
              "  </tbody>\n",
              "</table>\n",
              "</div>\n",
              "    <div class=\"colab-df-buttons\">\n",
              "\n",
              "  <div class=\"colab-df-container\">\n",
              "    <button class=\"colab-df-convert\" onclick=\"convertToInteractive('df-5346683c-89c1-4af8-a0a6-eef17c730fca')\"\n",
              "            title=\"Convert this dataframe to an interactive table.\"\n",
              "            style=\"display:none;\">\n",
              "\n",
              "  <svg xmlns=\"http://www.w3.org/2000/svg\" height=\"24px\" viewBox=\"0 -960 960 960\">\n",
              "    <path d=\"M120-120v-720h720v720H120Zm60-500h600v-160H180v160Zm220 220h160v-160H400v160Zm0 220h160v-160H400v160ZM180-400h160v-160H180v160Zm440 0h160v-160H620v160ZM180-180h160v-160H180v160Zm440 0h160v-160H620v160Z\"/>\n",
              "  </svg>\n",
              "    </button>\n",
              "\n",
              "  <style>\n",
              "    .colab-df-container {\n",
              "      display:flex;\n",
              "      gap: 12px;\n",
              "    }\n",
              "\n",
              "    .colab-df-convert {\n",
              "      background-color: #E8F0FE;\n",
              "      border: none;\n",
              "      border-radius: 50%;\n",
              "      cursor: pointer;\n",
              "      display: none;\n",
              "      fill: #1967D2;\n",
              "      height: 32px;\n",
              "      padding: 0 0 0 0;\n",
              "      width: 32px;\n",
              "    }\n",
              "\n",
              "    .colab-df-convert:hover {\n",
              "      background-color: #E2EBFA;\n",
              "      box-shadow: 0px 1px 2px rgba(60, 64, 67, 0.3), 0px 1px 3px 1px rgba(60, 64, 67, 0.15);\n",
              "      fill: #174EA6;\n",
              "    }\n",
              "\n",
              "    .colab-df-buttons div {\n",
              "      margin-bottom: 4px;\n",
              "    }\n",
              "\n",
              "    [theme=dark] .colab-df-convert {\n",
              "      background-color: #3B4455;\n",
              "      fill: #D2E3FC;\n",
              "    }\n",
              "\n",
              "    [theme=dark] .colab-df-convert:hover {\n",
              "      background-color: #434B5C;\n",
              "      box-shadow: 0px 1px 3px 1px rgba(0, 0, 0, 0.15);\n",
              "      filter: drop-shadow(0px 1px 2px rgba(0, 0, 0, 0.3));\n",
              "      fill: #FFFFFF;\n",
              "    }\n",
              "  </style>\n",
              "\n",
              "    <script>\n",
              "      const buttonEl =\n",
              "        document.querySelector('#df-5346683c-89c1-4af8-a0a6-eef17c730fca button.colab-df-convert');\n",
              "      buttonEl.style.display =\n",
              "        google.colab.kernel.accessAllowed ? 'block' : 'none';\n",
              "\n",
              "      async function convertToInteractive(key) {\n",
              "        const element = document.querySelector('#df-5346683c-89c1-4af8-a0a6-eef17c730fca');\n",
              "        const dataTable =\n",
              "          await google.colab.kernel.invokeFunction('convertToInteractive',\n",
              "                                                    [key], {});\n",
              "        if (!dataTable) return;\n",
              "\n",
              "        const docLinkHtml = 'Like what you see? Visit the ' +\n",
              "          '<a target=\"_blank\" href=https://colab.research.google.com/notebooks/data_table.ipynb>data table notebook</a>'\n",
              "          + ' to learn more about interactive tables.';\n",
              "        element.innerHTML = '';\n",
              "        dataTable['output_type'] = 'display_data';\n",
              "        await google.colab.output.renderOutput(dataTable, element);\n",
              "        const docLink = document.createElement('div');\n",
              "        docLink.innerHTML = docLinkHtml;\n",
              "        element.appendChild(docLink);\n",
              "      }\n",
              "    </script>\n",
              "  </div>\n",
              "\n",
              "\n",
              "    <div id=\"df-bd647a77-bc4b-4b40-8258-a8d8bbc43d29\">\n",
              "      <button class=\"colab-df-quickchart\" onclick=\"quickchart('df-bd647a77-bc4b-4b40-8258-a8d8bbc43d29')\"\n",
              "                title=\"Suggest charts\"\n",
              "                style=\"display:none;\">\n",
              "\n",
              "<svg xmlns=\"http://www.w3.org/2000/svg\" height=\"24px\"viewBox=\"0 0 24 24\"\n",
              "     width=\"24px\">\n",
              "    <g>\n",
              "        <path d=\"M19 3H5c-1.1 0-2 .9-2 2v14c0 1.1.9 2 2 2h14c1.1 0 2-.9 2-2V5c0-1.1-.9-2-2-2zM9 17H7v-7h2v7zm4 0h-2V7h2v10zm4 0h-2v-4h2v4z\"/>\n",
              "    </g>\n",
              "</svg>\n",
              "      </button>\n",
              "\n",
              "<style>\n",
              "  .colab-df-quickchart {\n",
              "      --bg-color: #E8F0FE;\n",
              "      --fill-color: #1967D2;\n",
              "      --hover-bg-color: #E2EBFA;\n",
              "      --hover-fill-color: #174EA6;\n",
              "      --disabled-fill-color: #AAA;\n",
              "      --disabled-bg-color: #DDD;\n",
              "  }\n",
              "\n",
              "  [theme=dark] .colab-df-quickchart {\n",
              "      --bg-color: #3B4455;\n",
              "      --fill-color: #D2E3FC;\n",
              "      --hover-bg-color: #434B5C;\n",
              "      --hover-fill-color: #FFFFFF;\n",
              "      --disabled-bg-color: #3B4455;\n",
              "      --disabled-fill-color: #666;\n",
              "  }\n",
              "\n",
              "  .colab-df-quickchart {\n",
              "    background-color: var(--bg-color);\n",
              "    border: none;\n",
              "    border-radius: 50%;\n",
              "    cursor: pointer;\n",
              "    display: none;\n",
              "    fill: var(--fill-color);\n",
              "    height: 32px;\n",
              "    padding: 0;\n",
              "    width: 32px;\n",
              "  }\n",
              "\n",
              "  .colab-df-quickchart:hover {\n",
              "    background-color: var(--hover-bg-color);\n",
              "    box-shadow: 0 1px 2px rgba(60, 64, 67, 0.3), 0 1px 3px 1px rgba(60, 64, 67, 0.15);\n",
              "    fill: var(--button-hover-fill-color);\n",
              "  }\n",
              "\n",
              "  .colab-df-quickchart-complete:disabled,\n",
              "  .colab-df-quickchart-complete:disabled:hover {\n",
              "    background-color: var(--disabled-bg-color);\n",
              "    fill: var(--disabled-fill-color);\n",
              "    box-shadow: none;\n",
              "  }\n",
              "\n",
              "  .colab-df-spinner {\n",
              "    border: 2px solid var(--fill-color);\n",
              "    border-color: transparent;\n",
              "    border-bottom-color: var(--fill-color);\n",
              "    animation:\n",
              "      spin 1s steps(1) infinite;\n",
              "  }\n",
              "\n",
              "  @keyframes spin {\n",
              "    0% {\n",
              "      border-color: transparent;\n",
              "      border-bottom-color: var(--fill-color);\n",
              "      border-left-color: var(--fill-color);\n",
              "    }\n",
              "    20% {\n",
              "      border-color: transparent;\n",
              "      border-left-color: var(--fill-color);\n",
              "      border-top-color: var(--fill-color);\n",
              "    }\n",
              "    30% {\n",
              "      border-color: transparent;\n",
              "      border-left-color: var(--fill-color);\n",
              "      border-top-color: var(--fill-color);\n",
              "      border-right-color: var(--fill-color);\n",
              "    }\n",
              "    40% {\n",
              "      border-color: transparent;\n",
              "      border-right-color: var(--fill-color);\n",
              "      border-top-color: var(--fill-color);\n",
              "    }\n",
              "    60% {\n",
              "      border-color: transparent;\n",
              "      border-right-color: var(--fill-color);\n",
              "    }\n",
              "    80% {\n",
              "      border-color: transparent;\n",
              "      border-right-color: var(--fill-color);\n",
              "      border-bottom-color: var(--fill-color);\n",
              "    }\n",
              "    90% {\n",
              "      border-color: transparent;\n",
              "      border-bottom-color: var(--fill-color);\n",
              "    }\n",
              "  }\n",
              "</style>\n",
              "\n",
              "      <script>\n",
              "        async function quickchart(key) {\n",
              "          const quickchartButtonEl =\n",
              "            document.querySelector('#' + key + ' button');\n",
              "          quickchartButtonEl.disabled = true;  // To prevent multiple clicks.\n",
              "          quickchartButtonEl.classList.add('colab-df-spinner');\n",
              "          try {\n",
              "            const charts = await google.colab.kernel.invokeFunction(\n",
              "                'suggestCharts', [key], {});\n",
              "          } catch (error) {\n",
              "            console.error('Error during call to suggestCharts:', error);\n",
              "          }\n",
              "          quickchartButtonEl.classList.remove('colab-df-spinner');\n",
              "          quickchartButtonEl.classList.add('colab-df-quickchart-complete');\n",
              "        }\n",
              "        (() => {\n",
              "          let quickchartButtonEl =\n",
              "            document.querySelector('#df-bd647a77-bc4b-4b40-8258-a8d8bbc43d29 button');\n",
              "          quickchartButtonEl.style.display =\n",
              "            google.colab.kernel.accessAllowed ? 'block' : 'none';\n",
              "        })();\n",
              "      </script>\n",
              "    </div>\n",
              "\n",
              "    </div>\n",
              "  </div>\n"
            ],
            "application/vnd.google.colaboratory.intrinsic+json": {
              "type": "dataframe",
              "variable_name": "df_sample_submission",
              "summary": "{\n  \"name\": \"df_sample_submission\",\n  \"rows\": 3263,\n  \"fields\": [\n    {\n      \"column\": \"id\",\n      \"properties\": {\n        \"dtype\": \"number\",\n        \"std\": 3146,\n        \"min\": 0,\n        \"max\": 10875,\n        \"num_unique_values\": 3263,\n        \"samples\": [\n          8051,\n          425,\n          1330\n        ],\n        \"semantic_type\": \"\",\n        \"description\": \"\"\n      }\n    },\n    {\n      \"column\": \"target\",\n      \"properties\": {\n        \"dtype\": \"number\",\n        \"std\": 0,\n        \"min\": 0,\n        \"max\": 0,\n        \"num_unique_values\": 1,\n        \"samples\": [\n          0\n        ],\n        \"semantic_type\": \"\",\n        \"description\": \"\"\n      }\n    }\n  ]\n}"
            }
          },
          "metadata": {},
          "execution_count": 335
        }
      ],
      "source": [
        "df_sample_submission.head()"
      ]
    },
    {
      "cell_type": "code",
      "execution_count": 336,
      "id": "fd08987d-5fe1-45c9-bd2f-3702530bc6cb",
      "metadata": {
        "id": "fd08987d-5fe1-45c9-bd2f-3702530bc6cb",
        "outputId": "258559e6-9f66-4f96-b48f-d6dd5c21ad08",
        "colab": {
          "base_uri": "https://localhost:8080/"
        }
      },
      "outputs": [
        {
          "output_type": "execute_result",
          "data": {
            "text/plain": [
              "(3263, 2)"
            ]
          },
          "metadata": {},
          "execution_count": 336
        }
      ],
      "source": [
        "df_sample_submission.shape"
      ]
    },
    {
      "cell_type": "code",
      "execution_count": 337,
      "id": "6325f3a4-93f4-4acf-b856-c07b91d01dc8",
      "metadata": {
        "id": "6325f3a4-93f4-4acf-b856-c07b91d01dc8",
        "outputId": "54c32d45-7224-4e04-a09e-95e3e4541a35",
        "colab": {
          "base_uri": "https://localhost:8080/"
        }
      },
      "outputs": [
        {
          "output_type": "stream",
          "name": "stdout",
          "text": [
            "<class 'pandas.core.frame.DataFrame'>\n",
            "RangeIndex: 3263 entries, 0 to 3262\n",
            "Data columns (total 2 columns):\n",
            " #   Column  Non-Null Count  Dtype\n",
            "---  ------  --------------  -----\n",
            " 0   id      3263 non-null   int64\n",
            " 1   target  3263 non-null   int64\n",
            "dtypes: int64(2)\n",
            "memory usage: 51.1 KB\n"
          ]
        }
      ],
      "source": [
        "df_sample_submission.info()"
      ]
    },
    {
      "cell_type": "markdown",
      "id": "6d75720b-114f-49df-8738-7460641157fd",
      "metadata": {
        "id": "6d75720b-114f-49df-8738-7460641157fd"
      },
      "source": [
        "# Problem Statement & Data Description\n",
        "\n",
        "The goal with this project is to build a bidirectional GRU model and a bidirectional LSTM model and compare architecture performance. The architecture that more accurately predicts whether or not each tweet in the testing dataset is about a real disaster, measured by the model's F1 score, will be considered the better model.\n",
        "\n",
        "There are three data files:\n",
        "\n",
        "- **A training set of 7,613 records and 5 fields:**\n",
        "  - `id`: an integer value that is a unique identifier for each tweet  \n",
        "  - `keyword`: a string that contains a keyword from the tweet; this field may be blank (NaN)  \n",
        "  - `location`: a string that contains the location the tweet was sent from; this field may be blank (NaN)  \n",
        "  - `text`: a string that contains the text of the tweet  \n",
        "  - `target`: an integer value of either 1 or 0 which indicates whether the tweet is about a real disaster (1) or not (0)  \n",
        "\n",
        "- **A testing set of 3,263 records with 4 fields:**\n",
        "  - `id`: an integer variable that is a unique identifier for each tweet  \n",
        "  - `keyword`: a string that contains a keyword from the tweet; this field may be blank (NaN)  \n",
        "  - `location`: a string that contains the location the tweet was sent from; this field may be blank (NaN)  \n",
        "  - `text`: a string that contains the text of the tweet  \n",
        "\n",
        "- **A sample submission** of 2 fields consisting of the testing data `id`s and their predicted `target`\n"
      ]
    },
    {
      "cell_type": "markdown",
      "id": "d5b80284-706b-469a-a31a-b89c2a7ac69d",
      "metadata": {
        "id": "d5b80284-706b-469a-a31a-b89c2a7ac69d"
      },
      "source": [
        "# Data Cleaning"
      ]
    },
    {
      "cell_type": "markdown",
      "id": "63c84a11-857c-4ad2-bb64-dd7123d7f889",
      "metadata": {
        "id": "63c84a11-857c-4ad2-bb64-dd7123d7f889"
      },
      "source": [
        "### Check for Duplicates\n",
        "\n",
        "We will first check for any duplicates in our dataset. With this process, we will take a relatively conservative approach and only consider the record a duplicate if its text, location and keyword are exactly the same as another record."
      ]
    },
    {
      "cell_type": "code",
      "execution_count": 338,
      "id": "ec2669c0-f578-47c0-9d6d-565e4127bdc4",
      "metadata": {
        "id": "ec2669c0-f578-47c0-9d6d-565e4127bdc4",
        "outputId": "ff52a43a-9b61-4d40-d2ff-a742a8ca1da6",
        "colab": {
          "base_uri": "https://localhost:8080/"
        }
      },
      "outputs": [
        {
          "output_type": "stream",
          "name": "stdout",
          "text": [
            "Number of duplicates where text, location, and keyword all match: 61\n"
          ]
        }
      ],
      "source": [
        "num_duplicates = df_train_data.duplicated(subset=['text', 'location', 'keyword']).sum()\n",
        "print(f\"Number of duplicates where text, location, and keyword all match: {num_duplicates}\")"
      ]
    },
    {
      "cell_type": "code",
      "execution_count": 339,
      "id": "ba3fc020-17cd-4d02-b875-a2f9612e1188",
      "metadata": {
        "id": "ba3fc020-17cd-4d02-b875-a2f9612e1188",
        "outputId": "a3cb652c-6cdb-4e67-fbd7-2cb21714d851",
        "colab": {
          "base_uri": "https://localhost:8080/"
        }
      },
      "outputs": [
        {
          "output_type": "stream",
          "name": "stdout",
          "text": [
            "Percentage of duplicates where text, location, and keyword all match: 0.8012610009194797\n"
          ]
        }
      ],
      "source": [
        "percent_dup = num_duplicates/len(df_train_data)*100\n",
        "print(f\"Percentage of duplicates where text, location, and keyword all match: {percent_dup}\")"
      ]
    },
    {
      "cell_type": "code",
      "execution_count": 340,
      "id": "00d45442-9d0c-49d1-8223-97fe66c0e9a5",
      "metadata": {
        "id": "00d45442-9d0c-49d1-8223-97fe66c0e9a5"
      },
      "outputs": [],
      "source": [
        "df_deduped = df_train_data.drop_duplicates(subset= ['text', 'location', 'keyword'], keep='first')"
      ]
    },
    {
      "cell_type": "code",
      "execution_count": 341,
      "id": "a675f84f-1c86-409e-8f6e-8d0b968fc3ad",
      "metadata": {
        "id": "a675f84f-1c86-409e-8f6e-8d0b968fc3ad",
        "outputId": "eccfd418-028a-49b5-f450-131b572fab3e",
        "colab": {
          "base_uri": "https://localhost:8080/"
        }
      },
      "outputs": [
        {
          "output_type": "stream",
          "name": "stdout",
          "text": [
            "Rows removed: 61\n"
          ]
        }
      ],
      "source": [
        "rows_removed = len(df_train_data) - len(df_deduped)\n",
        "print(f\"Rows removed: {rows_removed}\")"
      ]
    },
    {
      "cell_type": "code",
      "execution_count": 342,
      "id": "f0a9713f-7413-4679-8aa2-40a75c348916",
      "metadata": {
        "id": "f0a9713f-7413-4679-8aa2-40a75c348916"
      },
      "outputs": [],
      "source": [
        "df_train_data = df_deduped"
      ]
    },
    {
      "cell_type": "code",
      "execution_count": 343,
      "id": "a6c2930b-1431-4190-984c-f73754dd46aa",
      "metadata": {
        "id": "a6c2930b-1431-4190-984c-f73754dd46aa",
        "outputId": "bafaed85-ae9e-4beb-b71e-df1b984eee15",
        "colab": {
          "base_uri": "https://localhost:8080/"
        }
      },
      "outputs": [
        {
          "output_type": "stream",
          "name": "stdout",
          "text": [
            "Records in updated training data: 7552\n"
          ]
        }
      ],
      "source": [
        "records = len(df_train_data)\n",
        "print(f\"Records in updated training data: {records}\")"
      ]
    },
    {
      "cell_type": "markdown",
      "id": "13403e9b-79d6-4e4b-9c6f-3e8f2af4eb4a",
      "metadata": {
        "id": "13403e9b-79d6-4e4b-9c6f-3e8f2af4eb4a"
      },
      "source": [
        "#### Duplicates Summary\n",
        "\n",
        "Less than 1% of the records were duplicates. These duplicates were removed, leaving us with 7,552 tweets in the training data."
      ]
    },
    {
      "cell_type": "markdown",
      "id": "6cd713a7-0b59-4ce9-9045-83e4c4785d70",
      "metadata": {
        "id": "6cd713a7-0b59-4ce9-9045-83e4c4785d70"
      },
      "source": [
        "### Check for Missing Values"
      ]
    },
    {
      "cell_type": "code",
      "execution_count": 344,
      "id": "fd208c69-dcd4-4c54-8294-b374c5fcd2b0",
      "metadata": {
        "id": "fd208c69-dcd4-4c54-8294-b374c5fcd2b0",
        "outputId": "6430cd62-dd00-404e-febb-0e106a62933c",
        "colab": {
          "base_uri": "https://localhost:8080/"
        }
      },
      "outputs": [
        {
          "output_type": "stream",
          "name": "stdout",
          "text": [
            "id             0\n",
            "keyword       61\n",
            "location    2493\n",
            "text           0\n",
            "target         0\n",
            "dtype: int64\n"
          ]
        }
      ],
      "source": [
        "print(df_train_data.isnull().sum())"
      ]
    },
    {
      "cell_type": "markdown",
      "id": "39aad386-a805-40b4-8271-07f644f0b783",
      "metadata": {
        "id": "39aad386-a805-40b4-8271-07f644f0b783"
      },
      "source": [
        "#### Missing Values Summary\n",
        "\n",
        "There are missing values in both the keyword and location fields, however since we will be training on the text field this is not of concern."
      ]
    },
    {
      "cell_type": "markdown",
      "id": "8252fc22-df2e-4528-9fc9-85e0050cc48c",
      "metadata": {
        "id": "8252fc22-df2e-4528-9fc9-85e0050cc48c"
      },
      "source": [
        "### Data Cleaning Summary\n",
        "\n",
        "A conservative approach to deduplicating was used in that a record was only considered to be a duplicate if it was an exact match across the fields `keyword`, `location`, and `text`. 61 duplicates were removed from the training data set using this approach. The `keyword` and `location` fields both have missing values with `location` having the most. Since the model will be trained on the `text` field, there was not any cleaning done on the missing values in `location` and `keyword`."
      ]
    },
    {
      "cell_type": "markdown",
      "id": "edad3eed-351e-4cb4-8ecd-47e0852b3e83",
      "metadata": {
        "id": "edad3eed-351e-4cb4-8ecd-47e0852b3e83"
      },
      "source": [
        "# EDA\n",
        "\n",
        "During the EDA process we will:\n",
        "\n",
        "- Look at distribution of target categories\n",
        "- Look at word distribution for dataset\n",
        "- Look at word distribution for each target category\n",
        "- Look at location for each target category"
      ]
    },
    {
      "cell_type": "markdown",
      "id": "7a2e3941-cb4b-4728-b8a0-1ddb74a1e0e8",
      "metadata": {
        "id": "7a2e3941-cb4b-4728-b8a0-1ddb74a1e0e8"
      },
      "source": [
        "### Target Distribution"
      ]
    },
    {
      "cell_type": "code",
      "execution_count": 345,
      "id": "f5e6ae6e-09fc-4dec-9440-c627b36ca383",
      "metadata": {
        "id": "f5e6ae6e-09fc-4dec-9440-c627b36ca383",
        "outputId": "532c55f2-d04e-4832-ca9d-ac63b36d1ffb",
        "colab": {
          "base_uri": "https://localhost:8080/",
          "height": 487
        }
      },
      "outputs": [
        {
          "output_type": "display_data",
          "data": {
            "text/plain": [
              "<Figure size 640x480 with 1 Axes>"
            ],
            "image/png": "[encoded data removed]"
          },
          "metadata": {}
        }
      ],
      "source": [
        "ax = sns.countplot(x='target', data=df_train_data)\n",
        "ax.set_xticks([0, 1])\n",
        "ax.set_xticklabels(['0 (Not a Disaster)', '1 (Disaster)'])\n",
        "\n",
        "plt.title('Count of Target Label (Not a Disaster vs. Disaster)')\n",
        "plt.xlabel('Target')\n",
        "plt.ylabel('Count')\n",
        "plt.tight_layout()\n",
        "plt.show()"
      ]
    },
    {
      "cell_type": "code",
      "execution_count": 346,
      "id": "07b16ad3-8321-4d89-88c2-c0b55cf27383",
      "metadata": {
        "id": "07b16ad3-8321-4d89-88c2-c0b55cf27383",
        "outputId": "a836d2e4-4464-43ad-b9f7-4300cd23092e",
        "colab": {
          "base_uri": "https://localhost:8080/",
          "height": 428
        }
      },
      "outputs": [
        {
          "output_type": "display_data",
          "data": {
            "text/plain": [
              "<Figure size 640x480 with 1 Axes>"
            ],
            "image/png": "[encoded data removed]"
          },
          "metadata": {}
        }
      ],
      "source": [
        "train_data_grpd = df_train_data.groupby('target').size()\n",
        "percentages = train_data_grpd / train_data_grpd.sum() * 100\n",
        "\n",
        "plt.pie(percentages, labels=percentages.index, autopct='%1.1f%%')\n",
        "plt.title('Distribution by Target Label (Not a Disaster vs. Disaster)')\n",
        "plt.show()"
      ]
    },
    {
      "cell_type": "markdown",
      "id": "d0ad5f88-f943-4107-959b-0dcca446353e",
      "metadata": {
        "id": "d0ad5f88-f943-4107-959b-0dcca446353e"
      },
      "source": [
        "#### Distribution Summary\n",
        "From the count barplot and the distribution pie chart, we can see that the classes are fairly balanced at 57% of the labels being not a disaster and 43% being a disaster."
      ]
    },
    {
      "cell_type": "markdown",
      "id": "1aeb5dc0-ed3c-4bf8-a99c-fd931286c578",
      "metadata": {
        "id": "1aeb5dc0-ed3c-4bf8-a99c-fd931286c578"
      },
      "source": [
        "### Word Statistics & Distribution\n",
        "\n",
        "Next, we will look at the distribution of words within the target categories. Our aim is to discern if there are any identifiable key differences in terms. We will start with some summary statistics."
      ]
    },
    {
      "cell_type": "markdown",
      "id": "284f3620-e052-4ef9-be41-d58b71a0663c",
      "metadata": {
        "id": "284f3620-e052-4ef9-be41-d58b71a0663c"
      },
      "source": [
        "#### Word Statistics"
      ]
    },
    {
      "cell_type": "code",
      "execution_count": 347,
      "id": "183d47ef-c88f-4d73-9437-2f7aec191878",
      "metadata": {
        "id": "183d47ef-c88f-4d73-9437-2f7aec191878"
      },
      "outputs": [],
      "source": [
        "def text_stats(texts):\n",
        "    all_words = ' '.join(texts).lower().split()\n",
        "    word_counts = texts.apply(lambda x: len(x.split()))\n",
        "    mean_word_count = word_counts.mean()\n",
        "    median_word_count = word_counts.median()\n",
        "    unique_word_count = len(set(all_words))\n",
        "    unique_word_percentage = round(unique_word_count / len(all_words) * 100, 2)\n",
        "    most_common_word = Counter(all_words).most_common(1)[0][0] if all_words else None\n",
        "\n",
        "    stopword_count = sum(1 for word in all_words if word in ENGLISH_STOP_WORDS)\n",
        "    stopword_percentage = round(stopword_count / len(all_words) * 100, 2) if all_words else 0\n",
        "\n",
        "\n",
        "    return pd.Series({\n",
        "        'Avg Word Count': mean_word_count,\n",
        "        'Median Word Count': median_word_count,\n",
        "        'Most Common Word': most_common_word,\n",
        "        'Unique Word Percent': unique_word_percentage,\n",
        "        'Stopword Percent': stopword_percentage\n",
        "\n",
        "    })\n"
      ]
    },
    {
      "cell_type": "code",
      "execution_count": 348,
      "id": "d38690a6-e2a5-4709-bf3d-77a537ba47a9",
      "metadata": {
        "id": "d38690a6-e2a5-4709-bf3d-77a537ba47a9"
      },
      "outputs": [],
      "source": [
        "target_stats = df_train_data.groupby('target')['text'].apply(text_stats).reset_index()\n",
        "df_target_stats_long = pd.DataFrame(target_stats)\n",
        "df_target_stats_wide = df_target_stats_long.pivot(index='target', columns='level_1', values='text')\n",
        "df_target_stats_wide.columns.name = None\n",
        "df_target_stats_wide.sort_values(by='Avg Word Count', ascending=False, inplace = True)"
      ]
    },
    {
      "cell_type": "code",
      "execution_count": 349,
      "id": "202e49ec-64ae-4f38-98d3-2686e95bf708",
      "metadata": {
        "id": "202e49ec-64ae-4f38-98d3-2686e95bf708",
        "outputId": "a4d0ef99-b62d-48dd-ddf4-e843d5f21fbb",
        "colab": {
          "base_uri": "https://localhost:8080/",
          "height": 143
        }
      },
      "outputs": [
        {
          "output_type": "execute_result",
          "data": {
            "text/plain": [
              "       Avg Word Count Median Word Count Most Common Word Stopword Percent  \\\n",
              "target                                                                      \n",
              "1           15.151731              15.0              the            30.09   \n",
              "0           14.690222              15.0              the            35.55   \n",
              "\n",
              "       Unique Word Percent  \n",
              "target                      \n",
              "1                    29.14  \n",
              "0                     28.3  "
            ],
            "text/html": [
              "\n",
              "  <div id=\"df-0aa25c79-7e37-4564-800f-859cc8948585\" class=\"colab-df-container\">\n",
              "    <div>\n",
              "<style scoped>\n",
              "    .dataframe tbody tr th:only-of-type {\n",
              "        vertical-align: middle;\n",
              "    }\n",
              "\n",
              "    .dataframe tbody tr th {\n",
              "        vertical-align: top;\n",
              "    }\n",
              "\n",
              "    .dataframe thead th {\n",
              "        text-align: right;\n",
              "    }\n",
              "</style>\n",
              "<table border=\"1\" class=\"dataframe\">\n",
              "  <thead>\n",
              "    <tr style=\"text-align: right;\">\n",
              "      <th></th>\n",
              "      <th>Avg Word Count</th>\n",
              "      <th>Median Word Count</th>\n",
              "      <th>Most Common Word</th>\n",
              "      <th>Stopword Percent</th>\n",
              "      <th>Unique Word Percent</th>\n",
              "    </tr>\n",
              "    <tr>\n",
              "      <th>target</th>\n",
              "      <th></th>\n",
              "      <th></th>\n",
              "      <th></th>\n",
              "      <th></th>\n",
              "      <th></th>\n",
              "    </tr>\n",
              "  </thead>\n",
              "  <tbody>\n",
              "    <tr>\n",
              "      <th>1</th>\n",
              "      <td>15.151731</td>\n",
              "      <td>15.0</td>\n",
              "      <td>the</td>\n",
              "      <td>30.09</td>\n",
              "      <td>29.14</td>\n",
              "    </tr>\n",
              "    <tr>\n",
              "      <th>0</th>\n",
              "      <td>14.690222</td>\n",
              "      <td>15.0</td>\n",
              "      <td>the</td>\n",
              "      <td>35.55</td>\n",
              "      <td>28.3</td>\n",
              "    </tr>\n",
              "  </tbody>\n",
              "</table>\n",
              "</div>\n",
              "    <div class=\"colab-df-buttons\">\n",
              "\n",
              "  <div class=\"colab-df-container\">\n",
              "    <button class=\"colab-df-convert\" onclick=\"convertToInteractive('df-0aa25c79-7e37-4564-800f-859cc8948585')\"\n",
              "            title=\"Convert this dataframe to an interactive table.\"\n",
              "            style=\"display:none;\">\n",
              "\n",
              "  <svg xmlns=\"http://www.w3.org/2000/svg\" height=\"24px\" viewBox=\"0 -960 960 960\">\n",
              "    <path d=\"M120-120v-720h720v720H120Zm60-500h600v-160H180v160Zm220 220h160v-160H400v160Zm0 220h160v-160H400v160ZM180-400h160v-160H180v160Zm440 0h160v-160H620v160ZM180-180h160v-160H180v160Zm440 0h160v-160H620v160Z\"/>\n",
              "  </svg>\n",
              "    </button>\n",
              "\n",
              "  <style>\n",
              "    .colab-df-container {\n",
              "      display:flex;\n",
              "      gap: 12px;\n",
              "    }\n",
              "\n",
              "    .colab-df-convert {\n",
              "      background-color: #E8F0FE;\n",
              "      border: none;\n",
              "      border-radius: 50%;\n",
              "      cursor: pointer;\n",
              "      display: none;\n",
              "      fill: #1967D2;\n",
              "      height: 32px;\n",
              "      padding: 0 0 0 0;\n",
              "      width: 32px;\n",
              "    }\n",
              "\n",
              "    .colab-df-convert:hover {\n",
              "      background-color: #E2EBFA;\n",
              "      box-shadow: 0px 1px 2px rgba(60, 64, 67, 0.3), 0px 1px 3px 1px rgba(60, 64, 67, 0.15);\n",
              "      fill: #174EA6;\n",
              "    }\n",
              "\n",
              "    .colab-df-buttons div {\n",
              "      margin-bottom: 4px;\n",
              "    }\n",
              "\n",
              "    [theme=dark] .colab-df-convert {\n",
              "      background-color: #3B4455;\n",
              "      fill: #D2E3FC;\n",
              "    }\n",
              "\n",
              "    [theme=dark] .colab-df-convert:hover {\n",
              "      background-color: #434B5C;\n",
              "      box-shadow: 0px 1px 3px 1px rgba(0, 0, 0, 0.15);\n",
              "      filter: drop-shadow(0px 1px 2px rgba(0, 0, 0, 0.3));\n",
              "      fill: #FFFFFF;\n",
              "    }\n",
              "  </style>\n",
              "\n",
              "    <script>\n",
              "      const buttonEl =\n",
              "        document.querySelector('#df-0aa25c79-7e37-4564-800f-859cc8948585 button.colab-df-convert');\n",
              "      buttonEl.style.display =\n",
              "        google.colab.kernel.accessAllowed ? 'block' : 'none';\n",
              "\n",
              "      async function convertToInteractive(key) {\n",
              "        const element = document.querySelector('#df-0aa25c79-7e37-4564-800f-859cc8948585');\n",
              "        const dataTable =\n",
              "          await google.colab.kernel.invokeFunction('convertToInteractive',\n",
              "                                                    [key], {});\n",
              "        if (!dataTable) return;\n",
              "\n",
              "        const docLinkHtml = 'Like what you see? Visit the ' +\n",
              "          '<a target=\"_blank\" href=https://colab.research.google.com/notebooks/data_table.ipynb>data table notebook</a>'\n",
              "          + ' to learn more about interactive tables.';\n",
              "        element.innerHTML = '';\n",
              "        dataTable['output_type'] = 'display_data';\n",
              "        await google.colab.output.renderOutput(dataTable, element);\n",
              "        const docLink = document.createElement('div');\n",
              "        docLink.innerHTML = docLinkHtml;\n",
              "        element.appendChild(docLink);\n",
              "      }\n",
              "    </script>\n",
              "  </div>\n",
              "\n",
              "\n",
              "    <div id=\"df-da8640d6-1ff6-45df-bd1d-c8503b8a2c54\">\n",
              "      <button class=\"colab-df-quickchart\" onclick=\"quickchart('df-da8640d6-1ff6-45df-bd1d-c8503b8a2c54')\"\n",
              "                title=\"Suggest charts\"\n",
              "                style=\"display:none;\">\n",
              "\n",
              "<svg xmlns=\"http://www.w3.org/2000/svg\" height=\"24px\"viewBox=\"0 0 24 24\"\n",
              "     width=\"24px\">\n",
              "    <g>\n",
              "        <path d=\"M19 3H5c-1.1 0-2 .9-2 2v14c0 1.1.9 2 2 2h14c1.1 0 2-.9 2-2V5c0-1.1-.9-2-2-2zM9 17H7v-7h2v7zm4 0h-2V7h2v10zm4 0h-2v-4h2v4z\"/>\n",
              "    </g>\n",
              "</svg>\n",
              "      </button>\n",
              "\n",
              "<style>\n",
              "  .colab-df-quickchart {\n",
              "      --bg-color: #E8F0FE;\n",
              "      --fill-color: #1967D2;\n",
              "      --hover-bg-color: #E2EBFA;\n",
              "      --hover-fill-color: #174EA6;\n",
              "      --disabled-fill-color: #AAA;\n",
              "      --disabled-bg-color: #DDD;\n",
              "  }\n",
              "\n",
              "  [theme=dark] .colab-df-quickchart {\n",
              "      --bg-color: #3B4455;\n",
              "      --fill-color: #D2E3FC;\n",
              "      --hover-bg-color: #434B5C;\n",
              "      --hover-fill-color: #FFFFFF;\n",
              "      --disabled-bg-color: #3B4455;\n",
              "      --disabled-fill-color: #666;\n",
              "  }\n",
              "\n",
              "  .colab-df-quickchart {\n",
              "    background-color: var(--bg-color);\n",
              "    border: none;\n",
              "    border-radius: 50%;\n",
              "    cursor: pointer;\n",
              "    display: none;\n",
              "    fill: var(--fill-color);\n",
              "    height: 32px;\n",
              "    padding: 0;\n",
              "    width: 32px;\n",
              "  }\n",
              "\n",
              "  .colab-df-quickchart:hover {\n",
              "    background-color: var(--hover-bg-color);\n",
              "    box-shadow: 0 1px 2px rgba(60, 64, 67, 0.3), 0 1px 3px 1px rgba(60, 64, 67, 0.15);\n",
              "    fill: var(--button-hover-fill-color);\n",
              "  }\n",
              "\n",
              "  .colab-df-quickchart-complete:disabled,\n",
              "  .colab-df-quickchart-complete:disabled:hover {\n",
              "    background-color: var(--disabled-bg-color);\n",
              "    fill: var(--disabled-fill-color);\n",
              "    box-shadow: none;\n",
              "  }\n",
              "\n",
              "  .colab-df-spinner {\n",
              "    border: 2px solid var(--fill-color);\n",
              "    border-color: transparent;\n",
              "    border-bottom-color: var(--fill-color);\n",
              "    animation:\n",
              "      spin 1s steps(1) infinite;\n",
              "  }\n",
              "\n",
              "  @keyframes spin {\n",
              "    0% {\n",
              "      border-color: transparent;\n",
              "      border-bottom-color: var(--fill-color);\n",
              "      border-left-color: var(--fill-color);\n",
              "    }\n",
              "    20% {\n",
              "      border-color: transparent;\n",
              "      border-left-color: var(--fill-color);\n",
              "      border-top-color: var(--fill-color);\n",
              "    }\n",
              "    30% {\n",
              "      border-color: transparent;\n",
              "      border-left-color: var(--fill-color);\n",
              "      border-top-color: var(--fill-color);\n",
              "      border-right-color: var(--fill-color);\n",
              "    }\n",
              "    40% {\n",
              "      border-color: transparent;\n",
              "      border-right-color: var(--fill-color);\n",
              "      border-top-color: var(--fill-color);\n",
              "    }\n",
              "    60% {\n",
              "      border-color: transparent;\n",
              "      border-right-color: var(--fill-color);\n",
              "    }\n",
              "    80% {\n",
              "      border-color: transparent;\n",
              "      border-right-color: var(--fill-color);\n",
              "      border-bottom-color: var(--fill-color);\n",
              "    }\n",
              "    90% {\n",
              "      border-color: transparent;\n",
              "      border-bottom-color: var(--fill-color);\n",
              "    }\n",
              "  }\n",
              "</style>\n",
              "\n",
              "      <script>\n",
              "        async function quickchart(key) {\n",
              "          const quickchartButtonEl =\n",
              "            document.querySelector('#' + key + ' button');\n",
              "          quickchartButtonEl.disabled = true;  // To prevent multiple clicks.\n",
              "          quickchartButtonEl.classList.add('colab-df-spinner');\n",
              "          try {\n",
              "            const charts = await google.colab.kernel.invokeFunction(\n",
              "                'suggestCharts', [key], {});\n",
              "          } catch (error) {\n",
              "            console.error('Error during call to suggestCharts:', error);\n",
              "          }\n",
              "          quickchartButtonEl.classList.remove('colab-df-spinner');\n",
              "          quickchartButtonEl.classList.add('colab-df-quickchart-complete');\n",
              "        }\n",
              "        (() => {\n",
              "          let quickchartButtonEl =\n",
              "            document.querySelector('#df-da8640d6-1ff6-45df-bd1d-c8503b8a2c54 button');\n",
              "          quickchartButtonEl.style.display =\n",
              "            google.colab.kernel.accessAllowed ? 'block' : 'none';\n",
              "        })();\n",
              "      </script>\n",
              "    </div>\n",
              "\n",
              "  <div id=\"id_a621024b-35fc-4bcd-9845-21286af73fce\">\n",
              "    <style>\n",
              "      .colab-df-generate {\n",
              "        background-color: #E8F0FE;\n",
              "        border: none;\n",
              "        border-radius: 50%;\n",
              "        cursor: pointer;\n",
              "        display: none;\n",
              "        fill: #1967D2;\n",
              "        height: 32px;\n",
              "        padding: 0 0 0 0;\n",
              "        width: 32px;\n",
              "      }\n",
              "\n",
              "      .colab-df-generate:hover {\n",
              "        background-color: #E2EBFA;\n",
              "        box-shadow: 0px 1px 2px rgba(60, 64, 67, 0.3), 0px 1px 3px 1px rgba(60, 64, 67, 0.15);\n",
              "        fill: #174EA6;\n",
              "      }\n",
              "\n",
              "      [theme=dark] .colab-df-generate {\n",
              "        background-color: #3B4455;\n",
              "        fill: #D2E3FC;\n",
              "      }\n",
              "\n",
              "      [theme=dark] .colab-df-generate:hover {\n",
              "        background-color: #434B5C;\n",
              "        box-shadow: 0px 1px 3px 1px rgba(0, 0, 0, 0.15);\n",
              "        filter: drop-shadow(0px 1px 2px rgba(0, 0, 0, 0.3));\n",
              "        fill: #FFFFFF;\n",
              "      }\n",
              "    </style>\n",
              "    <button class=\"colab-df-generate\" onclick=\"generateWithVariable('df_target_stats_wide')\"\n",
              "            title=\"Generate code using this dataframe.\"\n",
              "            style=\"display:none;\">\n",
              "\n",
              "  <svg xmlns=\"http://www.w3.org/2000/svg\" height=\"24px\"viewBox=\"0 0 24 24\"\n",
              "       width=\"24px\">\n",
              "    <path d=\"M7,19H8.4L18.45,9,17,7.55,7,17.6ZM5,21V16.75L18.45,3.32a2,2,0,0,1,2.83,0l1.4,1.43a1.91,1.91,0,0,1,.58,1.4,1.91,1.91,0,0,1-.58,1.4L9.25,21ZM18.45,9,17,7.55Zm-12,3A5.31,5.31,0,0,0,4.9,8.1,5.31,5.31,0,0,0,1,6.5,5.31,5.31,0,0,0,4.9,4.9,5.31,5.31,0,0,0,6.5,1,5.31,5.31,0,0,0,8.1,4.9,5.31,5.31,0,0,0,12,6.5,5.46,5.46,0,0,0,6.5,12Z\"/>\n",
              "  </svg>\n",
              "    </button>\n",
              "    <script>\n",
              "      (() => {\n",
              "      const buttonEl =\n",
              "        document.querySelector('#id_a621024b-35fc-4bcd-9845-21286af73fce button.colab-df-generate');\n",
              "      buttonEl.style.display =\n",
              "        google.colab.kernel.accessAllowed ? 'block' : 'none';\n",
              "\n",
              "      buttonEl.onclick = () => {\n",
              "        google.colab.notebook.generateWithVariable('df_target_stats_wide');\n",
              "      }\n",
              "      })();\n",
              "    </script>\n",
              "  </div>\n",
              "\n",
              "    </div>\n",
              "  </div>\n"
            ],
            "application/vnd.google.colaboratory.intrinsic+json": {
              "type": "dataframe",
              "variable_name": "df_target_stats_wide",
              "summary": "{\n  \"name\": \"df_target_stats_wide\",\n  \"rows\": 2,\n  \"fields\": [\n    {\n      \"column\": \"target\",\n      \"properties\": {\n        \"dtype\": \"number\",\n        \"std\": 0,\n        \"min\": 0,\n        \"max\": 1,\n        \"num_unique_values\": 2,\n        \"samples\": [\n          0,\n          1\n        ],\n        \"semantic_type\": \"\",\n        \"description\": \"\"\n      }\n    },\n    {\n      \"column\": \"Avg Word Count\",\n      \"properties\": {\n        \"dtype\": \"date\",\n        \"min\": 14.690222428174236,\n        \"max\": 15.151730531520396,\n        \"num_unique_values\": 2,\n        \"samples\": [\n          14.690222428174236,\n          15.151730531520396\n        ],\n        \"semantic_type\": \"\",\n        \"description\": \"\"\n      }\n    },\n    {\n      \"column\": \"Median Word Count\",\n      \"properties\": {\n        \"dtype\": \"date\",\n        \"min\": 15.0,\n        \"max\": 15.0,\n        \"num_unique_values\": 1,\n        \"samples\": [\n          15.0\n        ],\n        \"semantic_type\": \"\",\n        \"description\": \"\"\n      }\n    },\n    {\n      \"column\": \"Most Common Word\",\n      \"properties\": {\n        \"dtype\": \"string\",\n        \"num_unique_values\": 1,\n        \"samples\": [\n          \"the\"\n        ],\n        \"semantic_type\": \"\",\n        \"description\": \"\"\n      }\n    },\n    {\n      \"column\": \"Stopword Percent\",\n      \"properties\": {\n        \"dtype\": \"date\",\n        \"min\": 30.09,\n        \"max\": 35.55,\n        \"num_unique_values\": 2,\n        \"samples\": [\n          35.55\n        ],\n        \"semantic_type\": \"\",\n        \"description\": \"\"\n      }\n    },\n    {\n      \"column\": \"Unique Word Percent\",\n      \"properties\": {\n        \"dtype\": \"date\",\n        \"min\": 28.3,\n        \"max\": 29.14,\n        \"num_unique_values\": 2,\n        \"samples\": [\n          28.3\n        ],\n        \"semantic_type\": \"\",\n        \"description\": \"\"\n      }\n    }\n  ]\n}"
            }
          },
          "metadata": {},
          "execution_count": 349
        }
      ],
      "source": [
        "df_target_stats_wide"
      ]
    },
    {
      "cell_type": "markdown",
      "id": "720d0912-c011-47d4-acc1-9f0e189d11c8",
      "metadata": {
        "id": "720d0912-c011-47d4-acc1-9f0e189d11c8"
      },
      "source": [
        "#### Word Statistics Summary\n",
        "\n",
        "We can see from the word statistics summary that the tweets labeled 1 versus the tweets labeled 0 are not largely different. They share the same median word count, their averages are not far off from each other, likewise the percentage of stopwords are similar as well as the percent of unique words used. Because there is a large percentage of stopwords for both sets and the most common word is the, we will need to remove the stopwords in the preprocessing stage. Now that we can see the statistics are relatively similiar, lets plot the disitribution of length by target to see if they too are similar or different."
      ]
    },
    {
      "cell_type": "markdown",
      "id": "8de26b02-2d35-40d1-aa40-826604cbd0e7",
      "metadata": {
        "id": "8de26b02-2d35-40d1-aa40-826604cbd0e7"
      },
      "source": [
        "### Distribution of Length of Tweets"
      ]
    },
    {
      "cell_type": "code",
      "execution_count": 350,
      "id": "5240c0f4-aa72-451f-b1f9-7a91a446a0ba",
      "metadata": {
        "id": "5240c0f4-aa72-451f-b1f9-7a91a446a0ba"
      },
      "outputs": [],
      "source": [
        "df_train_data['text_length'] = df_train_data['text'].str.len()"
      ]
    },
    {
      "cell_type": "code",
      "execution_count": 351,
      "id": "a88d7a52-6242-458e-8a00-20fa2b8396d4",
      "metadata": {
        "id": "a88d7a52-6242-458e-8a00-20fa2b8396d4",
        "outputId": "724d174d-e302-4313-8834-b76367468893",
        "colab": {
          "base_uri": "https://localhost:8080/",
          "height": 472
        }
      },
      "outputs": [
        {
          "output_type": "display_data",
          "data": {
            "text/plain": [
              "<Figure size 640x480 with 1 Axes>"
            ],
            "image/png": "[encoded data removed]"
          },
          "metadata": {}
        }
      ],
      "source": [
        "sns.histplot(data=df_train_data[df_train_data['target']==0]['text_length'], kde=True, color='blue', label='Not Disaster')\n",
        "sns.histplot(data=df_train_data[df_train_data['target']==1]['text_length'], kde=True, color='red', label='Disaster')\n",
        "plt.legend()\n",
        "plt.title(\"Histogram of Text Lengths by Target\")\n",
        "plt.xlabel(\"Text Length\")\n",
        "plt.ylabel(\"Count\")\n",
        "plt.show()"
      ]
    },
    {
      "cell_type": "markdown",
      "id": "51f20306-30e1-4bca-8cc7-86739a1e7b1f",
      "metadata": {
        "id": "51f20306-30e1-4bca-8cc7-86739a1e7b1f"
      },
      "source": [
        "#### Distribution Summary\n",
        "\n",
        "The distributions of the disaster and not disaster groups appear relatively similiar. They both are left-skewed distributions that peak in close to the same point at a length just short of 140 characters. This intuitively makes sense as the original maximum tweet length was 140 characters."
      ]
    },
    {
      "cell_type": "markdown",
      "id": "49b739d1-0706-4dec-976e-7f31f772067e",
      "metadata": {
        "id": "49b739d1-0706-4dec-976e-7f31f772067e"
      },
      "source": [
        "### Top 10 Words by Category"
      ]
    },
    {
      "cell_type": "code",
      "execution_count": 352,
      "id": "90d8d10e-47b6-49d8-baa3-77935ee27423",
      "metadata": {
        "id": "90d8d10e-47b6-49d8-baa3-77935ee27423"
      },
      "outputs": [],
      "source": [
        "def top_10_words_by_target(df):\n",
        "    fig, ax = plt.subplots(1, 2, figsize=(20, 10))\n",
        "\n",
        "    for idx, target_val in enumerate([1, 0]):\n",
        "        subset = df[df['target'] == target_val]\n",
        "        text = ' '.join(subset['text'].astype(str))  # Replace 'text' if your column has a different name\n",
        "\n",
        "        # CountVectorizer with stopwords\n",
        "        vectorizer = CountVectorizer(lowercase=True, stop_words='english')\n",
        "        X = vectorizer.fit_transform([text])\n",
        "        word_freq = dict(zip(vectorizer.get_feature_names_out(), X.toarray().sum(axis=0)))\n",
        "\n",
        "        # Get top 10\n",
        "        top_words = sorted(word_freq.items(), key=lambda x: x[1], reverse=True)[:10]\n",
        "        words, freqs = zip(*top_words)\n",
        "\n",
        "        # Plotting\n",
        "        ax[idx].bar(words, freqs)\n",
        "        ax[idx].set_title(f\"Top 10 Words (target = {target_val})\")\n",
        "        ax[idx].set_xlabel(\"Frequency\")\n",
        "\n",
        "    plt.tight_layout()\n",
        "    plt.show()"
      ]
    },
    {
      "cell_type": "code",
      "execution_count": 353,
      "id": "ddcf512e-2730-4212-9358-a094518215d9",
      "metadata": {
        "id": "ddcf512e-2730-4212-9358-a094518215d9",
        "outputId": "141dca52-2e72-4d6a-bee8-f20c2a57be52",
        "colab": {
          "base_uri": "https://localhost:8080/",
          "height": 814
        }
      },
      "outputs": [
        {
          "output_type": "display_data",
          "data": {
            "text/plain": [
              "<Figure size 2000x1000 with 2 Axes>"
            ],
            "image/png": "[encoded data removed]"
          },
          "metadata": {}
        }
      ],
      "source": [
        "top_10_words_by_target(df_train_data)"
      ]
    },
    {
      "cell_type": "markdown",
      "id": "9b9b4a6f-cf6d-4cf8-807a-2df17f85f5fe",
      "metadata": {
        "id": "9b9b4a6f-cf6d-4cf8-807a-2df17f85f5fe"
      },
      "source": [
        "#### Top 10 Summary\n",
        "\n",
        "While the top 10 summary does show there are some key word differences between the two datasets, for example terms like 'disaster', 'police' and 'suicide' are some of the top words in the data labeled disaster while words like 'like', 'just' and 'new' are top words in the data labeled not disaster, it more than anything sheds light on the preprocessing that will need to be done. We can see http, https, amp (as in ampersand) and $\\hat{u}$_ across both labels and these will need to be removed prior to modeling to ensure the cleanest dataset possible."
      ]
    },
    {
      "cell_type": "markdown",
      "id": "49cd59d7-420a-4ce8-9189-5e7c34efbbcf",
      "metadata": {
        "id": "49cd59d7-420a-4ce8-9189-5e7c34efbbcf"
      },
      "source": [
        "### EDA Summary\n",
        "\n",
        "Through EDA, we discovered:\n",
        "\n",
        "- The labels were evenly distributed\n",
        "- The summary statistics for the target labels are similar\n",
        "- The distribution of the length for the target labels are similar\n",
        "- The top 10 words by label showed the need for additional preprocessing on the texts"
      ]
    },
    {
      "cell_type": "markdown",
      "id": "17b86cf6-f8c6-4d9f-936f-d5adf0243951",
      "metadata": {
        "id": "17b86cf6-f8c6-4d9f-936f-d5adf0243951"
      },
      "source": [
        "# Preprocessing\n",
        "\n",
        "During the preprocessing stage we will create a clean_tweet function that does the following:\n",
        "\n",
        "- Removes URLs\n",
        "- Removes reserved words\n",
        "- Converts text to lowercase\n",
        "- Removes @  and # symbols\n",
        "- Removes non-alphanumeric characters\n",
        "- Strips extra whitespace\n",
        "- Tokenizes the text\n",
        "- Removes stopwords\n",
        "- Lemmatizes the tokens\n",
        "\n",
        "We will then need to prepare the data for the model building process by converting it to tf.data.Dataset and splitting it into a validation and training set."
      ]
    },
    {
      "cell_type": "code",
      "execution_count": 354,
      "id": "6c191697-795f-47be-b9ec-edc8f2a91c73",
      "metadata": {
        "id": "6c191697-795f-47be-b9ec-edc8f2a91c73",
        "outputId": "ebb8cf0e-a60d-4dce-eb3b-c78291b13ccd",
        "colab": {
          "base_uri": "https://localhost:8080/"
        }
      },
      "outputs": [
        {
          "output_type": "stream",
          "name": "stderr",
          "text": [
            "[nltk_data] Downloading package stopwords to /root/nltk_data...\n",
            "[nltk_data]   Package stopwords is already up-to-date!\n",
            "[nltk_data] Downloading package wordnet to /root/nltk_data...\n",
            "[nltk_data]   Package wordnet is already up-to-date!\n",
            "[nltk_data] Downloading package omw-1.4 to /root/nltk_data...\n",
            "[nltk_data]   Package omw-1.4 is already up-to-date!\n"
          ]
        }
      ],
      "source": [
        "nltk.download('stopwords')\n",
        "nltk.download('wordnet')\n",
        "nltk.download('omw-1.4')\n",
        "\n",
        "stop_words = set(stopwords.words('english'))\n",
        "lemmatizer = WordNetLemmatizer()"
      ]
    },
    {
      "cell_type": "code",
      "execution_count": 355,
      "id": "f1c08cfd-352f-4608-b6b3-d6594819f5c7",
      "metadata": {
        "id": "f1c08cfd-352f-4608-b6b3-d6594819f5c7"
      },
      "outputs": [],
      "source": [
        "def clean_tweet(text):\n",
        "\n",
        "    text = html.unescape(text)\n",
        "    text = re.sub(r'http\\S+|www.\\S+', '', text)\n",
        "    text = re.sub(r'\\bRT\\b|\\bFAV\\b', '', text)\n",
        "    text = text.lower()\n",
        "    text = re.sub(r'@(\\w+)', r'\\1', text)\n",
        "    text = re.sub(r'#', '', text)\n",
        "    text = re.sub(r'[^a-zA-Z0-9\\s.,!?]', '', text)\n",
        "    text = re.sub(r'\\s+', ' ', text).strip()\n",
        "\n",
        "    tokens = text.split()\n",
        "    cleaned_tokens = [lemmatizer.lemmatize(word) for word in tokens if word not in stop_words]\n",
        "\n",
        "    return ' '.join(cleaned_tokens)\n"
      ]
    },
    {
      "cell_type": "code",
      "execution_count": 356,
      "id": "78615b60-2a1a-4b7c-b0cb-6e45b0960d2e",
      "metadata": {
        "id": "78615b60-2a1a-4b7c-b0cb-6e45b0960d2e"
      },
      "outputs": [],
      "source": [
        "df_train_data['clean_text'] = df_train_data['text'].apply(clean_tweet)"
      ]
    },
    {
      "cell_type": "code",
      "execution_count": 357,
      "id": "9ce20691-214e-4351-a350-cab2e4cf8b8a",
      "metadata": {
        "id": "9ce20691-214e-4351-a350-cab2e4cf8b8a",
        "outputId": "410d4e10-df34-4745-eee7-273de901b682",
        "colab": {
          "base_uri": "https://localhost:8080/",
          "height": 206
        }
      },
      "outputs": [
        {
          "output_type": "execute_result",
          "data": {
            "text/plain": [
              "   id keyword location                                               text  \\\n",
              "0   1     NaN      NaN  Our Deeds are the Reason of this #earthquake M...   \n",
              "1   4     NaN      NaN             Forest fire near La Ronge Sask. Canada   \n",
              "2   5     NaN      NaN  All residents asked to 'shelter in place' are ...   \n",
              "3   6     NaN      NaN  13,000 people receive #wildfires evacuation or...   \n",
              "4   7     NaN      NaN  Just got sent this photo from Ruby #Alaska as ...   \n",
              "\n",
              "   target  text_length                                         clean_text  \n",
              "0       1           69         deed reason earthquake may allah forgive u  \n",
              "1       1           38             forest fire near la ronge sask. canada  \n",
              "2       1          133  resident asked shelter place notified officers...  \n",
              "3       1           65  13,000 people receive wildfire evacuation orde...  \n",
              "4       1           88  got sent photo ruby alaska smoke wildfire pour...  "
            ],
            "text/html": [
              "\n",
              "  <div id=\"df-1fe4840c-4725-45f3-add6-2aa728525d8f\" class=\"colab-df-container\">\n",
              "    <div>\n",
              "<style scoped>\n",
              "    .dataframe tbody tr th:only-of-type {\n",
              "        vertical-align: middle;\n",
              "    }\n",
              "\n",
              "    .dataframe tbody tr th {\n",
              "        vertical-align: top;\n",
              "    }\n",
              "\n",
              "    .dataframe thead th {\n",
              "        text-align: right;\n",
              "    }\n",
              "</style>\n",
              "<table border=\"1\" class=\"dataframe\">\n",
              "  <thead>\n",
              "    <tr style=\"text-align: right;\">\n",
              "      <th></th>\n",
              "      <th>id</th>\n",
              "      <th>keyword</th>\n",
              "      <th>location</th>\n",
              "      <th>text</th>\n",
              "      <th>target</th>\n",
              "      <th>text_length</th>\n",
              "      <th>clean_text</th>\n",
              "    </tr>\n",
              "  </thead>\n",
              "  <tbody>\n",
              "    <tr>\n",
              "      <th>0</th>\n",
              "      <td>1</td>\n",
              "      <td>NaN</td>\n",
              "      <td>NaN</td>\n",
              "      <td>Our Deeds are the Reason of this #earthquake M...</td>\n",
              "      <td>1</td>\n",
              "      <td>69</td>\n",
              "      <td>deed reason earthquake may allah forgive u</td>\n",
              "    </tr>\n",
              "    <tr>\n",
              "      <th>1</th>\n",
              "      <td>4</td>\n",
              "      <td>NaN</td>\n",
              "      <td>NaN</td>\n",
              "      <td>Forest fire near La Ronge Sask. Canada</td>\n",
              "      <td>1</td>\n",
              "      <td>38</td>\n",
              "      <td>forest fire near la ronge sask. canada</td>\n",
              "    </tr>\n",
              "    <tr>\n",
              "      <th>2</th>\n",
              "      <td>5</td>\n",
              "      <td>NaN</td>\n",
              "      <td>NaN</td>\n",
              "      <td>All residents asked to 'shelter in place' are ...</td>\n",
              "      <td>1</td>\n",
              "      <td>133</td>\n",
              "      <td>resident asked shelter place notified officers...</td>\n",
              "    </tr>\n",
              "    <tr>\n",
              "      <th>3</th>\n",
              "      <td>6</td>\n",
              "      <td>NaN</td>\n",
              "      <td>NaN</td>\n",
              "      <td>13,000 people receive #wildfires evacuation or...</td>\n",
              "      <td>1</td>\n",
              "      <td>65</td>\n",
              "      <td>13,000 people receive wildfire evacuation orde...</td>\n",
              "    </tr>\n",
              "    <tr>\n",
              "      <th>4</th>\n",
              "      <td>7</td>\n",
              "      <td>NaN</td>\n",
              "      <td>NaN</td>\n",
              "      <td>Just got sent this photo from Ruby #Alaska as ...</td>\n",
              "      <td>1</td>\n",
              "      <td>88</td>\n",
              "      <td>got sent photo ruby alaska smoke wildfire pour...</td>\n",
              "    </tr>\n",
              "  </tbody>\n",
              "</table>\n",
              "</div>\n",
              "    <div class=\"colab-df-buttons\">\n",
              "\n",
              "  <div class=\"colab-df-container\">\n",
              "    <button class=\"colab-df-convert\" onclick=\"convertToInteractive('df-1fe4840c-4725-45f3-add6-2aa728525d8f')\"\n",
              "            title=\"Convert this dataframe to an interactive table.\"\n",
              "            style=\"display:none;\">\n",
              "\n",
              "  <svg xmlns=\"http://www.w3.org/2000/svg\" height=\"24px\" viewBox=\"0 -960 960 960\">\n",
              "    <path d=\"M120-120v-720h720v720H120Zm60-500h600v-160H180v160Zm220 220h160v-160H400v160Zm0 220h160v-160H400v160ZM180-400h160v-160H180v160Zm440 0h160v-160H620v160ZM180-180h160v-160H180v160Zm440 0h160v-160H620v160Z\"/>\n",
              "  </svg>\n",
              "    </button>\n",
              "\n",
              "  <style>\n",
              "    .colab-df-container {\n",
              "      display:flex;\n",
              "      gap: 12px;\n",
              "    }\n",
              "\n",
              "    .colab-df-convert {\n",
              "      background-color: #E8F0FE;\n",
              "      border: none;\n",
              "      border-radius: 50%;\n",
              "      cursor: pointer;\n",
              "      display: none;\n",
              "      fill: #1967D2;\n",
              "      height: 32px;\n",
              "      padding: 0 0 0 0;\n",
              "      width: 32px;\n",
              "    }\n",
              "\n",
              "    .colab-df-convert:hover {\n",
              "      background-color: #E2EBFA;\n",
              "      box-shadow: 0px 1px 2px rgba(60, 64, 67, 0.3), 0px 1px 3px 1px rgba(60, 64, 67, 0.15);\n",
              "      fill: #174EA6;\n",
              "    }\n",
              "\n",
              "    .colab-df-buttons div {\n",
              "      margin-bottom: 4px;\n",
              "    }\n",
              "\n",
              "    [theme=dark] .colab-df-convert {\n",
              "      background-color: #3B4455;\n",
              "      fill: #D2E3FC;\n",
              "    }\n",
              "\n",
              "    [theme=dark] .colab-df-convert:hover {\n",
              "      background-color: #434B5C;\n",
              "      box-shadow: 0px 1px 3px 1px rgba(0, 0, 0, 0.15);\n",
              "      filter: drop-shadow(0px 1px 2px rgba(0, 0, 0, 0.3));\n",
              "      fill: #FFFFFF;\n",
              "    }\n",
              "  </style>\n",
              "\n",
              "    <script>\n",
              "      const buttonEl =\n",
              "        document.querySelector('#df-1fe4840c-4725-45f3-add6-2aa728525d8f button.colab-df-convert');\n",
              "      buttonEl.style.display =\n",
              "        google.colab.kernel.accessAllowed ? 'block' : 'none';\n",
              "\n",
              "      async function convertToInteractive(key) {\n",
              "        const element = document.querySelector('#df-1fe4840c-4725-45f3-add6-2aa728525d8f');\n",
              "        const dataTable =\n",
              "          await google.colab.kernel.invokeFunction('convertToInteractive',\n",
              "                                                    [key], {});\n",
              "        if (!dataTable) return;\n",
              "\n",
              "        const docLinkHtml = 'Like what you see? Visit the ' +\n",
              "          '<a target=\"_blank\" href=https://colab.research.google.com/notebooks/data_table.ipynb>data table notebook</a>'\n",
              "          + ' to learn more about interactive tables.';\n",
              "        element.innerHTML = '';\n",
              "        dataTable['output_type'] = 'display_data';\n",
              "        await google.colab.output.renderOutput(dataTable, element);\n",
              "        const docLink = document.createElement('div');\n",
              "        docLink.innerHTML = docLinkHtml;\n",
              "        element.appendChild(docLink);\n",
              "      }\n",
              "    </script>\n",
              "  </div>\n",
              "\n",
              "\n",
              "    <div id=\"df-0c659779-80e7-46f0-bd19-627a3b359f71\">\n",
              "      <button class=\"colab-df-quickchart\" onclick=\"quickchart('df-0c659779-80e7-46f0-bd19-627a3b359f71')\"\n",
              "                title=\"Suggest charts\"\n",
              "                style=\"display:none;\">\n",
              "\n",
              "<svg xmlns=\"http://www.w3.org/2000/svg\" height=\"24px\"viewBox=\"0 0 24 24\"\n",
              "     width=\"24px\">\n",
              "    <g>\n",
              "        <path d=\"M19 3H5c-1.1 0-2 .9-2 2v14c0 1.1.9 2 2 2h14c1.1 0 2-.9 2-2V5c0-1.1-.9-2-2-2zM9 17H7v-7h2v7zm4 0h-2V7h2v10zm4 0h-2v-4h2v4z\"/>\n",
              "    </g>\n",
              "</svg>\n",
              "      </button>\n",
              "\n",
              "<style>\n",
              "  .colab-df-quickchart {\n",
              "      --bg-color: #E8F0FE;\n",
              "      --fill-color: #1967D2;\n",
              "      --hover-bg-color: #E2EBFA;\n",
              "      --hover-fill-color: #174EA6;\n",
              "      --disabled-fill-color: #AAA;\n",
              "      --disabled-bg-color: #DDD;\n",
              "  }\n",
              "\n",
              "  [theme=dark] .colab-df-quickchart {\n",
              "      --bg-color: #3B4455;\n",
              "      --fill-color: #D2E3FC;\n",
              "      --hover-bg-color: #434B5C;\n",
              "      --hover-fill-color: #FFFFFF;\n",
              "      --disabled-bg-color: #3B4455;\n",
              "      --disabled-fill-color: #666;\n",
              "  }\n",
              "\n",
              "  .colab-df-quickchart {\n",
              "    background-color: var(--bg-color);\n",
              "    border: none;\n",
              "    border-radius: 50%;\n",
              "    cursor: pointer;\n",
              "    display: none;\n",
              "    fill: var(--fill-color);\n",
              "    height: 32px;\n",
              "    padding: 0;\n",
              "    width: 32px;\n",
              "  }\n",
              "\n",
              "  .colab-df-quickchart:hover {\n",
              "    background-color: var(--hover-bg-color);\n",
              "    box-shadow: 0 1px 2px rgba(60, 64, 67, 0.3), 0 1px 3px 1px rgba(60, 64, 67, 0.15);\n",
              "    fill: var(--button-hover-fill-color);\n",
              "  }\n",
              "\n",
              "  .colab-df-quickchart-complete:disabled,\n",
              "  .colab-df-quickchart-complete:disabled:hover {\n",
              "    background-color: var(--disabled-bg-color);\n",
              "    fill: var(--disabled-fill-color);\n",
              "    box-shadow: none;\n",
              "  }\n",
              "\n",
              "  .colab-df-spinner {\n",
              "    border: 2px solid var(--fill-color);\n",
              "    border-color: transparent;\n",
              "    border-bottom-color: var(--fill-color);\n",
              "    animation:\n",
              "      spin 1s steps(1) infinite;\n",
              "  }\n",
              "\n",
              "  @keyframes spin {\n",
              "    0% {\n",
              "      border-color: transparent;\n",
              "      border-bottom-color: var(--fill-color);\n",
              "      border-left-color: var(--fill-color);\n",
              "    }\n",
              "    20% {\n",
              "      border-color: transparent;\n",
              "      border-left-color: var(--fill-color);\n",
              "      border-top-color: var(--fill-color);\n",
              "    }\n",
              "    30% {\n",
              "      border-color: transparent;\n",
              "      border-left-color: var(--fill-color);\n",
              "      border-top-color: var(--fill-color);\n",
              "      border-right-color: var(--fill-color);\n",
              "    }\n",
              "    40% {\n",
              "      border-color: transparent;\n",
              "      border-right-color: var(--fill-color);\n",
              "      border-top-color: var(--fill-color);\n",
              "    }\n",
              "    60% {\n",
              "      border-color: transparent;\n",
              "      border-right-color: var(--fill-color);\n",
              "    }\n",
              "    80% {\n",
              "      border-color: transparent;\n",
              "      border-right-color: var(--fill-color);\n",
              "      border-bottom-color: var(--fill-color);\n",
              "    }\n",
              "    90% {\n",
              "      border-color: transparent;\n",
              "      border-bottom-color: var(--fill-color);\n",
              "    }\n",
              "  }\n",
              "</style>\n",
              "\n",
              "      <script>\n",
              "        async function quickchart(key) {\n",
              "          const quickchartButtonEl =\n",
              "            document.querySelector('#' + key + ' button');\n",
              "          quickchartButtonEl.disabled = true;  // To prevent multiple clicks.\n",
              "          quickchartButtonEl.classList.add('colab-df-spinner');\n",
              "          try {\n",
              "            const charts = await google.colab.kernel.invokeFunction(\n",
              "                'suggestCharts', [key], {});\n",
              "          } catch (error) {\n",
              "            console.error('Error during call to suggestCharts:', error);\n",
              "          }\n",
              "          quickchartButtonEl.classList.remove('colab-df-spinner');\n",
              "          quickchartButtonEl.classList.add('colab-df-quickchart-complete');\n",
              "        }\n",
              "        (() => {\n",
              "          let quickchartButtonEl =\n",
              "            document.querySelector('#df-0c659779-80e7-46f0-bd19-627a3b359f71 button');\n",
              "          quickchartButtonEl.style.display =\n",
              "            google.colab.kernel.accessAllowed ? 'block' : 'none';\n",
              "        })();\n",
              "      </script>\n",
              "    </div>\n",
              "\n",
              "    </div>\n",
              "  </div>\n"
            ],
            "application/vnd.google.colaboratory.intrinsic+json": {
              "type": "dataframe",
              "variable_name": "df_train_data",
              "summary": "{\n  \"name\": \"df_train_data\",\n  \"rows\": 7552,\n  \"fields\": [\n    {\n      \"column\": \"id\",\n      \"properties\": {\n        \"dtype\": \"number\",\n        \"std\": 3141,\n        \"min\": 1,\n        \"max\": 10873,\n        \"num_unique_values\": 7552,\n        \"samples\": [\n          1671,\n          574,\n          1081\n        ],\n        \"semantic_type\": \"\",\n        \"description\": \"\"\n      }\n    },\n    {\n      \"column\": \"keyword\",\n      \"properties\": {\n        \"dtype\": \"category\",\n        \"num_unique_values\": 221,\n        \"samples\": [\n          \"injury\",\n          \"nuclear%20reactor\",\n          \"engulfed\"\n        ],\n        \"semantic_type\": \"\",\n        \"description\": \"\"\n      }\n    },\n    {\n      \"column\": \"location\",\n      \"properties\": {\n        \"dtype\": \"category\",\n        \"num_unique_values\": 3341,\n        \"samples\": [\n          \"Oklahoma\",\n          \"Starling City\",\n          \"Trinidad and Tobago\"\n        ],\n        \"semantic_type\": \"\",\n        \"description\": \"\"\n      }\n    },\n    {\n      \"column\": \"text\",\n      \"properties\": {\n        \"dtype\": \"string\",\n        \"num_unique_values\": 7503,\n        \"samples\": [\n          \"Three Homes Demolished in Unrecognized Arab Village - International Middle East Media Center http://t.co/ik8m4Yi9T4\",\n          \"Reid Lake fire prompts campground evacuation order http://t.co/jBODKM6rBU\",\n          \"FAAN orders evacuation of abandoned aircraft at MMA http://t.co/dEvYbnVXGQ via @todayng\"\n        ],\n        \"semantic_type\": \"\",\n        \"description\": \"\"\n      }\n    },\n    {\n      \"column\": \"target\",\n      \"properties\": {\n        \"dtype\": \"number\",\n        \"std\": 0,\n        \"min\": 0,\n        \"max\": 1,\n        \"num_unique_values\": 2,\n        \"samples\": [\n          0,\n          1\n        ],\n        \"semantic_type\": \"\",\n        \"description\": \"\"\n      }\n    },\n    {\n      \"column\": \"text_length\",\n      \"properties\": {\n        \"dtype\": \"number\",\n        \"std\": 33,\n        \"min\": 7,\n        \"max\": 157,\n        \"num_unique_values\": 147,\n        \"samples\": [\n          151,\n          80\n        ],\n        \"semantic_type\": \"\",\n        \"description\": \"\"\n      }\n    },\n    {\n      \"column\": \"clean_text\",\n      \"properties\": {\n        \"dtype\": \"string\",\n        \"num_unique_values\": 6916,\n        \"samples\": [\n          \"woman sneak airplane cockpit terrorism suspected\",\n          \"lil brother crush mariah ??????\"\n        ],\n        \"semantic_type\": \"\",\n        \"description\": \"\"\n      }\n    }\n  ]\n}"
            }
          },
          "metadata": {},
          "execution_count": 357
        }
      ],
      "source": [
        "df_train_data.head()"
      ]
    },
    {
      "cell_type": "markdown",
      "id": "e3bc2336-a9bc-40dc-9b0a-10be17aa365c",
      "metadata": {
        "id": "e3bc2336-a9bc-40dc-9b0a-10be17aa365c"
      },
      "source": [
        "#### Prepare Data for TensorFlow Processes"
      ]
    },
    {
      "cell_type": "code",
      "execution_count": 358,
      "id": "fac42b2a-29ef-449d-8313-debd80b59197",
      "metadata": {
        "id": "fac42b2a-29ef-449d-8313-debd80b59197"
      },
      "outputs": [],
      "source": [
        "#Convert pandas dataframe to tf.dataset\n",
        "X = df_train_data['clean_text']\n",
        "y = df_train_data['target']\n",
        "\n",
        "dataset = tf.data.Dataset.from_tensor_slices((X.values, y.values))"
      ]
    },
    {
      "cell_type": "markdown",
      "source": [
        "####  Create Validation Data from Training Data\n",
        "\n",
        "We will shuffle and then split the data 80/20 (80% training, 20% validation)"
      ],
      "metadata": {
        "id": "XFpQ_Z7BXkai"
      },
      "id": "XFpQ_Z7BXkai"
    },
    {
      "cell_type": "code",
      "execution_count": 359,
      "id": "4b9bae76-6979-4025-b793-045c8c8f1fab",
      "metadata": {
        "id": "4b9bae76-6979-4025-b793-045c8c8f1fab"
      },
      "outputs": [],
      "source": [
        "total_size = len(df_train_data)\n",
        "train_size = int(0.8 * total_size)\n",
        "\n",
        "dataset = dataset.shuffle(buffer_size=total_size, seed=SEED)\n",
        "\n",
        "train_dataset = dataset.take(train_size)\n",
        "val_dataset = dataset.skip(train_size)"
      ]
    },
    {
      "cell_type": "markdown",
      "id": "e34e3397-8c89-4e37-a9ce-f7c97b144615",
      "metadata": {
        "id": "e34e3397-8c89-4e37-a9ce-f7c97b144615"
      },
      "source": [
        "# Model Building"
      ]
    },
    {
      "cell_type": "markdown",
      "source": [
        "## LSTM with a Bidirectional Wrapper\n",
        "\n",
        "We will build our first model using an LSTM architecture with a bidirectional wrapper like the example in Tensorflow's text classification with RNNs documentation. We will use the F1 score to identify the best model as this is the metric the competition uses to score on the test data."
      ],
      "metadata": {
        "id": "kptkdxshwuzA"
      },
      "id": "kptkdxshwuzA"
    },
    {
      "cell_type": "code",
      "execution_count": 360,
      "id": "c19873eb-6d07-43f4-9cb4-1c398c39f777",
      "metadata": {
        "id": "c19873eb-6d07-43f4-9cb4-1c398c39f777"
      },
      "outputs": [],
      "source": [
        "BATCH_SIZE = 32\n",
        "\n",
        "train_dataset = train_dataset.batch(BATCH_SIZE).prefetch(tf.data.AUTOTUNE)\n",
        "val_dataset = val_dataset.batch(BATCH_SIZE).prefetch(tf.data.AUTOTUNE)"
      ]
    },
    {
      "cell_type": "code",
      "source": [
        "train_dataset = train_dataset.map(lambda x, y: (x, tf.expand_dims(y, -1)))\n",
        "val_dataset = val_dataset.map(lambda x, y: (x, tf.expand_dims(y, -1)))"
      ],
      "metadata": {
        "id": "U5_SZv9TC7wZ"
      },
      "id": "U5_SZv9TC7wZ",
      "execution_count": 361,
      "outputs": []
    },
    {
      "cell_type": "markdown",
      "source": [
        "Our initial vocabulary size will 5000, meaning the top 5000 words will be used to build the model."
      ],
      "metadata": {
        "id": "9NN1eK2sJhdk"
      },
      "id": "9NN1eK2sJhdk"
    },
    {
      "cell_type": "code",
      "execution_count": 362,
      "id": "c3066fdf-bc4c-4d16-81bd-5c6ad97064d5",
      "metadata": {
        "id": "c3066fdf-bc4c-4d16-81bd-5c6ad97064d5"
      },
      "outputs": [],
      "source": [
        "VOCAB_SIZE = 5000\n",
        "encoder = tf.keras.layers.TextVectorization(\n",
        "    max_tokens=VOCAB_SIZE)\n",
        "encoder.adapt(train_dataset.map(lambda text, label: text))\n"
      ]
    },
    {
      "cell_type": "code",
      "source": [
        "vocab = np.array(encoder.get_vocabulary())\n",
        "vocab[:20]"
      ],
      "metadata": {
        "colab": {
          "base_uri": "https://localhost:8080/"
        },
        "id": "Px6Ro3fgQ6HR",
        "outputId": "cc1a9aa2-ebb7-4035-8902-69cd8cd3a7e1"
      },
      "id": "Px6Ro3fgQ6HR",
      "execution_count": 363,
      "outputs": [
        {
          "output_type": "execute_result",
          "data": {
            "text/plain": [
              "array(['', '[UNK]', 'like', 'fire', 'im', 'get', 'via', 'new', 'dont',\n",
              "       'people', 'one', 'u', 'news', 'video', 'disaster', 'emergency',\n",
              "       '2', 'time', 'body', 'police'], dtype='<U27')"
            ]
          },
          "metadata": {},
          "execution_count": 363
        }
      ]
    },
    {
      "cell_type": "markdown",
      "source": [
        "### Build & Compile the BiLSTM Model"
      ],
      "metadata": {
        "id": "6WIcaf0UJ3Uc"
      },
      "id": "6WIcaf0UJ3Uc"
    },
    {
      "cell_type": "code",
      "source": [
        "tf.random.set_seed(SEED)\n",
        "model = tf.keras.Sequential([\n",
        "    encoder,\n",
        "    tf.keras.layers.Embedding(\n",
        "        input_dim=len(encoder.get_vocabulary()),\n",
        "        output_dim=64,\n",
        "        mask_zero=True\n",
        "    ),\n",
        "    tf.keras.layers.Bidirectional(tf.keras.layers.LSTM(64)),\n",
        "    tf.keras.layers.Dense(64, activation='relu'),\n",
        "    tf.keras.layers.Dense(1, activation='sigmoid')\n",
        "])"
      ],
      "metadata": {
        "id": "WguAkwMuVbKj"
      },
      "id": "WguAkwMuVbKj",
      "execution_count": 364,
      "outputs": []
    },
    {
      "cell_type": "code",
      "source": [
        "model.compile(\n",
        "    loss='binary_crossentropy',\n",
        "    optimizer='adam',\n",
        "    metrics=['accuracy', tf.keras.metrics.F1Score(name='f1_score', average='micro', threshold=0.5)]\n",
        ")"
      ],
      "metadata": {
        "id": "a3E8M5eIVg68"
      },
      "id": "a3E8M5eIVg68",
      "execution_count": 365,
      "outputs": []
    },
    {
      "cell_type": "markdown",
      "source": [
        "### Fit BiLSTM Model\n",
        "\n",
        "When we fit the model we will use a checkpoint to monitor the F1 score at each epoch and save the best model. In addition, we will use early stop to end the fitting process if the F1 score does not improve after 3 epochs."
      ],
      "metadata": {
        "id": "b2zXcd-8J7Dh"
      },
      "id": "b2zXcd-8J7Dh"
    },
    {
      "cell_type": "code",
      "source": [
        "checkpoint_cb = tf.keras.callbacks.ModelCheckpoint(\n",
        "    \"models/best_model_LSTM_bidirectional.keras\",\n",
        "    monitor=\"val_f1_score\",\n",
        "    mode=\"max\",\n",
        "    save_best_only=True,\n",
        "    save_weights_only=False,\n",
        "    verbose = 1\n",
        ")\n",
        "\n",
        "earlystop_cb = tf.keras.callbacks.EarlyStopping(\n",
        "    monitor=\"val_f1_score\",\n",
        "    mode=\"max\",\n",
        "    patience=3,\n",
        "    restore_best_weights=True,\n",
        "    verbose = 1\n",
        ")"
      ],
      "metadata": {
        "id": "V_QOI6FV_IFl"
      },
      "id": "V_QOI6FV_IFl",
      "execution_count": 366,
      "outputs": []
    },
    {
      "cell_type": "code",
      "source": [
        "history = model.fit(\n",
        "    train_dataset,\n",
        "    validation_data=val_dataset,\n",
        "    epochs=10,\n",
        "    callbacks=[checkpoint_cb, earlystop_cb]\n",
        ")\n"
      ],
      "metadata": {
        "colab": {
          "base_uri": "https://localhost:8080/"
        },
        "id": "VnZ_HVJwVhx0",
        "outputId": "9bc1e925-46d0-4781-885c-6fb2e584e5c1"
      },
      "id": "VnZ_HVJwVhx0",
      "execution_count": 367,
      "outputs": [
        {
          "output_type": "stream",
          "name": "stdout",
          "text": [
            "Epoch 1/10\n",
            "\u001b[1m188/189\u001b[0m \u001b[32m━━━━━━━━━━━━━━━━━━━\u001b[0m\u001b[37m━\u001b[0m \u001b[1m0s\u001b[0m 67ms/step - accuracy: 0.6810 - f1_score: 0.4176 - loss: 0.6038\n",
            "Epoch 1: val_f1_score improved from -inf to 0.81921, saving model to /content/drive/My Drive/my_models/best_model_LTSM_bidirectional.keras\n",
            "\u001b[1m189/189\u001b[0m \u001b[32m━━━━━━━━━━━━━━━━━━━━\u001b[0m\u001b[37m\u001b[0m \u001b[1m33s\u001b[0m 76ms/step - accuracy: 0.6817 - f1_score: 0.4200 - loss: 0.6030 - val_accuracy: 0.8630 - val_f1_score: 0.8192 - val_loss: 0.3552\n",
            "Epoch 2/10\n",
            "\u001b[1m188/189\u001b[0m \u001b[32m━━━━━━━━━━━━━━━━━━━\u001b[0m\u001b[37m━\u001b[0m \u001b[1m0s\u001b[0m 32ms/step - accuracy: 0.8636 - f1_score: 0.8321 - loss: 0.3487\n",
            "Epoch 2: val_f1_score improved from 0.81921 to 0.87910, saving model to /content/drive/My Drive/my_models/best_model_LTSM_bidirectional.keras\n",
            "\u001b[1m189/189\u001b[0m \u001b[32m━━━━━━━━━━━━━━━━━━━━\u001b[0m\u001b[37m\u001b[0m \u001b[1m13s\u001b[0m 40ms/step - accuracy: 0.8635 - f1_score: 0.8319 - loss: 0.3488 - val_accuracy: 0.9001 - val_f1_score: 0.8791 - val_loss: 0.2772\n",
            "Epoch 3/10\n",
            "\u001b[1m189/189\u001b[0m \u001b[32m━━━━━━━━━━━━━━━━━━━━\u001b[0m\u001b[37m\u001b[0m \u001b[1m0s\u001b[0m 30ms/step - accuracy: 0.8960 - f1_score: 0.8729 - loss: 0.2730\n",
            "Epoch 3: val_f1_score improved from 0.87910 to 0.91715, saving model to /content/drive/My Drive/my_models/best_model_LTSM_bidirectional.keras\n",
            "\u001b[1m189/189\u001b[0m \u001b[32m━━━━━━━━━━━━━━━━━━━━\u001b[0m\u001b[37m\u001b[0m \u001b[1m9s\u001b[0m 34ms/step - accuracy: 0.8960 - f1_score: 0.8729 - loss: 0.2731 - val_accuracy: 0.9332 - val_f1_score: 0.9171 - val_loss: 0.2056\n",
            "Epoch 4/10\n",
            "\u001b[1m189/189\u001b[0m \u001b[32m━━━━━━━━━━━━━━━━━━━━\u001b[0m\u001b[37m\u001b[0m \u001b[1m0s\u001b[0m 41ms/step - accuracy: 0.9260 - f1_score: 0.9129 - loss: 0.2116\n",
            "Epoch 4: val_f1_score improved from 0.91715 to 0.95321, saving model to /content/drive/My Drive/my_models/best_model_LTSM_bidirectional.keras\n",
            "\u001b[1m189/189\u001b[0m \u001b[32m━━━━━━━━━━━━━━━━━━━━\u001b[0m\u001b[37m\u001b[0m \u001b[1m8s\u001b[0m 44ms/step - accuracy: 0.9259 - f1_score: 0.9129 - loss: 0.2117 - val_accuracy: 0.9610 - val_f1_score: 0.9532 - val_loss: 0.1417\n",
            "Epoch 5/10\n",
            "\u001b[1m189/189\u001b[0m \u001b[32m━━━━━━━━━━━━━━━━━━━━\u001b[0m\u001b[37m\u001b[0m \u001b[1m0s\u001b[0m 31ms/step - accuracy: 0.9508 - f1_score: 0.9407 - loss: 0.1471\n",
            "Epoch 5: val_f1_score improved from 0.95321 to 0.96125, saving model to /content/drive/My Drive/my_models/best_model_LTSM_bidirectional.keras\n",
            "\u001b[1m189/189\u001b[0m \u001b[32m━━━━━━━━━━━━━━━━━━━━\u001b[0m\u001b[37m\u001b[0m \u001b[1m8s\u001b[0m 34ms/step - accuracy: 0.9507 - f1_score: 0.9406 - loss: 0.1472 - val_accuracy: 0.9656 - val_f1_score: 0.9613 - val_loss: 0.1065\n",
            "Epoch 6/10\n",
            "\u001b[1m188/189\u001b[0m \u001b[32m━━━━━━━━━━━━━━━━━━━\u001b[0m\u001b[37m━\u001b[0m \u001b[1m0s\u001b[0m 30ms/step - accuracy: 0.9540 - f1_score: 0.9454 - loss: 0.1179\n",
            "Epoch 6: val_f1_score did not improve from 0.96125\n",
            "\u001b[1m189/189\u001b[0m \u001b[32m━━━━━━━━━━━━━━━━━━━━\u001b[0m\u001b[37m\u001b[0m \u001b[1m10s\u001b[0m 33ms/step - accuracy: 0.9539 - f1_score: 0.9454 - loss: 0.1179 - val_accuracy: 0.9643 - val_f1_score: 0.9565 - val_loss: 0.0930\n",
            "Epoch 7/10\n",
            "\u001b[1m189/189\u001b[0m \u001b[32m━━━━━━━━━━━━━━━━━━━━\u001b[0m\u001b[37m\u001b[0m \u001b[1m0s\u001b[0m 41ms/step - accuracy: 0.9697 - f1_score: 0.9640 - loss: 0.0890\n",
            "Epoch 7: val_f1_score improved from 0.96125 to 0.96395, saving model to /content/drive/My Drive/my_models/best_model_LTSM_bidirectional.keras\n",
            "\u001b[1m189/189\u001b[0m \u001b[32m━━━━━━━━━━━━━━━━━━━━\u001b[0m\u001b[37m\u001b[0m \u001b[1m9s\u001b[0m 45ms/step - accuracy: 0.9696 - f1_score: 0.9639 - loss: 0.0890 - val_accuracy: 0.9696 - val_f1_score: 0.9639 - val_loss: 0.0703\n",
            "Epoch 8/10\n",
            "\u001b[1m188/189\u001b[0m \u001b[32m━━━━━━━━━━━━━━━━━━━\u001b[0m\u001b[37m━\u001b[0m \u001b[1m0s\u001b[0m 40ms/step - accuracy: 0.9685 - f1_score: 0.9615 - loss: 0.0707\n",
            "Epoch 8: val_f1_score improved from 0.96395 to 0.97138, saving model to /content/drive/My Drive/my_models/best_model_LTSM_bidirectional.keras\n",
            "\u001b[1m189/189\u001b[0m \u001b[32m━━━━━━━━━━━━━━━━━━━━\u001b[0m\u001b[37m\u001b[0m \u001b[1m11s\u001b[0m 48ms/step - accuracy: 0.9685 - f1_score: 0.9615 - loss: 0.0707 - val_accuracy: 0.9755 - val_f1_score: 0.9714 - val_loss: 0.0653\n",
            "Epoch 9/10\n",
            "\u001b[1m189/189\u001b[0m \u001b[32m━━━━━━━━━━━━━━━━━━━━\u001b[0m\u001b[37m\u001b[0m \u001b[1m0s\u001b[0m 34ms/step - accuracy: 0.9745 - f1_score: 0.9701 - loss: 0.0596\n",
            "Epoch 9: val_f1_score did not improve from 0.97138\n",
            "\u001b[1m189/189\u001b[0m \u001b[32m━━━━━━━━━━━━━━━━━━━━\u001b[0m\u001b[37m\u001b[0m \u001b[1m7s\u001b[0m 36ms/step - accuracy: 0.9745 - f1_score: 0.9701 - loss: 0.0596 - val_accuracy: 0.9749 - val_f1_score: 0.9696 - val_loss: 0.0525\n",
            "Epoch 10/10\n",
            "\u001b[1m188/189\u001b[0m \u001b[32m━━━━━━━━━━━━━━━━━━━\u001b[0m\u001b[37m━\u001b[0m \u001b[1m0s\u001b[0m 36ms/step - accuracy: 0.9753 - f1_score: 0.9711 - loss: 0.0505\n",
            "Epoch 10: val_f1_score improved from 0.97138 to 0.97663, saving model to /content/drive/My Drive/my_models/best_model_LTSM_bidirectional.keras\n",
            "\u001b[1m189/189\u001b[0m \u001b[32m━━━━━━━━━━━━━━━━━━━━\u001b[0m\u001b[37m\u001b[0m \u001b[1m8s\u001b[0m 40ms/step - accuracy: 0.9753 - f1_score: 0.9711 - loss: 0.0506 - val_accuracy: 0.9808 - val_f1_score: 0.9766 - val_loss: 0.0499\n",
            "Restoring model weights from the end of the best epoch: 10.\n"
          ]
        }
      ]
    },
    {
      "cell_type": "code",
      "source": [
        "with open('models/history_lstm_bidirectional.pkl', 'wb') as f:\n",
        "    pickle.dump(history.history, f)"
      ],
      "metadata": {
        "id": "E7MyHYNfut3e"
      },
      "id": "E7MyHYNfut3e",
      "execution_count": 368,
      "outputs": []
    },
    {
      "cell_type": "code",
      "source": [
        "#Load History (Needed if in New Session)\n",
        "with open('models/history_lstm_bidirectional.pkl', 'rb') as f:\n",
        "    history_dict = pickle.load(f)"
      ],
      "metadata": {
        "id": "1WlGWADvvESt"
      },
      "id": "1WlGWADvvESt",
      "execution_count": 369,
      "outputs": []
    },
    {
      "cell_type": "code",
      "source": [
        "#print(history.history.keys())"
      ],
      "metadata": {
        "id": "NafqpvDsCP_E"
      },
      "id": "NafqpvDsCP_E",
      "execution_count": 370,
      "outputs": []
    },
    {
      "cell_type": "markdown",
      "source": [
        "### Evaluate Plots of BiLSTM"
      ],
      "metadata": {
        "id": "ZyGPi7bgw4JU"
      },
      "id": "ZyGPi7bgw4JU"
    },
    {
      "cell_type": "markdown",
      "source": [
        "Now that we've found our best BiLSTM model, lets inspect the accuracy, loss and F1 score plots"
      ],
      "metadata": {
        "id": "-0ecYDaWxJDc"
      },
      "id": "-0ecYDaWxJDc"
    },
    {
      "cell_type": "code",
      "source": [
        "train_f1 = history.history['f1_score']\n",
        "val_f1 = history.history['val_f1_score']\n",
        "epochs_range = range(1, len(train_f1) + 1)"
      ],
      "metadata": {
        "id": "eHmm2uHeCf2v"
      },
      "id": "eHmm2uHeCf2v",
      "execution_count": 371,
      "outputs": []
    },
    {
      "cell_type": "code",
      "source": [
        "fig, axs = plt.subplots(1, 3, figsize=(18, 5))\n",
        "\n",
        "# Accuracy\n",
        "axs[0].plot(history.history['accuracy'], label='Train Acc')\n",
        "axs[0].plot(history.history['val_accuracy'], label='Val Acc')\n",
        "axs[0].set_title('Accuracy')\n",
        "axs[0].legend()\n",
        "\n",
        "# F1 Score\n",
        "axs[1].plot(history.history['f1_score'], label='Train F1')\n",
        "axs[1].plot(history.history['val_f1_score'], label='Val F1')\n",
        "axs[1].set_title('F1 Score')\n",
        "axs[1].legend()\n",
        "\n",
        "# Loss\n",
        "axs[2].plot(history.history['loss'], label='Train Loss')\n",
        "axs[2].plot(history.history['val_loss'], label='Val Loss')\n",
        "axs[2].set_title('Loss')\n",
        "axs[2].legend()\n",
        "\n",
        "plt.tight_layout()\n",
        "plt.show()"
      ],
      "metadata": {
        "colab": {
          "base_uri": "https://localhost:8080/",
          "height": 527
        },
        "id": "rSx4fkOCsEjr",
        "outputId": "2a04847a-714e-4ff5-ed6d-8f9f68402464"
      },
      "id": "rSx4fkOCsEjr",
      "execution_count": 372,
      "outputs": [
        {
          "output_type": "display_data",
          "data": {
            "text/plain": [
              "<Figure size 1800x500 with 3 Axes>"
            ],
            "image/png": "[encoded data removed]"
          },
          "metadata": {}
        }
      ]
    },
    {
      "cell_type": "markdown",
      "source": [
        "#### BiLSTM Plots Summary\n",
        "The plots indicate the model is performing well in that accuracy, and F1 score increase (in the case of loss, decrease) before beginning to level off and remain stable. We are not seeing a continued large rise (fall) in the scores as we reach epoch 10, indicating additional epochs are not needed."
      ],
      "metadata": {
        "id": "5M9RU8NfKadt"
      },
      "id": "5M9RU8NfKadt"
    },
    {
      "cell_type": "markdown",
      "source": [
        "### Build a Confusion Matrix\n",
        "\n",
        "Now that we have a feel for the performance of the evaluation metrics, lets dig deeper and look at a confusion matrix. Inspecting this will help us understand the distribution of false positives and false negatives."
      ],
      "metadata": {
        "id": "OHYs-TMMxVua"
      },
      "id": "OHYs-TMMxVua"
    },
    {
      "cell_type": "code",
      "source": [
        "model = keras.models.load_model('models/best_model_LSTM_bidirectional.keras')\n"
      ],
      "metadata": {
        "id": "1t9o1PkgxXsj"
      },
      "id": "1t9o1PkgxXsj",
      "execution_count": 373,
      "outputs": []
    },
    {
      "cell_type": "code",
      "source": [
        "y_true_og = []\n",
        "y_pred_og = []\n",
        "\n",
        "for text_batch, label_batch in val_dataset:\n",
        "    preds = model.predict(text_batch)\n",
        "    y_true_og.extend(label_batch.numpy())\n",
        "    y_pred_og.extend((preds > 0.5).astype(\"int\").flatten())"
      ],
      "metadata": {
        "colab": {
          "base_uri": "https://localhost:8080/"
        },
        "id": "4RfjZvyXxa2Y",
        "outputId": "a2ecbea9-cb81-46fd-d6f0-895d2e5861af"
      },
      "id": "4RfjZvyXxa2Y",
      "execution_count": 374,
      "outputs": [
        {
          "output_type": "stream",
          "name": "stdout",
          "text": [
            "\u001b[1m1/1\u001b[0m \u001b[32m━━━━━━━━━━━━━━━━━━━━\u001b[0m\u001b[37m\u001b[0m \u001b[1m1s\u001b[0m 562ms/step\n",
            "\u001b[1m1/1\u001b[0m \u001b[32m━━━━━━━━━━━━━━━━━━━━\u001b[0m\u001b[37m\u001b[0m \u001b[1m0s\u001b[0m 58ms/step\n",
            "\u001b[1m1/1\u001b[0m \u001b[32m━━━━━━━━━━━━━━━━━━━━\u001b[0m\u001b[37m\u001b[0m \u001b[1m0s\u001b[0m 55ms/step\n",
            "\u001b[1m1/1\u001b[0m \u001b[32m━━━━━━━━━━━━━━━━━━━━\u001b[0m\u001b[37m\u001b[0m \u001b[1m0s\u001b[0m 58ms/step\n",
            "\u001b[1m1/1\u001b[0m \u001b[32m━━━━━━━━━━━━━━━━━━━━\u001b[0m\u001b[37m\u001b[0m \u001b[1m0s\u001b[0m 51ms/step\n",
            "\u001b[1m1/1\u001b[0m \u001b[32m━━━━━━━━━━━━━━━━━━━━\u001b[0m\u001b[37m\u001b[0m \u001b[1m0s\u001b[0m 49ms/step\n",
            "\u001b[1m1/1\u001b[0m \u001b[32m━━━━━━━━━━━━━━━━━━━━\u001b[0m\u001b[37m\u001b[0m \u001b[1m0s\u001b[0m 53ms/step\n",
            "\u001b[1m1/1\u001b[0m \u001b[32m━━━━━━━━━━━━━━━━━━━━\u001b[0m\u001b[37m\u001b[0m \u001b[1m0s\u001b[0m 53ms/step\n",
            "\u001b[1m1/1\u001b[0m \u001b[32m━━━━━━━━━━━━━━━━━━━━\u001b[0m\u001b[37m\u001b[0m \u001b[1m0s\u001b[0m 65ms/step\n",
            "\u001b[1m1/1\u001b[0m \u001b[32m━━━━━━━━━━━━━━━━━━━━\u001b[0m\u001b[37m\u001b[0m \u001b[1m0s\u001b[0m 51ms/step\n",
            "\u001b[1m1/1\u001b[0m \u001b[32m━━━━━━━━━━━━━━━━━━━━\u001b[0m\u001b[37m\u001b[0m \u001b[1m0s\u001b[0m 50ms/step\n",
            "\u001b[1m1/1\u001b[0m \u001b[32m━━━━━━━━━━━━━━━━━━━━\u001b[0m\u001b[37m\u001b[0m \u001b[1m0s\u001b[0m 56ms/step\n",
            "\u001b[1m1/1\u001b[0m \u001b[32m━━━━━━━━━━━━━━━━━━━━\u001b[0m\u001b[37m\u001b[0m \u001b[1m0s\u001b[0m 59ms/step\n",
            "\u001b[1m1/1\u001b[0m \u001b[32m━━━━━━━━━━━━━━━━━━━━\u001b[0m\u001b[37m\u001b[0m \u001b[1m0s\u001b[0m 50ms/step\n",
            "\u001b[1m1/1\u001b[0m \u001b[32m━━━━━━━━━━━━━━━━━━━━\u001b[0m\u001b[37m\u001b[0m \u001b[1m0s\u001b[0m 52ms/step\n",
            "\u001b[1m1/1\u001b[0m \u001b[32m━━━━━━━━━━━━━━━━━━━━\u001b[0m\u001b[37m\u001b[0m \u001b[1m0s\u001b[0m 52ms/step\n",
            "\u001b[1m1/1\u001b[0m \u001b[32m━━━━━━━━━━━━━━━━━━━━\u001b[0m\u001b[37m\u001b[0m \u001b[1m0s\u001b[0m 53ms/step\n",
            "\u001b[1m1/1\u001b[0m \u001b[32m━━━━━━━━━━━━━━━━━━━━\u001b[0m\u001b[37m\u001b[0m \u001b[1m0s\u001b[0m 51ms/step\n",
            "\u001b[1m1/1\u001b[0m \u001b[32m━━━━━━━━━━━━━━━━━━━━\u001b[0m\u001b[37m\u001b[0m \u001b[1m0s\u001b[0m 52ms/step\n",
            "\u001b[1m1/1\u001b[0m \u001b[32m━━━━━━━━━━━━━━━━━━━━\u001b[0m\u001b[37m\u001b[0m \u001b[1m0s\u001b[0m 51ms/step\n",
            "\u001b[1m1/1\u001b[0m \u001b[32m━━━━━━━━━━━━━━━━━━━━\u001b[0m\u001b[37m\u001b[0m \u001b[1m0s\u001b[0m 56ms/step\n",
            "\u001b[1m1/1\u001b[0m \u001b[32m━━━━━━━━━━━━━━━━━━━━\u001b[0m\u001b[37m\u001b[0m \u001b[1m0s\u001b[0m 61ms/step\n",
            "\u001b[1m1/1\u001b[0m \u001b[32m━━━━━━━━━━━━━━━━━━━━\u001b[0m\u001b[37m\u001b[0m \u001b[1m0s\u001b[0m 64ms/step\n",
            "\u001b[1m1/1\u001b[0m \u001b[32m━━━━━━━━━━━━━━━━━━━━\u001b[0m\u001b[37m\u001b[0m \u001b[1m0s\u001b[0m 64ms/step\n",
            "\u001b[1m1/1\u001b[0m \u001b[32m━━━━━━━━━━━━━━━━━━━━\u001b[0m\u001b[37m\u001b[0m \u001b[1m0s\u001b[0m 67ms/step\n",
            "\u001b[1m1/1\u001b[0m \u001b[32m━━━━━━━━━━━━━━━━━━━━\u001b[0m\u001b[37m\u001b[0m \u001b[1m0s\u001b[0m 62ms/step\n",
            "\u001b[1m1/1\u001b[0m \u001b[32m━━━━━━━━━━━━━━━━━━━━\u001b[0m\u001b[37m\u001b[0m \u001b[1m0s\u001b[0m 69ms/step\n",
            "\u001b[1m1/1\u001b[0m \u001b[32m━━━━━━━━━━━━━━━━━━━━\u001b[0m\u001b[37m\u001b[0m \u001b[1m0s\u001b[0m 75ms/step\n",
            "\u001b[1m1/1\u001b[0m \u001b[32m━━━━━━━━━━━━━━━━━━━━\u001b[0m\u001b[37m\u001b[0m \u001b[1m0s\u001b[0m 59ms/step\n",
            "\u001b[1m1/1\u001b[0m \u001b[32m━━━━━━━━━━━━━━━━━━━━\u001b[0m\u001b[37m\u001b[0m \u001b[1m0s\u001b[0m 55ms/step\n",
            "\u001b[1m1/1\u001b[0m \u001b[32m━━━━━━━━━━━━━━━━━━━━\u001b[0m\u001b[37m\u001b[0m \u001b[1m0s\u001b[0m 63ms/step\n",
            "\u001b[1m1/1\u001b[0m \u001b[32m━━━━━━━━━━━━━━━━━━━━\u001b[0m\u001b[37m\u001b[0m \u001b[1m0s\u001b[0m 59ms/step\n",
            "\u001b[1m1/1\u001b[0m \u001b[32m━━━━━━━━━━━━━━━━━━━━\u001b[0m\u001b[37m\u001b[0m \u001b[1m0s\u001b[0m 63ms/step\n",
            "\u001b[1m1/1\u001b[0m \u001b[32m━━━━━━━━━━━━━━━━━━━━\u001b[0m\u001b[37m\u001b[0m \u001b[1m0s\u001b[0m 57ms/step\n",
            "\u001b[1m1/1\u001b[0m \u001b[32m━━━━━━━━━━━━━━━━━━━━\u001b[0m\u001b[37m\u001b[0m \u001b[1m0s\u001b[0m 79ms/step\n",
            "\u001b[1m1/1\u001b[0m \u001b[32m━━━━━━━━━━━━━━━━━━━━\u001b[0m\u001b[37m\u001b[0m \u001b[1m0s\u001b[0m 67ms/step\n",
            "\u001b[1m1/1\u001b[0m \u001b[32m━━━━━━━━━━━━━━━━━━━━\u001b[0m\u001b[37m\u001b[0m \u001b[1m0s\u001b[0m 68ms/step\n",
            "\u001b[1m1/1\u001b[0m \u001b[32m━━━━━━━━━━━━━━━━━━━━\u001b[0m\u001b[37m\u001b[0m \u001b[1m0s\u001b[0m 63ms/step\n",
            "\u001b[1m1/1\u001b[0m \u001b[32m━━━━━━━━━━━━━━━━━━━━\u001b[0m\u001b[37m\u001b[0m \u001b[1m0s\u001b[0m 53ms/step\n",
            "\u001b[1m1/1\u001b[0m \u001b[32m━━━━━━━━━━━━━━━━━━━━\u001b[0m\u001b[37m\u001b[0m \u001b[1m0s\u001b[0m 53ms/step\n",
            "\u001b[1m1/1\u001b[0m \u001b[32m━━━━━━━━━━━━━━━━━━━━\u001b[0m\u001b[37m\u001b[0m \u001b[1m0s\u001b[0m 57ms/step\n",
            "\u001b[1m1/1\u001b[0m \u001b[32m━━━━━━━━━━━━━━━━━━━━\u001b[0m\u001b[37m\u001b[0m \u001b[1m0s\u001b[0m 52ms/step\n",
            "\u001b[1m1/1\u001b[0m \u001b[32m━━━━━━━━━━━━━━━━━━━━\u001b[0m\u001b[37m\u001b[0m \u001b[1m0s\u001b[0m 54ms/step\n",
            "\u001b[1m1/1\u001b[0m \u001b[32m━━━━━━━━━━━━━━━━━━━━\u001b[0m\u001b[37m\u001b[0m \u001b[1m0s\u001b[0m 70ms/step\n",
            "\u001b[1m1/1\u001b[0m \u001b[32m━━━━━━━━━━━━━━━━━━━━\u001b[0m\u001b[37m\u001b[0m \u001b[1m0s\u001b[0m 64ms/step\n",
            "\u001b[1m1/1\u001b[0m \u001b[32m━━━━━━━━━━━━━━━━━━━━\u001b[0m\u001b[37m\u001b[0m \u001b[1m0s\u001b[0m 91ms/step\n",
            "\u001b[1m1/1\u001b[0m \u001b[32m━━━━━━━━━━━━━━━━━━━━\u001b[0m\u001b[37m\u001b[0m \u001b[1m0s\u001b[0m 64ms/step\n",
            "\u001b[1m1/1\u001b[0m \u001b[32m━━━━━━━━━━━━━━━━━━━━\u001b[0m\u001b[37m\u001b[0m \u001b[1m1s\u001b[0m 784ms/step\n"
          ]
        }
      ]
    },
    {
      "cell_type": "code",
      "source": [
        "cm = confusion_matrix(y_true_og, y_pred_og)\n",
        "disp = ConfusionMatrixDisplay(confusion_matrix=cm, display_labels=[\"Not Disaster\", \"Disaster\"])\n",
        "disp.plot(cmap=\"Blues\")\n",
        "plt.title(\"Confusion Matrix (Best Epoch)\")\n",
        "plt.grid(False)\n",
        "plt.show()"
      ],
      "metadata": {
        "colab": {
          "base_uri": "https://localhost:8080/",
          "height": 472
        },
        "id": "-cKL7dxixksA",
        "outputId": "58ae0f9b-e332-425a-c17c-1e2a97df4032"
      },
      "id": "-cKL7dxixksA",
      "execution_count": 375,
      "outputs": [
        {
          "output_type": "display_data",
          "data": {
            "text/plain": [
              "<Figure size 640x480 with 2 Axes>"
            ],
            "image/png": "[encoded data removed]"
          },
          "metadata": {}
        }
      ]
    },
    {
      "cell_type": "markdown",
      "source": [
        "#### BiLSTM Confusion Matrix Summary\n",
        "\n",
        "There are very few false positives (only 5) as well as very few false negatives (30). Indicating that 97.7% of the tweets were correctly labeled. That being said, there are 6 times as many false negatives as false positives which indicates the model struggles to identify positives more than negatives.\n"
      ],
      "metadata": {
        "id": "jNc2TFDtyldX"
      },
      "id": "jNc2TFDtyldX"
    },
    {
      "cell_type": "markdown",
      "source": [
        "### Predict on Testing Data (BiLSTM)\n",
        "\n",
        "Since we achieved a high F1 score on the initial model, we are going to go ahead and predict on the testing data."
      ],
      "metadata": {
        "id": "u0g2ClcM1nd2"
      },
      "id": "u0g2ClcM1nd2"
    },
    {
      "cell_type": "markdown",
      "source": [
        "#### Clean the testing data"
      ],
      "metadata": {
        "id": "2z61OvsZ2-Cf"
      },
      "id": "2z61OvsZ2-Cf"
    },
    {
      "cell_type": "code",
      "source": [
        "df_test_data['clean_text'] = df_test_data['text'].apply(clean_tweet)"
      ],
      "metadata": {
        "id": "WlTLBZyt10eZ"
      },
      "id": "WlTLBZyt10eZ",
      "execution_count": null,
      "outputs": []
    },
    {
      "cell_type": "markdown",
      "source": [
        "#### Use model.predict to predict on the testing data"
      ],
      "metadata": {
        "id": "xUFdYhMP3HXN"
      },
      "id": "xUFdYhMP3HXN"
    },
    {
      "cell_type": "code",
      "source": [
        "test_text = df_test_data['clean_text']\n",
        "pred_LSTM_bidir = model.predict(np.array(test_text))"
      ],
      "metadata": {
        "colab": {
          "base_uri": "https://localhost:8080/"
        },
        "id": "YAu5UASV3Nrr",
        "outputId": "adc9357e-b45e-4bac-966a-d00555ad2faa"
      },
      "id": "YAu5UASV3Nrr",
      "execution_count": null,
      "outputs": [
        {
          "output_type": "stream",
          "name": "stdout",
          "text": [
            "\u001b[1m102/102\u001b[0m \u001b[32m━━━━━━━━━━━━━━━━━━━━\u001b[0m\u001b[37m\u001b[0m \u001b[1m2s\u001b[0m 16ms/step\n"
          ]
        }
      ]
    },
    {
      "cell_type": "markdown",
      "source": [
        "#### Generate submission file"
      ],
      "metadata": {
        "id": "i5HAQaW_4pXW"
      },
      "id": "i5HAQaW_4pXW"
    },
    {
      "cell_type": "code",
      "source": [
        "submission_lstm_bidir = pd.DataFrame({\n",
        "    'id': df_test_data['id'],\n",
        "    'target': (pred_LSTM_bidir > 0.5).astype(int).flatten()\n",
        "})"
      ],
      "metadata": {
        "id": "QrpgzLR04rb-"
      },
      "id": "QrpgzLR04rb-",
      "execution_count": null,
      "outputs": []
    },
    {
      "cell_type": "code",
      "source": [
        "submission_LSTM_bidir.to_csv('submission_LSTM_bidir.csv', index=False)"
      ],
      "metadata": {
        "id": "ah0YkVbd5Enr"
      },
      "id": "ah0YkVbd5Enr",
      "execution_count": null,
      "outputs": []
    },
    {
      "cell_type": "code",
      "source": [
        "from google.colab import files\n",
        "files.download('submission_LSTM_bidir.csv')"
      ],
      "metadata": {
        "colab": {
          "base_uri": "https://localhost:8080/",
          "height": 17
        },
        "id": "HRhMq3_y5MzK",
        "outputId": "e67d7e25-484b-49c7-be81-6c83618378b4"
      },
      "id": "HRhMq3_y5MzK",
      "execution_count": null,
      "outputs": [
        {
          "output_type": "display_data",
          "data": {
            "text/plain": [
              "<IPython.core.display.Javascript object>"
            ],
            "application/javascript": [
              "\n",
              "    async function download(id, filename, size) {\n",
              "      if (!google.colab.kernel.accessAllowed) {\n",
              "        return;\n",
              "      }\n",
              "      const div = document.createElement('div');\n",
              "      const label = document.createElement('label');\n",
              "      label.textContent = `Downloading \"${filename}\": `;\n",
              "      div.appendChild(label);\n",
              "      const progress = document.createElement('progress');\n",
              "      progress.max = size;\n",
              "      div.appendChild(progress);\n",
              "      document.body.appendChild(div);\n",
              "\n",
              "      const buffers = [];\n",
              "      let downloaded = 0;\n",
              "\n",
              "      const channel = await google.colab.kernel.comms.open(id);\n",
              "      // Send a message to notify the kernel that we're ready.\n",
              "      channel.send({})\n",
              "\n",
              "      for await (const message of channel.messages) {\n",
              "        // Send a message to notify the kernel that we're ready.\n",
              "        channel.send({})\n",
              "        if (message.buffers) {\n",
              "          for (const buffer of message.buffers) {\n",
              "            buffers.push(buffer);\n",
              "            downloaded += buffer.byteLength;\n",
              "            progress.value = downloaded;\n",
              "          }\n",
              "        }\n",
              "      }\n",
              "      const blob = new Blob(buffers, {type: 'application/binary'});\n",
              "      const a = document.createElement('a');\n",
              "      a.href = window.URL.createObjectURL(blob);\n",
              "      a.download = filename;\n",
              "      div.appendChild(a);\n",
              "      a.click();\n",
              "      div.remove();\n",
              "    }\n",
              "  "
            ]
          },
          "metadata": {}
        },
        {
          "output_type": "display_data",
          "data": {
            "text/plain": [
              "<IPython.core.display.Javascript object>"
            ],
            "application/javascript": [
              "download(\"download_2a6978d0-dca3-42c6-8c85-4b16b5676c5c\", \"submission_ltsm_bidir.csv\", 22746)"
            ]
          },
          "metadata": {}
        }
      ]
    },
    {
      "cell_type": "markdown",
      "source": [
        "#### Submission Score\n",
        "This model resulted in a F1 score of 0.74992 on the testing data. For a first pass, it is not bad but there is definitely room for improvement which can may be achieved with tuning the model."
      ],
      "metadata": {
        "id": "vgqf4XOq58RQ"
      },
      "id": "vgqf4XOq58RQ"
    },
    {
      "cell_type": "markdown",
      "id": "fb7eb087-e102-43b6-b2e6-09482eec7572",
      "metadata": {
        "id": "fb7eb087-e102-43b6-b2e6-09482eec7572"
      },
      "source": [
        "## Tuning BiLSTM Model\n",
        "\n",
        "We will begin the tuning process using the keras tuner library. We will be tuning max vocab (3000, 5000, 7000), dropout rate (0.2, 0.3, 0.4) and learning rate (1e-2, 1e-3, 1e-4) and finding the best model from these combinations."
      ]
    },
    {
      "cell_type": "markdown",
      "source": [
        "### Define the BiLSTM Model"
      ],
      "metadata": {
        "id": "G1CAGzq3LMw-"
      },
      "id": "G1CAGzq3LMw-"
    },
    {
      "cell_type": "code",
      "source": [
        "train_text = df_train_data['clean_text']\n",
        "\n",
        "def build_model(hp):\n",
        "  tf.random.set_seed(SEED)\n",
        "\n",
        "  max_tokens = hp.Choice('max_tokens', [3000, 5000, 7000])\n",
        "\n",
        "  encoder = tf.keras.layers.TextVectorization(\n",
        "      max_tokens=max_tokens,\n",
        "      output_sequence_length=100\n",
        "  )\n",
        "\n",
        "  encoder.adapt(train_text)\n",
        "\n",
        "  model = tf.keras.Sequential([\n",
        "      encoder,\n",
        "      tf.keras.layers.Embedding(input_dim=max_tokens, output_dim=64, mask_zero=True),\n",
        "      tf.keras.layers.Bidirectional(tf.keras.layers.LSTM(64)),\n",
        "      tf.keras.layers.Dropout(hp.Choice('dropout_rate', [0.2, 0.3, 0.4])),\n",
        "      tf.keras.layers.Dense(64, activation='relu'),\n",
        "      tf.keras.layers.Dense(1, activation='sigmoid')\n",
        "  ])\n",
        "\n",
        "  lr = hp.Choice('learning_rate', [1e-2, 1e-3, 1e-4])\n",
        "  model.compile(\n",
        "      optimizer=tf.keras.optimizers.Adam(learning_rate=lr),\n",
        "      loss='binary_crossentropy',\n",
        "      metrics=['accuracy', tf.keras.metrics.F1Score(name='f1_score', average='micro', threshold=0.5)]\n",
        "  )\n",
        "  return model"
      ],
      "metadata": {
        "id": "qoVnY9OALcIu"
      },
      "id": "qoVnY9OALcIu",
      "execution_count": null,
      "outputs": []
    },
    {
      "cell_type": "markdown",
      "source": [
        "### Instantiate Tuner & Perform Hypertuning"
      ],
      "metadata": {
        "id": "j8VETyCtLRI0"
      },
      "id": "j8VETyCtLRI0"
    },
    {
      "cell_type": "code",
      "source": [
        "objective = kt.Objective(\"val_f1_score\", direction=\"max\")"
      ],
      "metadata": {
        "id": "0yXZPDPsj_rf"
      },
      "id": "0yXZPDPsj_rf",
      "execution_count": null,
      "outputs": []
    },
    {
      "cell_type": "code",
      "source": [
        "#!rm -rf keras_tuner_dir/disaster_lstm_bidir_tuner"
      ],
      "metadata": {
        "id": "vdbXG6TCkcdN"
      },
      "id": "vdbXG6TCkcdN",
      "execution_count": null,
      "outputs": []
    },
    {
      "cell_type": "code",
      "source": [
        "tuner= kt.Hyperband(\n",
        "    build_model,\n",
        "    objective=objective,\n",
        "    max_epochs=10,\n",
        "    factor=3,\n",
        "    directory='keras_tuner_dir',\n",
        "    project_name='disaster_lstm_bidir_tuner'\n",
        ")\n",
        "\n",
        "stop_early = tf.keras.callbacks.EarlyStopping(\n",
        "    monitor=\"val_f1_score\",\n",
        "    mode=\"max\",\n",
        "    patience=3,\n",
        "    restore_best_weights=True,\n",
        "    verbose = 1\n",
        ")\n",
        "tuner.search(train_dataset, validation_data = val_dataset, callbacks=[stop_early])"
      ],
      "metadata": {
        "colab": {
          "base_uri": "https://localhost:8080/"
        },
        "id": "JRwTFvGvNYG_",
        "outputId": "a23d7592-5f4b-4cb0-d4d7-193d9c0280f9"
      },
      "id": "JRwTFvGvNYG_",
      "execution_count": null,
      "outputs": [
        {
          "output_type": "stream",
          "name": "stdout",
          "text": [
            "Trial 30 Complete [00h 06m 43s]\n",
            "val_f1_score: 0.9792331457138062\n",
            "\n",
            "Best val_f1_score So Far: 0.9813374280929565\n",
            "Total elapsed time: 01h 23m 31s\n"
          ]
        }
      ]
    },
    {
      "cell_type": "markdown",
      "source": [
        "### Get Best Hyperparameters & View Summary"
      ],
      "metadata": {
        "id": "bImceN5KOD_D"
      },
      "id": "bImceN5KOD_D"
    },
    {
      "cell_type": "code",
      "source": [
        "best_model = tuner.get_best_models(num_models=1)[0]\n",
        "best_hps = tuner.get_best_hyperparameters(1)[0]\n",
        "\n",
        "print(f\"Best learning rate: {best_hps['learning_rate']}\")\n",
        "print(f\"Best dropout rate: {best_hps['dropout_rate']}\")\n",
        "print(f\"Best max_tokens: {best_hps['max_tokens']}\")"
      ],
      "metadata": {
        "colab": {
          "base_uri": "https://localhost:8080/"
        },
        "id": "-tEIG-xeOGsx",
        "outputId": "4ee7cf06-a1b4-4e60-e2df-81d58230691a"
      },
      "id": "-tEIG-xeOGsx",
      "execution_count": null,
      "outputs": [
        {
          "output_type": "stream",
          "name": "stdout",
          "text": [
            "Best learning rate: 0.01\n",
            "Best dropout rate: 0.2\n",
            "Best max_tokens: 7000\n"
          ]
        }
      ]
    },
    {
      "cell_type": "code",
      "source": [
        "tuner.results_summary()\n"
      ],
      "metadata": {
        "colab": {
          "base_uri": "https://localhost:8080/"
        },
        "id": "2blT_s6FjT3C",
        "outputId": "cb150861-f4a2-4841-c3e3-93d02eafc615"
      },
      "id": "2blT_s6FjT3C",
      "execution_count": null,
      "outputs": [
        {
          "output_type": "stream",
          "name": "stdout",
          "text": [
            "Results summary\n",
            "Results in keras_tuner_dir/disaster_lstm_bidir_tuner\n",
            "Showing 10 best trials\n",
            "Objective(name=\"val_f1_score\", direction=\"max\")\n",
            "\n",
            "Trial 0024 summary\n",
            "Hyperparameters:\n",
            "max_tokens: 7000\n",
            "dropout_rate: 0.2\n",
            "learning_rate: 0.01\n",
            "tuner/epochs: 10\n",
            "tuner/initial_epoch: 4\n",
            "tuner/bracket: 1\n",
            "tuner/round: 1\n",
            "tuner/trial_id: 0023\n",
            "Score: 0.9813374280929565\n",
            "\n",
            "Trial 0025 summary\n",
            "Hyperparameters:\n",
            "max_tokens: 7000\n",
            "dropout_rate: 0.4\n",
            "learning_rate: 0.01\n",
            "tuner/epochs: 10\n",
            "tuner/initial_epoch: 4\n",
            "tuner/bracket: 1\n",
            "tuner/round: 1\n",
            "tuner/trial_id: 0020\n",
            "Score: 0.9802730679512024\n",
            "\n",
            "Trial 0029 summary\n",
            "Hyperparameters:\n",
            "max_tokens: 7000\n",
            "dropout_rate: 0.3\n",
            "learning_rate: 0.01\n",
            "tuner/epochs: 10\n",
            "tuner/initial_epoch: 0\n",
            "tuner/bracket: 0\n",
            "tuner/round: 0\n",
            "Score: 0.9792331457138062\n",
            "\n",
            "Trial 0017 summary\n",
            "Hyperparameters:\n",
            "max_tokens: 5000\n",
            "dropout_rate: 0.2\n",
            "learning_rate: 0.01\n",
            "tuner/epochs: 10\n",
            "tuner/initial_epoch: 4\n",
            "tuner/bracket: 2\n",
            "tuner/round: 2\n",
            "tuner/trial_id: 0012\n",
            "Score: 0.9759876132011414\n",
            "\n",
            "Trial 0016 summary\n",
            "Hyperparameters:\n",
            "max_tokens: 7000\n",
            "dropout_rate: 0.4\n",
            "learning_rate: 0.001\n",
            "tuner/epochs: 10\n",
            "tuner/initial_epoch: 4\n",
            "tuner/bracket: 2\n",
            "tuner/round: 2\n",
            "tuner/trial_id: 0014\n",
            "Score: 0.9738717079162598\n",
            "\n",
            "Trial 0028 summary\n",
            "Hyperparameters:\n",
            "max_tokens: 3000\n",
            "dropout_rate: 0.4\n",
            "learning_rate: 0.01\n",
            "tuner/epochs: 10\n",
            "tuner/initial_epoch: 0\n",
            "tuner/bracket: 0\n",
            "tuner/round: 0\n",
            "Score: 0.9596773386001587\n",
            "\n",
            "Trial 0023 summary\n",
            "Hyperparameters:\n",
            "max_tokens: 7000\n",
            "dropout_rate: 0.2\n",
            "learning_rate: 0.01\n",
            "tuner/epochs: 4\n",
            "tuner/initial_epoch: 0\n",
            "tuner/bracket: 1\n",
            "tuner/round: 0\n",
            "Score: 0.9527620673179626\n",
            "\n",
            "Trial 0014 summary\n",
            "Hyperparameters:\n",
            "max_tokens: 7000\n",
            "dropout_rate: 0.4\n",
            "learning_rate: 0.001\n",
            "tuner/epochs: 4\n",
            "tuner/initial_epoch: 2\n",
            "tuner/bracket: 2\n",
            "tuner/round: 1\n",
            "tuner/trial_id: 0002\n",
            "Score: 0.9465529918670654\n",
            "\n",
            "Trial 0020 summary\n",
            "Hyperparameters:\n",
            "max_tokens: 7000\n",
            "dropout_rate: 0.4\n",
            "learning_rate: 0.01\n",
            "tuner/epochs: 4\n",
            "tuner/initial_epoch: 0\n",
            "tuner/bracket: 1\n",
            "tuner/round: 0\n",
            "Score: 0.9423075914382935\n",
            "\n",
            "Trial 0026 summary\n",
            "Hyperparameters:\n",
            "max_tokens: 7000\n",
            "dropout_rate: 0.2\n",
            "learning_rate: 0.0001\n",
            "tuner/epochs: 10\n",
            "tuner/initial_epoch: 0\n",
            "tuner/bracket: 0\n",
            "tuner/round: 0\n",
            "Score: 0.940345287322998\n"
          ]
        }
      ]
    },
    {
      "cell_type": "markdown",
      "source": [
        "#### Run the Best Tuned BiLSTM Model on Validation Data"
      ],
      "metadata": {
        "id": "sD_iH6mjMsRg"
      },
      "id": "sD_iH6mjMsRg"
    },
    {
      "cell_type": "code",
      "source": [
        "val_results = best_model.evaluate(val_dataset)\n",
        "print(f\"Validation results: {val_results}\")"
      ],
      "metadata": {
        "colab": {
          "base_uri": "https://localhost:8080/"
        },
        "id": "9fsIL6V04Zzt",
        "outputId": "b58d122a-c1ab-4d4b-9ebc-ca8ef35d6dd0"
      },
      "id": "9fsIL6V04Zzt",
      "execution_count": null,
      "outputs": [
        {
          "output_type": "stream",
          "name": "stdout",
          "text": [
            "\u001b[1m48/48\u001b[0m \u001b[32m━━━━━━━━━━━━━━━━━━━━\u001b[0m\u001b[37m\u001b[0m \u001b[1m6s\u001b[0m 34ms/step - accuracy: 0.9831 - f1_score: 0.9790 - loss: 0.0358\n",
            "Validation results: [0.03517850115895271, 0.9821310639381409, 0.9779590964317322]\n"
          ]
        }
      ]
    },
    {
      "cell_type": "markdown",
      "source": [
        "#### Build a Confusion Matrix (Tuned BiLSTM)\n",
        "\n",
        "We will once again build a confusion matrix from the new tuned model and inspect the results."
      ],
      "metadata": {
        "id": "e8zuPr01MyMG"
      },
      "id": "e8zuPr01MyMG"
    },
    {
      "cell_type": "code",
      "source": [
        "y_true = []\n",
        "y_pred = []\n",
        "\n",
        "for x_batch, y_batch in val_dataset:\n",
        "    preds = best_model.predict(x_batch)\n",
        "    y_true.extend(y_batch.numpy())\n",
        "    y_pred.extend((preds > 0.5).astype(int).flatten())"
      ],
      "metadata": {
        "colab": {
          "base_uri": "https://localhost:8080/"
        },
        "id": "Ndqd3zta6buG",
        "outputId": "8be53a4b-643f-429e-95be-59d88c20777d"
      },
      "id": "Ndqd3zta6buG",
      "execution_count": null,
      "outputs": [
        {
          "output_type": "stream",
          "name": "stdout",
          "text": [
            "\u001b[1m1/1\u001b[0m \u001b[32m━━━━━━━━━━━━━━━━━━━━\u001b[0m\u001b[37m\u001b[0m \u001b[1m0s\u001b[0m 281ms/step\n",
            "\u001b[1m1/1\u001b[0m \u001b[32m━━━━━━━━━━━━━━━━━━━━\u001b[0m\u001b[37m\u001b[0m \u001b[1m0s\u001b[0m 159ms/step\n",
            "\u001b[1m1/1\u001b[0m \u001b[32m━━━━━━━━━━━━━━━━━━━━\u001b[0m\u001b[37m\u001b[0m \u001b[1m0s\u001b[0m 183ms/step\n",
            "\u001b[1m1/1\u001b[0m \u001b[32m━━━━━━━━━━━━━━━━━━━━\u001b[0m\u001b[37m\u001b[0m \u001b[1m0s\u001b[0m 473ms/step\n",
            "\u001b[1m1/1\u001b[0m \u001b[32m━━━━━━━━━━━━━━━━━━━━\u001b[0m\u001b[37m\u001b[0m \u001b[1m0s\u001b[0m 269ms/step\n",
            "\u001b[1m1/1\u001b[0m \u001b[32m━━━━━━━━━━━━━━━━━━━━\u001b[0m\u001b[37m\u001b[0m \u001b[1m0s\u001b[0m 108ms/step\n",
            "\u001b[1m1/1\u001b[0m \u001b[32m━━━━━━━━━━━━━━━━━━━━\u001b[0m\u001b[37m\u001b[0m \u001b[1m0s\u001b[0m 96ms/step\n",
            "\u001b[1m1/1\u001b[0m \u001b[32m━━━━━━━━━━━━━━━━━━━━\u001b[0m\u001b[37m\u001b[0m \u001b[1m0s\u001b[0m 105ms/step\n",
            "\u001b[1m1/1\u001b[0m \u001b[32m━━━━━━━━━━━━━━━━━━━━\u001b[0m\u001b[37m\u001b[0m \u001b[1m0s\u001b[0m 94ms/step\n",
            "\u001b[1m1/1\u001b[0m \u001b[32m━━━━━━━━━━━━━━━━━━━━\u001b[0m\u001b[37m\u001b[0m \u001b[1m0s\u001b[0m 92ms/step\n",
            "\u001b[1m1/1\u001b[0m \u001b[32m━━━━━━━━━━━━━━━━━━━━\u001b[0m\u001b[37m\u001b[0m \u001b[1m0s\u001b[0m 93ms/step\n",
            "\u001b[1m1/1\u001b[0m \u001b[32m━━━━━━━━━━━━━━━━━━━━\u001b[0m\u001b[37m\u001b[0m \u001b[1m0s\u001b[0m 96ms/step\n",
            "\u001b[1m1/1\u001b[0m \u001b[32m━━━━━━━━━━━━━━━━━━━━\u001b[0m\u001b[37m\u001b[0m \u001b[1m0s\u001b[0m 100ms/step\n",
            "\u001b[1m1/1\u001b[0m \u001b[32m━━━━━━━━━━━━━━━━━━━━\u001b[0m\u001b[37m\u001b[0m \u001b[1m0s\u001b[0m 93ms/step\n",
            "\u001b[1m1/1\u001b[0m \u001b[32m━━━━━━━━━━━━━━━━━━━━\u001b[0m\u001b[37m\u001b[0m \u001b[1m0s\u001b[0m 92ms/step\n",
            "\u001b[1m1/1\u001b[0m \u001b[32m━━━━━━━━━━━━━━━━━━━━\u001b[0m\u001b[37m\u001b[0m \u001b[1m0s\u001b[0m 90ms/step\n",
            "\u001b[1m1/1\u001b[0m \u001b[32m━━━━━━━━━━━━━━━━━━━━\u001b[0m\u001b[37m\u001b[0m \u001b[1m0s\u001b[0m 92ms/step\n",
            "\u001b[1m1/1\u001b[0m \u001b[32m━━━━━━━━━━━━━━━━━━━━\u001b[0m\u001b[37m\u001b[0m \u001b[1m0s\u001b[0m 95ms/step\n",
            "\u001b[1m1/1\u001b[0m \u001b[32m━━━━━━━━━━━━━━━━━━━━\u001b[0m\u001b[37m\u001b[0m \u001b[1m0s\u001b[0m 90ms/step\n",
            "\u001b[1m1/1\u001b[0m \u001b[32m━━━━━━━━━━━━━━━━━━━━\u001b[0m\u001b[37m\u001b[0m \u001b[1m0s\u001b[0m 93ms/step\n",
            "\u001b[1m1/1\u001b[0m \u001b[32m━━━━━━━━━━━━━━━━━━━━\u001b[0m\u001b[37m\u001b[0m \u001b[1m0s\u001b[0m 92ms/step\n",
            "\u001b[1m1/1\u001b[0m \u001b[32m━━━━━━━━━━━━━━━━━━━━\u001b[0m\u001b[37m\u001b[0m \u001b[1m0s\u001b[0m 92ms/step\n",
            "\u001b[1m1/1\u001b[0m \u001b[32m━━━━━━━━━━━━━━━━━━━━\u001b[0m\u001b[37m\u001b[0m \u001b[1m0s\u001b[0m 87ms/step\n",
            "\u001b[1m1/1\u001b[0m \u001b[32m━━━━━━━━━━━━━━━━━━━━\u001b[0m\u001b[37m\u001b[0m \u001b[1m0s\u001b[0m 106ms/step\n",
            "\u001b[1m1/1\u001b[0m \u001b[32m━━━━━━━━━━━━━━━━━━━━\u001b[0m\u001b[37m\u001b[0m \u001b[1m0s\u001b[0m 91ms/step\n",
            "\u001b[1m1/1\u001b[0m \u001b[32m━━━━━━━━━━━━━━━━━━━━\u001b[0m\u001b[37m\u001b[0m \u001b[1m0s\u001b[0m 92ms/step\n",
            "\u001b[1m1/1\u001b[0m \u001b[32m━━━━━━━━━━━━━━━━━━━━\u001b[0m\u001b[37m\u001b[0m \u001b[1m0s\u001b[0m 94ms/step\n",
            "\u001b[1m1/1\u001b[0m \u001b[32m━━━━━━━━━━━━━━━━━━━━\u001b[0m\u001b[37m\u001b[0m \u001b[1m0s\u001b[0m 91ms/step\n",
            "\u001b[1m1/1\u001b[0m \u001b[32m━━━━━━━━━━━━━━━━━━━━\u001b[0m\u001b[37m\u001b[0m \u001b[1m0s\u001b[0m 86ms/step\n",
            "\u001b[1m1/1\u001b[0m \u001b[32m━━━━━━━━━━━━━━━━━━━━\u001b[0m\u001b[37m\u001b[0m \u001b[1m0s\u001b[0m 90ms/step\n",
            "\u001b[1m1/1\u001b[0m \u001b[32m━━━━━━━━━━━━━━━━━━━━\u001b[0m\u001b[37m\u001b[0m \u001b[1m0s\u001b[0m 96ms/step\n",
            "\u001b[1m1/1\u001b[0m \u001b[32m━━━━━━━━━━━━━━━━━━━━\u001b[0m\u001b[37m\u001b[0m \u001b[1m0s\u001b[0m 90ms/step\n",
            "\u001b[1m1/1\u001b[0m \u001b[32m━━━━━━━━━━━━━━━━━━━━\u001b[0m\u001b[37m\u001b[0m \u001b[1m0s\u001b[0m 122ms/step\n",
            "\u001b[1m1/1\u001b[0m \u001b[32m━━━━━━━━━━━━━━━━━━━━\u001b[0m\u001b[37m\u001b[0m \u001b[1m0s\u001b[0m 118ms/step\n",
            "\u001b[1m1/1\u001b[0m \u001b[32m━━━━━━━━━━━━━━━━━━━━\u001b[0m\u001b[37m\u001b[0m \u001b[1m0s\u001b[0m 110ms/step\n",
            "\u001b[1m1/1\u001b[0m \u001b[32m━━━━━━━━━━━━━━━━━━━━\u001b[0m\u001b[37m\u001b[0m \u001b[1m0s\u001b[0m 186ms/step\n",
            "\u001b[1m1/1\u001b[0m \u001b[32m━━━━━━━━━━━━━━━━━━━━\u001b[0m\u001b[37m\u001b[0m \u001b[1m0s\u001b[0m 142ms/step\n",
            "\u001b[1m1/1\u001b[0m \u001b[32m━━━━━━━━━━━━━━━━━━━━\u001b[0m\u001b[37m\u001b[0m \u001b[1m0s\u001b[0m 134ms/step\n",
            "\u001b[1m1/1\u001b[0m \u001b[32m━━━━━━━━━━━━━━━━━━━━\u001b[0m\u001b[37m\u001b[0m \u001b[1m0s\u001b[0m 127ms/step\n",
            "\u001b[1m1/1\u001b[0m \u001b[32m━━━━━━━━━━━━━━━━━━━━\u001b[0m\u001b[37m\u001b[0m \u001b[1m0s\u001b[0m 148ms/step\n",
            "\u001b[1m1/1\u001b[0m \u001b[32m━━━━━━━━━━━━━━━━━━━━\u001b[0m\u001b[37m\u001b[0m \u001b[1m0s\u001b[0m 156ms/step\n",
            "\u001b[1m1/1\u001b[0m \u001b[32m━━━━━━━━━━━━━━━━━━━━\u001b[0m\u001b[37m\u001b[0m \u001b[1m0s\u001b[0m 130ms/step\n",
            "\u001b[1m1/1\u001b[0m \u001b[32m━━━━━━━━━━━━━━━━━━━━\u001b[0m\u001b[37m\u001b[0m \u001b[1m0s\u001b[0m 127ms/step\n",
            "\u001b[1m1/1\u001b[0m \u001b[32m━━━━━━━━━━━━━━━━━━━━\u001b[0m\u001b[37m\u001b[0m \u001b[1m0s\u001b[0m 143ms/step\n",
            "\u001b[1m1/1\u001b[0m \u001b[32m━━━━━━━━━━━━━━━━━━━━\u001b[0m\u001b[37m\u001b[0m \u001b[1m0s\u001b[0m 144ms/step\n",
            "\u001b[1m1/1\u001b[0m \u001b[32m━━━━━━━━━━━━━━━━━━━━\u001b[0m\u001b[37m\u001b[0m \u001b[1m0s\u001b[0m 135ms/step\n",
            "\u001b[1m1/1\u001b[0m \u001b[32m━━━━━━━━━━━━━━━━━━━━\u001b[0m\u001b[37m\u001b[0m \u001b[1m0s\u001b[0m 146ms/step\n",
            "\u001b[1m1/1\u001b[0m \u001b[32m━━━━━━━━━━━━━━━━━━━━\u001b[0m\u001b[37m\u001b[0m \u001b[1m0s\u001b[0m 156ms/step\n"
          ]
        }
      ]
    },
    {
      "cell_type": "code",
      "source": [
        "cm = confusion_matrix(y_true, y_pred)\n",
        "disp = ConfusionMatrixDisplay(confusion_matrix=cm, display_labels=['Not Disaster (0)', 'Disaster (1)'])\n",
        "disp.plot(cmap='Blues')\n",
        "plt.title(\"Confusion Matrix for Tuned BiLSTM Model\")\n",
        "plt.show()\n"
      ],
      "metadata": {
        "colab": {
          "base_uri": "https://localhost:8080/",
          "height": 472
        },
        "id": "40cPdN9b6jvl",
        "outputId": "fe7dc3dd-2fec-432c-8f42-61e4c92b4ad4"
      },
      "id": "40cPdN9b6jvl",
      "execution_count": null,
      "outputs": [
        {
          "output_type": "display_data",
          "data": {
            "text/plain": [
              "<Figure size 640x480 with 2 Axes>"
            ],
            "image/png": "[encoded data removed]"
          },
          "metadata": {}
        }
      ]
    },
    {
      "cell_type": "markdown",
      "source": [
        "#### Tuned BiLSTM Confusion Matrix Summary\n",
        "\n",
        "We can see that the tuned model did perform better on the validation data, but we are still seeing the same pattern of many more false negatives to false positives."
      ],
      "metadata": {
        "id": "jhDhYdUhM8g6"
      },
      "id": "jhDhYdUhM8g6"
    },
    {
      "cell_type": "markdown",
      "source": [
        "### Predict on Test Data (Tuned BiLSTM)\n",
        "\n",
        "Our F1 score for the validation data was once again very high at 0.9790 and we will now predict on the test data and submit the predictions to Kaggle."
      ],
      "metadata": {
        "id": "Do3Yp6iULW4x"
      },
      "id": "Do3Yp6iULW4x"
    },
    {
      "cell_type": "code",
      "source": [
        "test_text = tf.convert_to_tensor(df_test_data['clean_text'].values, dtype=tf.string)\n",
        "preds = best_model.predict(test_text)\n",
        "preds_binary = (preds > 0.5).astype(int).flatten()"
      ],
      "metadata": {
        "colab": {
          "base_uri": "https://localhost:8080/"
        },
        "id": "SvYZNU2n4Ufh",
        "outputId": "7eb664b4-c172-4bfb-919d-b23fad704904"
      },
      "id": "SvYZNU2n4Ufh",
      "execution_count": null,
      "outputs": [
        {
          "output_type": "stream",
          "name": "stdout",
          "text": [
            "\u001b[1m102/102\u001b[0m \u001b[32m━━━━━━━━━━━━━━━━━━━━\u001b[0m\u001b[37m\u001b[0m \u001b[1m7s\u001b[0m 43ms/step\n"
          ]
        }
      ]
    },
    {
      "cell_type": "code",
      "source": [
        "submission_LSTM_bidir_tuned = pd.DataFrame({\n",
        "    'id': df_test_data['id'],\n",
        "    'target': preds_binary\n",
        "})\n",
        "\n",
        "submission_LSTM_bidir_tuned.to_csv(\"submission_lstm_bidir_tuned.csv\", index=False)\n"
      ],
      "metadata": {
        "id": "XNIzzH-X41b4"
      },
      "id": "XNIzzH-X41b4",
      "execution_count": null,
      "outputs": []
    },
    {
      "cell_type": "code",
      "source": [
        "files.download('submission_lstm_bidir_tuned.csv')"
      ],
      "metadata": {
        "colab": {
          "base_uri": "https://localhost:8080/",
          "height": 17
        },
        "id": "AhS7zGH35Lpn",
        "outputId": "a03d9f63-0919-4f68-9841-1f2dacc05a1a"
      },
      "id": "AhS7zGH35Lpn",
      "execution_count": null,
      "outputs": [
        {
          "output_type": "display_data",
          "data": {
            "text/plain": [
              "<IPython.core.display.Javascript object>"
            ],
            "application/javascript": [
              "\n",
              "    async function download(id, filename, size) {\n",
              "      if (!google.colab.kernel.accessAllowed) {\n",
              "        return;\n",
              "      }\n",
              "      const div = document.createElement('div');\n",
              "      const label = document.createElement('label');\n",
              "      label.textContent = `Downloading \"${filename}\": `;\n",
              "      div.appendChild(label);\n",
              "      const progress = document.createElement('progress');\n",
              "      progress.max = size;\n",
              "      div.appendChild(progress);\n",
              "      document.body.appendChild(div);\n",
              "\n",
              "      const buffers = [];\n",
              "      let downloaded = 0;\n",
              "\n",
              "      const channel = await google.colab.kernel.comms.open(id);\n",
              "      // Send a message to notify the kernel that we're ready.\n",
              "      channel.send({})\n",
              "\n",
              "      for await (const message of channel.messages) {\n",
              "        // Send a message to notify the kernel that we're ready.\n",
              "        channel.send({})\n",
              "        if (message.buffers) {\n",
              "          for (const buffer of message.buffers) {\n",
              "            buffers.push(buffer);\n",
              "            downloaded += buffer.byteLength;\n",
              "            progress.value = downloaded;\n",
              "          }\n",
              "        }\n",
              "      }\n",
              "      const blob = new Blob(buffers, {type: 'application/binary'});\n",
              "      const a = document.createElement('a');\n",
              "      a.href = window.URL.createObjectURL(blob);\n",
              "      a.download = filename;\n",
              "      div.appendChild(a);\n",
              "      a.click();\n",
              "      div.remove();\n",
              "    }\n",
              "  "
            ]
          },
          "metadata": {}
        },
        {
          "output_type": "display_data",
          "data": {
            "text/plain": [
              "<IPython.core.display.Javascript object>"
            ],
            "application/javascript": [
              "download(\"download_4d7f3ace-3059-4c12-852a-05b9500d1488\", \"submission_lstm_bidir_tuned.csv\", 22746)"
            ]
          },
          "metadata": {}
        }
      ]
    },
    {
      "cell_type": "code",
      "source": [
        "best_model.save(\"models/best_lstm_bidir_tuned.keras\")"
      ],
      "metadata": {
        "id": "1wVbSRDm5CNx"
      },
      "id": "1wVbSRDm5CNx",
      "execution_count": null,
      "outputs": []
    },
    {
      "cell_type": "markdown",
      "source": [
        "#### Submission Score\n",
        "\n",
        "The tuning of hyperparameters did slightly improve the models performance with an F1 score of 0.75666 on the testing data. That being said, we are still seeing a relatively low F1 score in comparison to the validation set."
      ],
      "metadata": {
        "id": "sjANYmGGLSwP"
      },
      "id": "sjANYmGGLSwP"
    },
    {
      "cell_type": "markdown",
      "id": "c40af4bd-60d1-402a-b4dc-026e6a3f6cad",
      "metadata": {
        "id": "c40af4bd-60d1-402a-b4dc-026e6a3f6cad"
      },
      "source": [
        "## GRU Model\n",
        "\n",
        "Because we are seeing a gap in the F1 score, we are going to simplify the architecture by using GRU instead of LSTM and see if the simpler model performs better. We will still use the bidirectional wrapper and the initial setup will be the same as the base BiLSTM."
      ]
    },
    {
      "cell_type": "code",
      "source": [
        "VOCAB_SIZE = 5000\n",
        "encoder = tf.keras.layers.TextVectorization(max_tokens=VOCAB_SIZE)\n",
        "encoder.adapt(train_dataset.map(lambda text, label: text))"
      ],
      "metadata": {
        "id": "QKUCJu1PCWQY"
      },
      "id": "QKUCJu1PCWQY",
      "execution_count": 378,
      "outputs": []
    },
    {
      "cell_type": "markdown",
      "source": [
        "### Build & Compile the BiGRU Model"
      ],
      "metadata": {
        "id": "B7fCn7r5N9Dx"
      },
      "id": "B7fCn7r5N9Dx"
    },
    {
      "cell_type": "code",
      "source": [
        "tf.random.set_seed(SEED)\n",
        "model_gru = tf.keras.Sequential([\n",
        "    encoder,\n",
        "    tf.keras.layers.Embedding(\n",
        "        input_dim=len(encoder.get_vocabulary()),\n",
        "        output_dim=64,\n",
        "        mask_zero=True\n",
        "    ),\n",
        "    tf.keras.layers.Bidirectional(tf.keras.layers.GRU(64)),\n",
        "    tf.keras.layers.Dense(64, activation='relu'),\n",
        "    tf.keras.layers.Dense(1, activation='sigmoid')\n",
        "])"
      ],
      "metadata": {
        "id": "1mG4_Ygw1g-v"
      },
      "id": "1mG4_Ygw1g-v",
      "execution_count": 379,
      "outputs": []
    },
    {
      "cell_type": "code",
      "source": [
        "model_gru.compile(\n",
        "    loss='binary_crossentropy',\n",
        "    optimizer='adam',\n",
        "    metrics=['accuracy', tf.keras.metrics.F1Score(name='f1_score', average='micro', threshold=0.5)\n",
        "    ]\n",
        ")"
      ],
      "metadata": {
        "id": "tP0CvCxdCASm"
      },
      "id": "tP0CvCxdCASm",
      "execution_count": 380,
      "outputs": []
    },
    {
      "cell_type": "markdown",
      "source": [
        "### Fit the BiGru Model"
      ],
      "metadata": {
        "id": "xLKWN_g6N_AJ"
      },
      "id": "xLKWN_g6N_AJ"
    },
    {
      "cell_type": "code",
      "source": [
        "checkpoint_gru = tf.keras.callbacks.ModelCheckpoint(\n",
        "    \"models/best_model_GRU_bidirectional.keras\",\n",
        "    monitor=\"val_f1_score\",\n",
        "    mode=\"max\",\n",
        "    save_best_only=True,\n",
        "    save_weights_only=False,\n",
        "    verbose = 1\n",
        ")\n",
        "\n",
        "earlystop_gru = tf.keras.callbacks.EarlyStopping(\n",
        "    monitor=\"val_f1_score\",\n",
        "    mode=\"max\",\n",
        "    patience=3,\n",
        "    restore_best_weights=True,\n",
        "    verbose = 1\n",
        ")"
      ],
      "metadata": {
        "id": "hGDTpTz9CxRj"
      },
      "id": "hGDTpTz9CxRj",
      "execution_count": 381,
      "outputs": []
    },
    {
      "cell_type": "code",
      "source": [
        "history_gru = model_gru.fit(\n",
        "    train_dataset,\n",
        "    validation_data=val_dataset,\n",
        "    epochs=10,\n",
        "    callbacks=[checkpoint_gru, earlystop_gru]\n",
        ")\n"
      ],
      "metadata": {
        "colab": {
          "base_uri": "https://localhost:8080/"
        },
        "id": "0JbxLI4vDMfD",
        "outputId": "10088475-2dc2-4d33-d485-d471137ea585"
      },
      "id": "0JbxLI4vDMfD",
      "execution_count": 382,
      "outputs": [
        {
          "output_type": "stream",
          "name": "stdout",
          "text": [
            "Epoch 1/10\n",
            "\u001b[1m189/189\u001b[0m \u001b[32m━━━━━━━━━━━━━━━━━━━━\u001b[0m\u001b[37m\u001b[0m \u001b[1m0s\u001b[0m 30ms/step - accuracy: 0.6733 - f1_score: 0.3900 - loss: 0.6041\n",
            "Epoch 1: val_f1_score improved from -inf to 0.82383, saving model to /content/drive/My Drive/my_models/best_model_GRU_bidirectional.keras\n",
            "\u001b[1m189/189\u001b[0m \u001b[32m━━━━━━━━━━━━━━━━━━━━\u001b[0m\u001b[37m\u001b[0m \u001b[1m15s\u001b[0m 39ms/step - accuracy: 0.6736 - f1_score: 0.3913 - loss: 0.6037 - val_accuracy: 0.8610 - val_f1_score: 0.8238 - val_loss: 0.3527\n",
            "Epoch 2/10\n",
            "\u001b[1m189/189\u001b[0m \u001b[32m━━━━━━━━━━━━━━━━━━━━\u001b[0m\u001b[37m\u001b[0m \u001b[1m0s\u001b[0m 34ms/step - accuracy: 0.8626 - f1_score: 0.8325 - loss: 0.3424\n",
            "Epoch 2: val_f1_score improved from 0.82383 to 0.87927, saving model to /content/drive/My Drive/my_models/best_model_GRU_bidirectional.keras\n",
            "\u001b[1m189/189\u001b[0m \u001b[32m━━━━━━━━━━━━━━━━━━━━\u001b[0m\u001b[37m\u001b[0m \u001b[1m10s\u001b[0m 38ms/step - accuracy: 0.8626 - f1_score: 0.8325 - loss: 0.3425 - val_accuracy: 0.9040 - val_f1_score: 0.8793 - val_loss: 0.2577\n",
            "Epoch 3/10\n",
            "\u001b[1m189/189\u001b[0m \u001b[32m━━━━━━━━━━━━━━━━━━━━\u001b[0m\u001b[37m\u001b[0m \u001b[1m0s\u001b[0m 41ms/step - accuracy: 0.8932 - f1_score: 0.8656 - loss: 0.2675\n",
            "Epoch 3: val_f1_score improved from 0.87927 to 0.92184, saving model to /content/drive/My Drive/my_models/best_model_GRU_bidirectional.keras\n",
            "\u001b[1m189/189\u001b[0m \u001b[32m━━━━━━━━━━━━━━━━━━━━\u001b[0m\u001b[37m\u001b[0m \u001b[1m8s\u001b[0m 45ms/step - accuracy: 0.8931 - f1_score: 0.8655 - loss: 0.2677 - val_accuracy: 0.9358 - val_f1_score: 0.9218 - val_loss: 0.1936\n",
            "Epoch 4/10\n",
            "\u001b[1m188/189\u001b[0m \u001b[32m━━━━━━━━━━━━━━━━━━━\u001b[0m\u001b[37m━\u001b[0m \u001b[1m0s\u001b[0m 31ms/step - accuracy: 0.9308 - f1_score: 0.9149 - loss: 0.1987\n",
            "Epoch 4: val_f1_score improved from 0.92184 to 0.94229, saving model to /content/drive/My Drive/my_models/best_model_GRU_bidirectional.keras\n",
            "\u001b[1m189/189\u001b[0m \u001b[32m━━━━━━━━━━━━━━━━━━━━\u001b[0m\u001b[37m\u001b[0m \u001b[1m8s\u001b[0m 35ms/step - accuracy: 0.9306 - f1_score: 0.9148 - loss: 0.1989 - val_accuracy: 0.9517 - val_f1_score: 0.9423 - val_loss: 0.1537\n",
            "Epoch 5/10\n",
            "\u001b[1m189/189\u001b[0m \u001b[32m━━━━━━━━━━━━━━━━━━━━\u001b[0m\u001b[37m\u001b[0m \u001b[1m0s\u001b[0m 47ms/step - accuracy: 0.9460 - f1_score: 0.9361 - loss: 0.1563\n",
            "Epoch 5: val_f1_score did not improve from 0.94229\n",
            "\u001b[1m189/189\u001b[0m \u001b[32m━━━━━━━━━━━━━━━━━━━━\u001b[0m\u001b[37m\u001b[0m \u001b[1m9s\u001b[0m 50ms/step - accuracy: 0.9460 - f1_score: 0.9361 - loss: 0.1564 - val_accuracy: 0.9510 - val_f1_score: 0.9402 - val_loss: 0.1328\n",
            "Epoch 6/10\n",
            "\u001b[1m189/189\u001b[0m \u001b[32m━━━━━━━━━━━━━━━━━━━━\u001b[0m\u001b[37m\u001b[0m \u001b[1m0s\u001b[0m 31ms/step - accuracy: 0.9572 - f1_score: 0.9497 - loss: 0.1191\n",
            "Epoch 6: val_f1_score improved from 0.94229 to 0.95518, saving model to /content/drive/My Drive/my_models/best_model_GRU_bidirectional.keras\n",
            "\u001b[1m189/189\u001b[0m \u001b[32m━━━━━━━━━━━━━━━━━━━━\u001b[0m\u001b[37m\u001b[0m \u001b[1m6s\u001b[0m 34ms/step - accuracy: 0.9571 - f1_score: 0.9497 - loss: 0.1192 - val_accuracy: 0.9636 - val_f1_score: 0.9552 - val_loss: 0.0941\n",
            "Epoch 7/10\n",
            "\u001b[1m188/189\u001b[0m \u001b[32m━━━━━━━━━━━━━━━━━━━\u001b[0m\u001b[37m━\u001b[0m \u001b[1m0s\u001b[0m 31ms/step - accuracy: 0.9651 - f1_score: 0.9595 - loss: 0.1020\n",
            "Epoch 7: val_f1_score improved from 0.95518 to 0.96181, saving model to /content/drive/My Drive/my_models/best_model_GRU_bidirectional.keras\n",
            "\u001b[1m189/189\u001b[0m \u001b[32m━━━━━━━━━━━━━━━━━━━━\u001b[0m\u001b[37m\u001b[0m \u001b[1m11s\u001b[0m 35ms/step - accuracy: 0.9651 - f1_score: 0.9595 - loss: 0.1020 - val_accuracy: 0.9676 - val_f1_score: 0.9618 - val_loss: 0.0843\n",
            "Epoch 8/10\n",
            "\u001b[1m188/189\u001b[0m \u001b[32m━━━━━━━━━━━━━━━━━━━\u001b[0m\u001b[37m━\u001b[0m \u001b[1m0s\u001b[0m 43ms/step - accuracy: 0.9692 - f1_score: 0.9636 - loss: 0.0863\n",
            "Epoch 8: val_f1_score improved from 0.96181 to 0.97255, saving model to /content/drive/My Drive/my_models/best_model_GRU_bidirectional.keras\n",
            "\u001b[1m189/189\u001b[0m \u001b[32m━━━━━━━━━━━━━━━━━━━━\u001b[0m\u001b[37m\u001b[0m \u001b[1m9s\u001b[0m 46ms/step - accuracy: 0.9691 - f1_score: 0.9635 - loss: 0.0863 - val_accuracy: 0.9768 - val_f1_score: 0.9725 - val_loss: 0.0744\n",
            "Epoch 9/10\n",
            "\u001b[1m189/189\u001b[0m \u001b[32m━━━━━━━━━━━━━━━━━━━━\u001b[0m\u001b[37m\u001b[0m \u001b[1m0s\u001b[0m 31ms/step - accuracy: 0.9739 - f1_score: 0.9694 - loss: 0.0648\n",
            "Epoch 9: val_f1_score did not improve from 0.97255\n",
            "\u001b[1m189/189\u001b[0m \u001b[32m━━━━━━━━━━━━━━━━━━━━\u001b[0m\u001b[37m\u001b[0m \u001b[1m7s\u001b[0m 35ms/step - accuracy: 0.9739 - f1_score: 0.9694 - loss: 0.0649 - val_accuracy: 0.9709 - val_f1_score: 0.9659 - val_loss: 0.0505\n",
            "Epoch 10/10\n",
            "\u001b[1m189/189\u001b[0m \u001b[32m━━━━━━━━━━━━━━━━━━━━\u001b[0m\u001b[37m\u001b[0m \u001b[1m0s\u001b[0m 41ms/step - accuracy: 0.9726 - f1_score: 0.9678 - loss: 0.0588\n",
            "Epoch 10: val_f1_score did not improve from 0.97255\n",
            "\u001b[1m189/189\u001b[0m \u001b[32m━━━━━━━━━━━━━━━━━━━━\u001b[0m\u001b[37m\u001b[0m \u001b[1m8s\u001b[0m 44ms/step - accuracy: 0.9726 - f1_score: 0.9678 - loss: 0.0588 - val_accuracy: 0.9702 - val_f1_score: 0.9641 - val_loss: 0.0637\n",
            "Restoring model weights from the end of the best epoch: 8.\n"
          ]
        }
      ]
    },
    {
      "cell_type": "code",
      "source": [
        "with open('models/history_gru_bidirectional.pkl', 'wb') as f:\n",
        "    pickle.dump(history.history, f)"
      ],
      "metadata": {
        "id": "fNOND4R4DS0K"
      },
      "id": "fNOND4R4DS0K",
      "execution_count": 383,
      "outputs": []
    },
    {
      "cell_type": "code",
      "source": [
        "#Load History (Needed if in New Session)\n",
        "with open('models/history_gru_bidirectional.pkl', 'rb') as f:\n",
        "    history_dict = pickle.load(f)"
      ],
      "metadata": {
        "id": "xG5OIo_JDYXx"
      },
      "id": "xG5OIo_JDYXx",
      "execution_count": 384,
      "outputs": []
    },
    {
      "cell_type": "markdown",
      "source": [
        "### Evaluate Plots of GRU Model"
      ],
      "metadata": {
        "id": "oS5zYWj7Ounm"
      },
      "id": "oS5zYWj7Ounm"
    },
    {
      "cell_type": "code",
      "source": [
        "train_f1_gru = history_gru.history['f1_score']\n",
        "val_f1_gru = history_gru.history['val_f1_score']\n",
        "epochs_range = range(1, len(train_f1_gru) + 1)"
      ],
      "metadata": {
        "id": "KI-9-TMcDciy"
      },
      "id": "KI-9-TMcDciy",
      "execution_count": 385,
      "outputs": []
    },
    {
      "cell_type": "code",
      "source": [
        "fig, axs = plt.subplots(1, 3, figsize=(18, 5))\n",
        "\n",
        "# Accuracy\n",
        "axs[0].plot(history_gru.history['accuracy'], label='Train Acc')\n",
        "axs[0].plot(history_gru.history['val_accuracy'], label='Val Acc')\n",
        "axs[0].set_title('Accuracy - GRU')\n",
        "axs[0].legend()\n",
        "\n",
        "# F1 Score\n",
        "axs[1].plot(history_gru.history['f1_score'], label='Train F1')\n",
        "axs[1].plot(history_gru.history['val_f1_score'], label='Val F1')\n",
        "axs[1].set_title('F1 Score - GRU')\n",
        "axs[1].legend()\n",
        "\n",
        "# Loss\n",
        "axs[2].plot(history_gru.history['loss'], label='Train Loss')\n",
        "axs[2].plot(history_gru.history['val_loss'], label='Val Loss')\n",
        "axs[2].set_title('Loss - GRU')\n",
        "axs[2].legend()\n",
        "\n",
        "plt.tight_layout()\n",
        "plt.show()"
      ],
      "metadata": {
        "colab": {
          "base_uri": "https://localhost:8080/",
          "height": 527
        },
        "id": "GBiFhwRsDhnP",
        "outputId": "f9715a16-6a49-4077-b7c8-b678dcd94605"
      },
      "id": "GBiFhwRsDhnP",
      "execution_count": 386,
      "outputs": [
        {
          "output_type": "display_data",
          "data": {
            "text/plain": [
              "<Figure size 1800x500 with 3 Axes>"
            ],
            "image/png": "[encoded data removed]"
          },
          "metadata": {}
        }
      ]
    },
    {
      "cell_type": "markdown",
      "source": [
        "#### Evaluation Summary\n",
        "We're seeing a very similar shape in each of the plots as we saw with the BiLSTM model, however with the BiGRU architecture, scores began to flatten out at the 8th epoch versus the 10th in the BiLSTM."
      ],
      "metadata": {
        "id": "dZHxtOQiFIXP"
      },
      "id": "dZHxtOQiFIXP"
    },
    {
      "cell_type": "markdown",
      "source": [
        "### Build a Confusion Matrix (BiGRU)\n",
        "\n",
        "We'll next look at the confusion matrix to inspect the distribution of false positives and false negatives."
      ],
      "metadata": {
        "id": "o9Hv3H8UDpyU"
      },
      "id": "o9Hv3H8UDpyU"
    },
    {
      "cell_type": "code",
      "source": [
        "model_gru_best = keras.models.load_model('models/best_model_GRU_bidirectional.keras')\n"
      ],
      "metadata": {
        "id": "1gymCs-6DlY6"
      },
      "id": "1gymCs-6DlY6",
      "execution_count": 387,
      "outputs": []
    },
    {
      "cell_type": "code",
      "source": [
        "y_true_gru = []\n",
        "y_pred_gru = []\n",
        "\n",
        "for text_batch, label_batch in val_dataset:\n",
        "    preds = model_gru_best.predict(text_batch)\n",
        "    y_true_gru.extend(label_batch.numpy())\n",
        "    y_pred_gru.extend((preds > 0.5).astype(\"int\").flatten())"
      ],
      "metadata": {
        "colab": {
          "base_uri": "https://localhost:8080/"
        },
        "id": "8RGHh0JZDrsb",
        "outputId": "43bde2f7-472e-4f87-a926-96345c370c2d"
      },
      "id": "8RGHh0JZDrsb",
      "execution_count": 388,
      "outputs": [
        {
          "output_type": "stream",
          "name": "stdout",
          "text": [
            "\u001b[1m1/1\u001b[0m \u001b[32m━━━━━━━━━━━━━━━━━━━━\u001b[0m\u001b[37m\u001b[0m \u001b[1m1s\u001b[0m 641ms/step\n",
            "\u001b[1m1/1\u001b[0m \u001b[32m━━━━━━━━━━━━━━━━━━━━\u001b[0m\u001b[37m\u001b[0m \u001b[1m0s\u001b[0m 55ms/step\n",
            "\u001b[1m1/1\u001b[0m \u001b[32m━━━━━━━━━━━━━━━━━━━━\u001b[0m\u001b[37m\u001b[0m \u001b[1m0s\u001b[0m 48ms/step\n",
            "\u001b[1m1/1\u001b[0m \u001b[32m━━━━━━━━━━━━━━━━━━━━\u001b[0m\u001b[37m\u001b[0m \u001b[1m0s\u001b[0m 50ms/step\n",
            "\u001b[1m1/1\u001b[0m \u001b[32m━━━━━━━━━━━━━━━━━━━━\u001b[0m\u001b[37m\u001b[0m \u001b[1m0s\u001b[0m 51ms/step\n",
            "\u001b[1m1/1\u001b[0m \u001b[32m━━━━━━━━━━━━━━━━━━━━\u001b[0m\u001b[37m\u001b[0m \u001b[1m0s\u001b[0m 50ms/step\n",
            "\u001b[1m1/1\u001b[0m \u001b[32m━━━━━━━━━━━━━━━━━━━━\u001b[0m\u001b[37m\u001b[0m \u001b[1m0s\u001b[0m 49ms/step\n",
            "\u001b[1m1/1\u001b[0m \u001b[32m━━━━━━━━━━━━━━━━━━━━\u001b[0m\u001b[37m\u001b[0m \u001b[1m0s\u001b[0m 49ms/step\n",
            "\u001b[1m1/1\u001b[0m \u001b[32m━━━━━━━━━━━━━━━━━━━━\u001b[0m\u001b[37m\u001b[0m \u001b[1m0s\u001b[0m 55ms/step\n",
            "\u001b[1m1/1\u001b[0m \u001b[32m━━━━━━━━━━━━━━━━━━━━\u001b[0m\u001b[37m\u001b[0m \u001b[1m0s\u001b[0m 50ms/step\n",
            "\u001b[1m1/1\u001b[0m \u001b[32m━━━━━━━━━━━━━━━━━━━━\u001b[0m\u001b[37m\u001b[0m \u001b[1m0s\u001b[0m 51ms/step\n",
            "\u001b[1m1/1\u001b[0m \u001b[32m━━━━━━━━━━━━━━━━━━━━\u001b[0m\u001b[37m\u001b[0m \u001b[1m0s\u001b[0m 51ms/step\n",
            "\u001b[1m1/1\u001b[0m \u001b[32m━━━━━━━━━━━━━━━━━━━━\u001b[0m\u001b[37m\u001b[0m \u001b[1m0s\u001b[0m 55ms/step\n",
            "\u001b[1m1/1\u001b[0m \u001b[32m━━━━━━━━━━━━━━━━━━━━\u001b[0m\u001b[37m\u001b[0m \u001b[1m0s\u001b[0m 54ms/step\n",
            "\u001b[1m1/1\u001b[0m \u001b[32m━━━━━━━━━━━━━━━━━━━━\u001b[0m\u001b[37m\u001b[0m \u001b[1m0s\u001b[0m 51ms/step\n",
            "\u001b[1m1/1\u001b[0m \u001b[32m━━━━━━━━━━━━━━━━━━━━\u001b[0m\u001b[37m\u001b[0m \u001b[1m0s\u001b[0m 48ms/step\n",
            "\u001b[1m1/1\u001b[0m \u001b[32m━━━━━━━━━━━━━━━━━━━━\u001b[0m\u001b[37m\u001b[0m \u001b[1m0s\u001b[0m 51ms/step\n",
            "\u001b[1m1/1\u001b[0m \u001b[32m━━━━━━━━━━━━━━━━━━━━\u001b[0m\u001b[37m\u001b[0m \u001b[1m0s\u001b[0m 49ms/step\n",
            "\u001b[1m1/1\u001b[0m \u001b[32m━━━━━━━━━━━━━━━━━━━━\u001b[0m\u001b[37m\u001b[0m \u001b[1m0s\u001b[0m 51ms/step\n",
            "\u001b[1m1/1\u001b[0m \u001b[32m━━━━━━━━━━━━━━━━━━━━\u001b[0m\u001b[37m\u001b[0m \u001b[1m0s\u001b[0m 51ms/step\n",
            "\u001b[1m1/1\u001b[0m \u001b[32m━━━━━━━━━━━━━━━━━━━━\u001b[0m\u001b[37m\u001b[0m \u001b[1m0s\u001b[0m 47ms/step\n",
            "\u001b[1m1/1\u001b[0m \u001b[32m━━━━━━━━━━━━━━━━━━━━\u001b[0m\u001b[37m\u001b[0m \u001b[1m0s\u001b[0m 50ms/step\n",
            "\u001b[1m1/1\u001b[0m \u001b[32m━━━━━━━━━━━━━━━━━━━━\u001b[0m\u001b[37m\u001b[0m \u001b[1m0s\u001b[0m 51ms/step\n",
            "\u001b[1m1/1\u001b[0m \u001b[32m━━━━━━━━━━━━━━━━━━━━\u001b[0m\u001b[37m\u001b[0m \u001b[1m0s\u001b[0m 51ms/step\n",
            "\u001b[1m1/1\u001b[0m \u001b[32m━━━━━━━━━━━━━━━━━━━━\u001b[0m\u001b[37m\u001b[0m \u001b[1m0s\u001b[0m 51ms/step\n",
            "\u001b[1m1/1\u001b[0m \u001b[32m━━━━━━━━━━━━━━━━━━━━\u001b[0m\u001b[37m\u001b[0m \u001b[1m0s\u001b[0m 48ms/step\n",
            "\u001b[1m1/1\u001b[0m \u001b[32m━━━━━━━━━━━━━━━━━━━━\u001b[0m\u001b[37m\u001b[0m \u001b[1m0s\u001b[0m 50ms/step\n",
            "\u001b[1m1/1\u001b[0m \u001b[32m━━━━━━━━━━━━━━━━━━━━\u001b[0m\u001b[37m\u001b[0m \u001b[1m0s\u001b[0m 52ms/step\n",
            "\u001b[1m1/1\u001b[0m \u001b[32m━━━━━━━━━━━━━━━━━━━━\u001b[0m\u001b[37m\u001b[0m \u001b[1m0s\u001b[0m 50ms/step\n",
            "\u001b[1m1/1\u001b[0m \u001b[32m━━━━━━━━━━━━━━━━━━━━\u001b[0m\u001b[37m\u001b[0m \u001b[1m0s\u001b[0m 51ms/step\n",
            "\u001b[1m1/1\u001b[0m \u001b[32m━━━━━━━━━━━━━━━━━━━━\u001b[0m\u001b[37m\u001b[0m \u001b[1m0s\u001b[0m 68ms/step\n",
            "\u001b[1m1/1\u001b[0m \u001b[32m━━━━━━━━━━━━━━━━━━━━\u001b[0m\u001b[37m\u001b[0m \u001b[1m0s\u001b[0m 77ms/step\n",
            "\u001b[1m1/1\u001b[0m \u001b[32m━━━━━━━━━━━━━━━━━━━━\u001b[0m\u001b[37m\u001b[0m \u001b[1m0s\u001b[0m 76ms/step\n",
            "\u001b[1m1/1\u001b[0m \u001b[32m━━━━━━━━━━━━━━━━━━━━\u001b[0m\u001b[37m\u001b[0m \u001b[1m0s\u001b[0m 68ms/step\n",
            "\u001b[1m1/1\u001b[0m \u001b[32m━━━━━━━━━━━━━━━━━━━━\u001b[0m\u001b[37m\u001b[0m \u001b[1m0s\u001b[0m 85ms/step\n",
            "\u001b[1m1/1\u001b[0m \u001b[32m━━━━━━━━━━━━━━━━━━━━\u001b[0m\u001b[37m\u001b[0m \u001b[1m0s\u001b[0m 73ms/step\n",
            "\u001b[1m1/1\u001b[0m \u001b[32m━━━━━━━━━━━━━━━━━━━━\u001b[0m\u001b[37m\u001b[0m \u001b[1m0s\u001b[0m 78ms/step\n",
            "\u001b[1m1/1\u001b[0m \u001b[32m━━━━━━━━━━━━━━━━━━━━\u001b[0m\u001b[37m\u001b[0m \u001b[1m0s\u001b[0m 69ms/step\n",
            "\u001b[1m1/1\u001b[0m \u001b[32m━━━━━━━━━━━━━━━━━━━━\u001b[0m\u001b[37m\u001b[0m \u001b[1m0s\u001b[0m 77ms/step\n",
            "\u001b[1m1/1\u001b[0m \u001b[32m━━━━━━━━━━━━━━━━━━━━\u001b[0m\u001b[37m\u001b[0m \u001b[1m0s\u001b[0m 76ms/step\n",
            "\u001b[1m1/1\u001b[0m \u001b[32m━━━━━━━━━━━━━━━━━━━━\u001b[0m\u001b[37m\u001b[0m \u001b[1m0s\u001b[0m 72ms/step\n",
            "\u001b[1m1/1\u001b[0m \u001b[32m━━━━━━━━━━━━━━━━━━━━\u001b[0m\u001b[37m\u001b[0m \u001b[1m0s\u001b[0m 96ms/step\n",
            "\u001b[1m1/1\u001b[0m \u001b[32m━━━━━━━━━━━━━━━━━━━━\u001b[0m\u001b[37m\u001b[0m \u001b[1m0s\u001b[0m 71ms/step\n",
            "\u001b[1m1/1\u001b[0m \u001b[32m━━━━━━━━━━━━━━━━━━━━\u001b[0m\u001b[37m\u001b[0m \u001b[1m0s\u001b[0m 74ms/step\n",
            "\u001b[1m1/1\u001b[0m \u001b[32m━━━━━━━━━━━━━━━━━━━━\u001b[0m\u001b[37m\u001b[0m \u001b[1m0s\u001b[0m 75ms/step\n",
            "\u001b[1m1/1\u001b[0m \u001b[32m━━━━━━━━━━━━━━━━━━━━\u001b[0m\u001b[37m\u001b[0m \u001b[1m0s\u001b[0m 68ms/step\n",
            "\u001b[1m1/1\u001b[0m \u001b[32m━━━━━━━━━━━━━━━━━━━━\u001b[0m\u001b[37m\u001b[0m \u001b[1m0s\u001b[0m 74ms/step\n",
            "\u001b[1m1/1\u001b[0m \u001b[32m━━━━━━━━━━━━━━━━━━━━\u001b[0m\u001b[37m\u001b[0m \u001b[1m1s\u001b[0m 952ms/step\n"
          ]
        }
      ]
    },
    {
      "cell_type": "code",
      "source": [
        "cm_gru = confusion_matrix(y_true_gru, y_pred_gru)\n",
        "disp = ConfusionMatrixDisplay(confusion_matrix=cm_gru, display_labels=['Not Disaster (0)', 'Disaster (1)'])\n",
        "disp.plot(cmap='Blues')\n",
        "plt.title(\"Confusion Matrix for BiGRU Model\")\n",
        "plt.show()\n"
      ],
      "metadata": {
        "colab": {
          "base_uri": "https://localhost:8080/",
          "height": 472
        },
        "id": "xWL_Qhh7DwLA",
        "outputId": "501d6b72-0888-4b78-d3a9-8e74d5c8b750"
      },
      "id": "xWL_Qhh7DwLA",
      "execution_count": 389,
      "outputs": [
        {
          "output_type": "display_data",
          "data": {
            "text/plain": [
              "<Figure size 640x480 with 2 Axes>"
            ],
            "image/png": "[encoded data removed]"
          },
          "metadata": {}
        }
      ]
    },
    {
      "cell_type": "markdown",
      "source": [
        "#### BiGRU Confusion Matrix Summary\n",
        "Like the BiLSTM before it, there are more false negatives than false positives. This architecture produced slightly more false negatives than the untuned BiLSTM (35 vs 30) and slightly less false positives than the untuned BiLSTM (4 vs 5)."
      ],
      "metadata": {
        "id": "7NAc8hXAF3L_"
      },
      "id": "7NAc8hXAF3L_"
    },
    {
      "cell_type": "markdown",
      "source": [
        "### Predict on the Test Data (BiGRU)"
      ],
      "metadata": {
        "id": "gkd_NAMWPE7W"
      },
      "id": "gkd_NAMWPE7W"
    },
    {
      "cell_type": "code",
      "source": [
        "df_test_data['clean_text'] = df_test_data['text'].apply(clean_tweet)"
      ],
      "metadata": {
        "id": "W_KWH-CcGU3i"
      },
      "id": "W_KWH-CcGU3i",
      "execution_count": 390,
      "outputs": []
    },
    {
      "cell_type": "code",
      "source": [
        "test_text = df_test_data['clean_text']\n",
        "pred_gru_bidir = model_gru_best.predict(np.array(test_text))"
      ],
      "metadata": {
        "colab": {
          "base_uri": "https://localhost:8080/"
        },
        "id": "A_GYUuZYGdP-",
        "outputId": "d62b8962-47a1-45ed-f9eb-4164652aeeb2"
      },
      "id": "A_GYUuZYGdP-",
      "execution_count": 391,
      "outputs": [
        {
          "output_type": "stream",
          "name": "stdout",
          "text": [
            "\u001b[1m102/102\u001b[0m \u001b[32m━━━━━━━━━━━━━━━━━━━━\u001b[0m\u001b[37m\u001b[0m \u001b[1m1s\u001b[0m 10ms/step\n"
          ]
        }
      ]
    },
    {
      "cell_type": "code",
      "source": [
        "submission_gru_bidir = pd.DataFrame({\n",
        "    'id': df_test_data['id'],\n",
        "    'target': (pred_gru_bidir > 0.5).astype(int).flatten()\n",
        "})"
      ],
      "metadata": {
        "id": "o8m4RcA8Gk2x"
      },
      "id": "o8m4RcA8Gk2x",
      "execution_count": 392,
      "outputs": []
    },
    {
      "cell_type": "code",
      "source": [
        "submission_gru_bidir.to_csv('submission_gru_bidir.csv', index=False)"
      ],
      "metadata": {
        "id": "Cr1aQOJ2Grfg"
      },
      "id": "Cr1aQOJ2Grfg",
      "execution_count": 393,
      "outputs": []
    },
    {
      "cell_type": "code",
      "source": [
        "files.download('submission_gru_bidir.csv')"
      ],
      "metadata": {
        "colab": {
          "base_uri": "https://localhost:8080/",
          "height": 17
        },
        "id": "whXlSDrWGwPw",
        "outputId": "ee74a846-7b8a-44c2-8352-11937bfe5f94"
      },
      "id": "whXlSDrWGwPw",
      "execution_count": 395,
      "outputs": [
        {
          "output_type": "display_data",
          "data": {
            "text/plain": [
              "<IPython.core.display.Javascript object>"
            ],
            "application/javascript": [
              "\n",
              "    async function download(id, filename, size) {\n",
              "      if (!google.colab.kernel.accessAllowed) {\n",
              "        return;\n",
              "      }\n",
              "      const div = document.createElement('div');\n",
              "      const label = document.createElement('label');\n",
              "      label.textContent = `Downloading \"${filename}\": `;\n",
              "      div.appendChild(label);\n",
              "      const progress = document.createElement('progress');\n",
              "      progress.max = size;\n",
              "      div.appendChild(progress);\n",
              "      document.body.appendChild(div);\n",
              "\n",
              "      const buffers = [];\n",
              "      let downloaded = 0;\n",
              "\n",
              "      const channel = await google.colab.kernel.comms.open(id);\n",
              "      // Send a message to notify the kernel that we're ready.\n",
              "      channel.send({})\n",
              "\n",
              "      for await (const message of channel.messages) {\n",
              "        // Send a message to notify the kernel that we're ready.\n",
              "        channel.send({})\n",
              "        if (message.buffers) {\n",
              "          for (const buffer of message.buffers) {\n",
              "            buffers.push(buffer);\n",
              "            downloaded += buffer.byteLength;\n",
              "            progress.value = downloaded;\n",
              "          }\n",
              "        }\n",
              "      }\n",
              "      const blob = new Blob(buffers, {type: 'application/binary'});\n",
              "      const a = document.createElement('a');\n",
              "      a.href = window.URL.createObjectURL(blob);\n",
              "      a.download = filename;\n",
              "      div.appendChild(a);\n",
              "      a.click();\n",
              "      div.remove();\n",
              "    }\n",
              "  "
            ]
          },
          "metadata": {}
        },
        {
          "output_type": "display_data",
          "data": {
            "text/plain": [
              "<IPython.core.display.Javascript object>"
            ],
            "application/javascript": [
              "download(\"download_357382f8-eccb-46a5-a71c-a3569fb0fd3c\", \"submission_gru_bidir.csv\", 22746)"
            ]
          },
          "metadata": {}
        }
      ]
    },
    {
      "cell_type": "markdown",
      "source": [
        "#### Submission Score Summary\n",
        "\n",
        "The BiGRU architecture did not perform as well as the tuned BiLSTM, but it did out perform the base BiLSTM with an F1 score of 0.75329."
      ],
      "metadata": {
        "id": "irEj2dh5PQ8W"
      },
      "id": "irEj2dh5PQ8W"
    },
    {
      "cell_type": "markdown",
      "id": "19014590-3a92-4d65-b3a2-54a4c31ee212",
      "metadata": {
        "id": "19014590-3a92-4d65-b3a2-54a4c31ee212"
      },
      "source": [
        "# Results\n",
        "\n",
        "When comparing the confusion matrices for the three models, we can see that the Tuned BiLSTM performed the best on the validation dataset, with less false positives and false negatives than the other two models. All three models tended to have a harder time identify disaster tweets versus not disaster tweets which can be seen in the fact that they all have much higher false negative rates than false positive rates. 30 to 5 for the original bidirectional LSTM, 22 to 2 for the tuned bidirectional LSTM and 35 to 4 for the bidirectional GRU.\n",
        "\n",
        "The Tuned BiLSTM performed better not only on the validation data but on the testing data as well and achieved the highest F1 score of the three at .75666. That being said, the F1 score for the testing data was still quite a bit lower and suggests further improvements could be made.\n"
      ]
    },
    {
      "cell_type": "code",
      "source": [
        "fig, axes = plt.subplots(1, 3, figsize=(18, 5))\n",
        "\n",
        "#Original BiLSTM\n",
        "cm_orig = confusion_matrix(y_true_og, y_pred_og)\n",
        "disp_orig = ConfusionMatrixDisplay(confusion_matrix=cm_orig, display_labels=[\"Not Disaster\", \"Disaster\"])\n",
        "disp_orig.plot(ax=axes[0], cmap=\"Blues\", colorbar=False)\n",
        "axes[0].set_title(\"Original Model\")\n",
        "\n",
        "# Tuned BiLSTM\n",
        "cm_tuned = confusion_matrix(y_true, y_pred)\n",
        "disp_tuned = ConfusionMatrixDisplay(confusion_matrix=cm_tuned, display_labels=[\"Not Disaster\", \"Disaster\"])\n",
        "disp_tuned.plot(ax=axes[1], cmap=\"Purples\", colorbar=False)\n",
        "axes[1].set_title(\"Tuned Model\")\n",
        "\n",
        "# BiGRU model\n",
        "cm_gru = confusion_matrix(y_true_gru, y_pred_gru)\n",
        "disp_gru = ConfusionMatrixDisplay(confusion_matrix=cm_gru, display_labels=[\"Not Disaster\", \"Disaster\"])\n",
        "disp_gru.plot(ax=axes[2], cmap=\"Greens\", colorbar=False)\n",
        "axes[2].set_title(\"BiGRU Model\")\n",
        "\n",
        "plt.suptitle(\"Confusion Matrix Comparison\", fontsize=14)\n",
        "plt.tight_layout()\n",
        "plt.show()"
      ],
      "metadata": {
        "colab": {
          "base_uri": "https://localhost:8080/",
          "height": 532
        },
        "id": "7UlTO4HD9Ncf",
        "outputId": "4f1a7c58-db7d-40ff-a762-f37fdf81aaa2"
      },
      "id": "7UlTO4HD9Ncf",
      "execution_count": 396,
      "outputs": [
        {
          "output_type": "display_data",
          "data": {
            "text/plain": [
              "<Figure size 1800x500 with 3 Axes>"
            ],
            "image/png": "[encoded data removed]"
          },
          "metadata": {}
        }
      ]
    },
    {
      "cell_type": "markdown",
      "source": [
        "![Screenshot 2025-05-28 at 2.01.07 PM.png](data:image/png;base64,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)"
      ],
      "metadata": {
        "id": "Sc8ZpxarRLLM"
      },
      "id": "Sc8ZpxarRLLM"
    },
    {
      "cell_type": "markdown",
      "id": "d866fa75-2425-4e5f-a391-89a25a896abb",
      "metadata": {
        "id": "d866fa75-2425-4e5f-a391-89a25a896abb"
      },
      "source": [
        "# Conclusions\n",
        "\n",
        "While the tuned BiLSTM model performed well, there are still several potential improvements worth exploring. Further data cleaning such as handling emojis, correcting informal slang and creating a custom stopword list could help better capture the tone and context of the disaster-related tweets. From a modeling perspective, additional tuning such as including regularization techniques or pretrained embeddings may improve the model performance. In addition, while the base BiGRU didn't perform as well as the tuned BiLSTM, it did perform better than the base BiLSTM and therefore it might be worth adjusting the hyperparameters on that model to see if the F1 score improves. Finally, exploring other architectures such as a stacked LSTMs may lead to further improvements in predictive performance.  "
      ]
    },
    {
      "cell_type": "markdown",
      "id": "be634a03-5fca-405b-89f3-21ccb356271d",
      "metadata": {
        "id": "be634a03-5fca-405b-89f3-21ccb356271d"
      },
      "source": [
        "# References\n",
        "\n",
        "https://www.kaggle.com/code/alexia/kerasnlp-starter-notebook-disaster-tweets/notebook\n",
        "\n",
        "https://www.kaggle.com/code/jagdmir/tweet-analysis-ann-bert-cnn-n-gram-cnn\n",
        "\n",
        "https://www.geeksforgeeks.org/python-efficient-text-data-cleaning/\n",
        "\n",
        "https://pub.aimind.so/a-comprehensive-guide-to-text-preprocessing-for-twitter-data-getting-ready-for-sentiment-analysis-e7f91cd03671\n",
        "\n",
        "https://www.geeksforgeeks.org/introduction-to-recurrent-neural-network/\n",
        "\n",
        "https://www.tensorflow.org/text/tutorials/text_classification_rnn\n",
        "\n",
        "https://www.tensorflow.org/api_docs/python/tf/keras/metrics/F1Score\n",
        "\n",
        "https://www.tensorflow.org/tutorials/keras/keras_tuner\n",
        "\n",
        "\n"
      ]
    }
  ],
  "metadata": {
    "kernelspec": {
      "display_name": "Python 3 (ipykernel)",
      "language": "python",
      "name": "python3"
    },
    "language_info": {
      "codemirror_mode": {
        "name": "ipython",
        "version": 3
      },
      "file_extension": ".py",
      "mimetype": "text/x-python",
      "name": "python",
      "nbconvert_exporter": "python",
      "pygments_lexer": "ipython3",
      "version": "3.11.7"
    },
    "colab": {
      "provenance": []
    }
  },
  "nbformat": 4,
  "nbformat_minor": 5
}